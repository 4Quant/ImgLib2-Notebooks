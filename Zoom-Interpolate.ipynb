{
 "cells": [
  {
   "cell_type": "code",
   "execution_count": 1,
   "metadata": {
    "collapsed": false
   },
   "outputs": [
    {
     "name": "stdout",
     "output_type": "stream",
     "text": [
      ":: problems summary ::\n",
      ":::: WARNINGS\n",
      "\tUnable to reparse com.github.alexarchambault.jupyter#jupyter-scala-api_2.10.5;0.2.0-SNAPSHOT from sonatype-snapshots, using Sun Oct 25 20:00:40 CET 2015\n",
      "\n",
      "\tUnable to reparse com.github.alexarchambault.jupyter#jupyter-scala-api_2.10.5;0.2.0-SNAPSHOT from imagej.public, using Sun Oct 25 20:00:40 CET 2015\n",
      "\n",
      "\tSorting results from com.github.alexarchambault.jupyter#jupyter-scala-api_2.10.5;0.2.0-SNAPSHOT, using Sun Oct 25 20:00:40 CET 2015 and Sun Oct 25 20:00:40 CET 2015\n",
      "\n",
      "\tSorting results from com.github.alexarchambault.jupyter#jupyter-scala-api_2.10.5;0.2.0-SNAPSHOT, using Sun Oct 25 20:00:40 CET 2015 and Sun Oct 25 20:00:40 CET 2015\n",
      "\n",
      "\tChoosing imagej.public for com.github.alexarchambault.jupyter#jupyter-scala-api_2.10.5;0.2.0-SNAPSHOT\n",
      "\n",
      "\tUnable to reparse com.github.alexarchambault#ammonite-api_2.10.5;0.3.1-SNAPSHOT from sonatype-snapshots, using Wed Oct 21 11:44:30 CEST 2015\n",
      "\n",
      "\tUnable to reparse com.github.alexarchambault#ammonite-api_2.10.5;0.3.1-SNAPSHOT from imagej.public, using Wed Oct 21 11:44:30 CEST 2015\n",
      "\n",
      "\tSorting results from com.github.alexarchambault#ammonite-api_2.10.5;0.3.1-SNAPSHOT, using Wed Oct 21 11:44:30 CEST 2015 and Wed Oct 21 11:44:30 CEST 2015\n",
      "\n",
      "\tSorting results from com.github.alexarchambault#ammonite-api_2.10.5;0.3.1-SNAPSHOT, using Wed Oct 21 11:44:30 CEST 2015 and Wed Oct 21 11:44:30 CEST 2015\n",
      "\n",
      "\tChoosing imagej.public for com.github.alexarchambault#ammonite-api_2.10.5;0.3.1-SNAPSHOT\n",
      "\n",
      "\tUnable to reparse com.github.alexarchambault.jupyter#jupyter-api_2.10;0.2.0-SNAPSHOT from sonatype-snapshots, using Wed Oct 21 17:05:05 CEST 2015\n",
      "\n",
      "\tUnable to reparse com.github.alexarchambault.jupyter#jupyter-api_2.10;0.2.0-SNAPSHOT from imagej.public, using Wed Oct 21 17:05:05 CEST 2015\n",
      "\n",
      "\tSorting results from com.github.alexarchambault.jupyter#jupyter-api_2.10;0.2.0-SNAPSHOT, using Wed Oct 21 17:05:05 CEST 2015 and Wed Oct 21 17:05:05 CEST 2015\n",
      "\n",
      "\tSorting results from com.github.alexarchambault.jupyter#jupyter-api_2.10;0.2.0-SNAPSHOT, using Wed Oct 21 17:05:05 CEST 2015 and Wed Oct 21 17:05:05 CEST 2015\n",
      "\n",
      "\tChoosing imagej.public for com.github.alexarchambault.jupyter#jupyter-api_2.10;0.2.0-SNAPSHOT\n",
      "\n",
      ":: problems summary ::\n",
      ":::: WARNINGS\n",
      "\tUnable to reparse com.github.alexarchambault.jupyter#jupyter-scala-api_2.10.5;0.2.0-SNAPSHOT from sonatype-snapshots, using Sun Oct 25 20:00:40 CET 2015\n",
      "\n",
      "\tUnable to reparse com.github.alexarchambault.jupyter#jupyter-scala-api_2.10.5;0.2.0-SNAPSHOT from imagej.public, using Sun Oct 25 20:00:40 CET 2015\n",
      "\n",
      "\tSorting results from com.github.alexarchambault.jupyter#jupyter-scala-api_2.10.5;0.2.0-SNAPSHOT, using Sun Oct 25 20:00:40 CET 2015 and Sun Oct 25 20:00:40 CET 2015\n",
      "\n",
      "\tSorting results from com.github.alexarchambault.jupyter#jupyter-scala-api_2.10.5;0.2.0-SNAPSHOT, using Sun Oct 25 20:00:40 CET 2015 and Sun Oct 25 20:00:40 CET 2015\n",
      "\n",
      "\tChoosing imagej.public for com.github.alexarchambault.jupyter#jupyter-scala-api_2.10.5;0.2.0-SNAPSHOT\n",
      "\n",
      "\tUnable to reparse com.github.alexarchambault#ammonite-api_2.10.5;0.3.1-SNAPSHOT from sonatype-snapshots, using Wed Oct 21 11:44:30 CEST 2015\n",
      "\n",
      "\tUnable to reparse com.github.alexarchambault#ammonite-api_2.10.5;0.3.1-SNAPSHOT from imagej.public, using Wed Oct 21 11:44:30 CEST 2015\n",
      "\n",
      "\tSorting results from com.github.alexarchambault#ammonite-api_2.10.5;0.3.1-SNAPSHOT, using Wed Oct 21 11:44:30 CEST 2015 and Wed Oct 21 11:44:30 CEST 2015\n",
      "\n",
      "\tSorting results from com.github.alexarchambault#ammonite-api_2.10.5;0.3.1-SNAPSHOT, using Wed Oct 21 11:44:30 CEST 2015 and Wed Oct 21 11:44:30 CEST 2015\n",
      "\n",
      "\tChoosing imagej.public for com.github.alexarchambault#ammonite-api_2.10.5;0.3.1-SNAPSHOT\n",
      "\n",
      "\tUnable to reparse com.github.alexarchambault.jupyter#jupyter-api_2.10;0.2.0-SNAPSHOT from sonatype-snapshots, using Wed Oct 21 17:05:05 CEST 2015\n",
      "\n",
      "\tUnable to reparse com.github.alexarchambault.jupyter#jupyter-api_2.10;0.2.0-SNAPSHOT from imagej.public, using Wed Oct 21 17:05:05 CEST 2015\n",
      "\n",
      "\tSorting results from com.github.alexarchambault.jupyter#jupyter-api_2.10;0.2.0-SNAPSHOT, using Wed Oct 21 17:05:05 CEST 2015 and Wed Oct 21 17:05:05 CEST 2015\n",
      "\n",
      "\tSorting results from com.github.alexarchambault.jupyter#jupyter-api_2.10;0.2.0-SNAPSHOT, using Wed Oct 21 17:05:05 CEST 2015 and Wed Oct 21 17:05:05 CEST 2015\n",
      "\n",
      "\tChoosing imagej.public for com.github.alexarchambault.jupyter#jupyter-api_2.10;0.2.0-SNAPSHOT\n",
      "\n"
     ]
    },
    {
     "data": {
      "text/plain": []
     },
     "metadata": {},
     "output_type": "display_data"
    }
   ],
   "source": [
    "load.resolver(\"imagej.public\" at \"http://maven.imagej.net/content/groups/public\")\n",
    "load.ivy(\"net.imagej\" % \"imagej\" % \"2.0.0-rc-44\") // use % since %% adds scala version\n",
    "load.ivy(\"de.christophkraemer\" % \"rhino-script-engine\" % \"1.1.0\")  // since it's not in the classpath with notebooks per default"
   ]
  },
  {
   "cell_type": "markdown",
   "metadata": {},
   "source": [
    "```java\n",
    "/*\n",
    " * #%L\n",
    " * ImgLib2: a general-purpose, multidimensional image processing library.\n",
    " * %%\n",
    " * Copyright (C) 2009 - 2015 Tobias Pietzsch, Stephan Preibisch, Barry DeZonia,\n",
    " * Stephan Saalfeld, Curtis Rueden, Albert Cardona, Christian Dietz, Jean-Yves\n",
    " * Tinevez, Johannes Schindelin, Jonathan Hale, Lee Kamentsky, Larry Lindsey, Mark\n",
    " * Hiner, Michael Zinsmaier, Martin Horn, Grant Harris, Aivar Grislis, John\n",
    " * Bogovic, Steffen Jaensch, Stefan Helfrich, Jan Funke, Nick Perry, Mark Longair,\n",
    " * Melissa Linkert and Dimiter Prodanov.\n",
    " * %%\n",
    " * Redistribution and use in source and binary forms, with or without\n",
    " * modification, are permitted provided that the following conditions are met:\n",
    " * \n",
    " * 1. Redistributions of source code must retain the above copyright notice,\n",
    " *    this list of conditions and the following disclaimer.\n",
    " * 2. Redistributions in binary form must reproduce the above copyright notice,\n",
    " *    this list of conditions and the following disclaimer in the documentation\n",
    " *    and/or other materials provided with the distribution.\n",
    " * \n",
    " * THIS SOFTWARE IS PROVIDED BY THE COPYRIGHT HOLDERS AND CONTRIBUTORS \"AS IS\"\n",
    " * AND ANY EXPRESS OR IMPLIED WARRANTIES, INCLUDING, BUT NOT LIMITED TO, THE\n",
    " * IMPLIED WARRANTIES OF MERCHANTABILITY AND FITNESS FOR A PARTICULAR PURPOSE\n",
    " * ARE DISCLAIMED. IN NO EVENT SHALL THE COPYRIGHT HOLDERS OR CONTRIBUTORS BE\n",
    " * LIABLE FOR ANY DIRECT, INDIRECT, INCIDENTAL, SPECIAL, EXEMPLARY, OR\n",
    " * CONSEQUENTIAL DAMAGES (INCLUDING, BUT NOT LIMITED TO, PROCUREMENT OF\n",
    " * SUBSTITUTE GOODS OR SERVICES; LOSS OF USE, DATA, OR PROFITS; OR BUSINESS\n",
    " * INTERRUPTION) HOWEVER CAUSED AND ON ANY THEORY OF LIABILITY, WHETHER IN\n",
    " * CONTRACT, STRICT LIABILITY, OR TORT (INCLUDING NEGLIGENCE OR OTHERWISE)\n",
    " * ARISING IN ANY WAY OUT OF THE USE OF THIS SOFTWARE, EVEN IF ADVISED OF THE\n",
    " * POSSIBILITY OF SUCH DAMAGE.\n",
    " * #L%\n",
    " */\n",
    "\n",
    "\n",
    "/**\n",
    " * Use three different interpolators to 10x magnify a small area\n",
    " */\n",
    "public class Example7\n",
    "{\n",
    "\tpublic Example7() throws ImgIOException\n",
    "\t{\n",
    "\t\t// open with ImgOpener using an ArrayImgFactory\n",
    "\t\tImg< FloatType > img = new ImgOpener().openImg( \"DrosophilaWing.tif\",\n",
    "\t\t\tnew FloatType() );\n",
    "\n",
    "\t\tImageJFunctions.show( img );\n",
    "\n",
    "\t\t// create an InterpolatorFactory RealRandomAccessible using nearst neighbor interpolation\n",
    "\t\tNearestNeighborInterpolatorFactory< FloatType > factory1 =\n",
    "\t\t\tnew NearestNeighborInterpolatorFactory< FloatType >();\n",
    "\n",
    "\t\t// create an InterpolatorFactory RealRandomAccessible using linear interpolation\n",
    "\t\tNLinearInterpolatorFactory< FloatType > factory2 =\n",
    "\t\t\tnew NLinearInterpolatorFactory< FloatType >();\n",
    "\n",
    "\t\t// create an InterpolatorFactory RealRandomAccessible using lanczos interpolation\n",
    "\t\tLanczosInterpolatorFactory< FloatType > factory3 =\n",
    "\t\t\tnew LanczosInterpolatorFactory< FloatType >();\n",
    "\n",
    "\t\t// create a RandomAccessible using the factory and views method\n",
    "\t\t// it is important to extend the image first, the interpolation scheme might\n",
    "\t\t// grep pixels outside of the boundaries even when locations inside are queried\n",
    "\t\t// as they integrate pixel information in a local neighborhood - the size of\n",
    "\t\t// this neighborhood depends on which interpolator is used\n",
    "\t\tRealRandomAccessible< FloatType > interpolant1 = Views.interpolate(\n",
    "\t\t\tViews.extendMirrorSingle( img ), factory1 );\n",
    "\t\tRealRandomAccessible< FloatType > interpolant2 = Views.interpolate(\n",
    "\t\t\tViews.extendMirrorSingle( img ), factory2 );\n",
    "\t\tRealRandomAccessible< FloatType > interpolant3 = Views.interpolate(\n",
    "\t\t\tViews.extendMirrorSingle( img ), factory3 );\n",
    "\n",
    "\t\t// define the area in the interpolated image\n",
    "\t\tdouble[] min = new double[]{ 105.12, 40.43 };\n",
    "\t\tdouble[] max = new double[]{ 129.56, 74.933 };\n",
    "\n",
    "\t\tFinalRealInterval interval = new FinalRealInterval( min, max );\n",
    "\n",
    "\t\tImageJFunctions.show( magnify( interpolant1, interval,\n",
    "\t\t\tnew ArrayImgFactory< FloatType >(), 10 ) ).setTitle( \"Nearest Neighbor Interpolation\" );\n",
    "\t\tImageJFunctions.show( magnify( interpolant2, interval,\n",
    "\t\t\tnew ArrayImgFactory< FloatType >(), 10 ) ).setTitle( \"Linear Interpolation\" );\n",
    "\t\tImageJFunctions.show( magnify( interpolant3, interval,\n",
    "\t\t\tnew ArrayImgFactory< FloatType >(), 10 ) ).setTitle( \"Lanczos Interpolation\" );\n",
    "\t}\n",
    "\n",
    "\t/**\n",
    "\t * Compute a magnified version of a given real interval\n",
    "\t *\n",
    "\t * @param source - the input data\n",
    "\t * @param interval - the real interval on the source that should be magnified\n",
    "\t * @param factory - the image factory for the output image\n",
    "\t * @param magnification - the ratio of magnification\n",
    "\t * @return - an Img that contains the magnified image content\n",
    "\t */\n",
    "\tpublic static < T extends Type< T > > Img< T > magnify( RealRandomAccessible< T > source,\n",
    "\t\tRealInterval interval, ImgFactory< T > factory, double magnification )\n",
    "\t{\n",
    "\t\tint numDimensions = interval.numDimensions();\n",
    "\n",
    "\t\t// compute the number of pixels of the output and the size of the real interval\n",
    "\t\tlong[] pixelSize = new long[ numDimensions ];\n",
    "\t\tdouble[] intervalSize = new double[ numDimensions ];\n",
    "\n",
    "\t\tfor ( int d = 0; d < numDimensions; ++d )\n",
    "\t\t{\n",
    "\t\t\tintervalSize[ d ] = interval.realMax( d ) - interval.realMin( d );\n",
    "\t\t\tpixelSize[ d ] = Math.round( intervalSize[ d ] * magnification ) + 1;\n",
    "\t\t}\n",
    "\n",
    "\t\t// create the output image\n",
    "\t\tImg< T > output = factory.create( pixelSize, source.realRandomAccess().get() );\n",
    "\n",
    "\t\t// cursor to iterate over all pixels\n",
    "\t\tCursor< T > cursor = output.localizingCursor();\n",
    "\n",
    "\t\t// create a RealRandomAccess on the source (interpolator)\n",
    "\t\tRealRandomAccess< T > realRandomAccess = source.realRandomAccess();\n",
    "\n",
    "\t\t// the temporary array to compute the position\n",
    "\t\tdouble[] tmp = new double[ numDimensions ];\n",
    "\n",
    "\t\t// for all pixels of the output image\n",
    "\t\twhile ( cursor.hasNext() )\n",
    "\t\t{\n",
    "\t\t\tcursor.fwd();\n",
    "\n",
    "\t\t\t// compute the appropriate location of the interpolator\n",
    "\t\t\tfor ( int d = 0; d < numDimensions; ++d )\n",
    "\t\t\t\ttmp[ d ] = cursor.getDoublePosition( d ) / output.realMax( d ) * intervalSize[ d ]\n",
    "\t\t\t\t\t\t+ interval.realMin( d );\n",
    "\n",
    "\t\t\t// set the position\n",
    "\t\t\trealRandomAccess.setPosition( tmp );\n",
    "\n",
    "\t\t\t// set the new value\n",
    "\t\t\tcursor.get().set( realRandomAccess.get() );\n",
    "\t\t}\n",
    "\n",
    "\t\treturn output;\n",
    "\t}\n",
    "\n",
    "}\n",
    "```\n",
    "\n"
   ]
  },
  {
   "cell_type": "code",
   "execution_count": 2,
   "metadata": {
    "collapsed": false
   },
   "outputs": [
    {
     "data": {
      "text/plain": [
       "defined \u001b[32mclass \u001b[36mpreviewDataset\u001b[0m\n",
       "\u001b[32mimport \u001b[36mnet.imglib2.`type`.numeric.RealType\u001b[0m\n",
       "defined \u001b[32mclass \u001b[36mdsImgPlus\u001b[0m"
      ]
     },
     "metadata": {},
     "output_type": "display_data"
    }
   ],
   "source": [
    "implicit class previewDataset(curSet: net.imagej.Dataset)(implicit ij: net.imagej.ImageJ) {\n",
    "    /** saves the file to a temporary directory, read it in again as a bytearray and feed it to the jupyter function **/\n",
    "    def preview() = {\n",
    "        val tFile = java.io.File.createTempFile(\"jupy\",\".jpg\")\n",
    "        ij.scifio().datasetIO().save(curSet,tFile.getPath())\n",
    "        val imgFIS = new java.io.FileInputStream(tFile.getPath())\n",
    "        val out = new Array[Byte](imgFIS.getChannel().size().toInt)\n",
    "        imgFIS.read(out)\n",
    "        display.jpg(out)\n",
    "    }\n",
    "}"
   ]
  },
  {
   "cell_type": "code",
   "execution_count": 3,
   "metadata": {
    "collapsed": false
   },
   "outputs": [
    {
     "data": {
      "text/plain": [
       "\u001b[32mimport \u001b[36mij.ImageJ\u001b[0m\n",
       "\u001b[32mimport \u001b[36mio.scif.img.ImgIOException\u001b[0m\n",
       "\u001b[32mimport \u001b[36mio.scif.img.ImgOpener\u001b[0m\n",
       "\u001b[32mimport \u001b[36mnet.imglib2.Cursor\u001b[0m\n",
       "\u001b[32mimport \u001b[36mnet.imglib2.FinalRealInterval\u001b[0m\n",
       "\u001b[32mimport \u001b[36mnet.imglib2.RealInterval\u001b[0m\n",
       "\u001b[32mimport \u001b[36mnet.imglib2.RealRandomAccess\u001b[0m\n",
       "\u001b[32mimport \u001b[36mnet.imglib2.RealRandomAccessible\u001b[0m\n",
       "\u001b[32mimport \u001b[36mnet.imglib2.img.Img\u001b[0m\n",
       "\u001b[32mimport \u001b[36mnet.imglib2.img.ImgFactory\u001b[0m\n",
       "\u001b[32mimport \u001b[36mnet.imglib2.img.array.ArrayImgFactory\u001b[0m\n",
       "\u001b[32mimport \u001b[36mnet.imglib2.img.display.imagej.ImageJFunctions\u001b[0m\n",
       "\u001b[32mimport \u001b[36mnet.imglib2.interpolation.randomaccess.LanczosInterpolatorFactory\u001b[0m\n",
       "\u001b[32mimport \u001b[36mnet.imglib2.interpolation.randomaccess.NLinearInterpolatorFactory\u001b[0m\n",
       "\u001b[32mimport \u001b[36mnet.imglib2.interpolation.randomaccess.NearestNeighborInterpolatorFactory\u001b[0m\n",
       "\u001b[32mimport \u001b[36mnet.imglib2.`type`.Type\u001b[0m\n",
       "\u001b[32mimport \u001b[36mnet.imglib2.`type`.numeric.real.FloatType\u001b[0m\n",
       "\u001b[32mimport \u001b[36mnet.imglib2.util.Util\u001b[0m\n",
       "\u001b[32mimport \u001b[36mnet.imglib2.view.Views\u001b[0m"
      ]
     },
     "metadata": {},
     "output_type": "display_data"
    }
   ],
   "source": [
    "import ij.ImageJ;\n",
    "import io.scif.img.ImgIOException;\n",
    "import io.scif.img.ImgOpener;\n",
    "import net.imglib2.Cursor;\n",
    "import net.imglib2.FinalRealInterval;\n",
    "import net.imglib2.RealInterval;\n",
    "import net.imglib2.RealRandomAccess;\n",
    "import net.imglib2.RealRandomAccessible;\n",
    "import net.imglib2.img.Img;\n",
    "import net.imglib2.img.ImgFactory;\n",
    "import net.imglib2.img.array.ArrayImgFactory;\n",
    "import net.imglib2.img.display.imagej.ImageJFunctions;\n",
    "import net.imglib2.interpolation.randomaccess.LanczosInterpolatorFactory;\n",
    "import net.imglib2.interpolation.randomaccess.NLinearInterpolatorFactory;\n",
    "import net.imglib2.interpolation.randomaccess.NearestNeighborInterpolatorFactory;\n",
    "import net.imglib2.`type`.Type;\n",
    "import net.imglib2.`type`.numeric.real.FloatType;\n",
    "import net.imglib2.util.Util;\n",
    "import net.imglib2.view.Views;"
   ]
  },
  {
   "cell_type": "code",
   "execution_count": 4,
   "metadata": {
    "collapsed": false
   },
   "outputs": [
    {
     "data": {
      "text/plain": [
       "defined \u001b[32mfunction \u001b[36mmagnify\u001b[0m"
      ]
     },
     "metadata": {},
     "output_type": "display_data"
    }
   ],
   "source": [
    "/**\n",
    " * Compute a magnified version of a given real interval\n",
    " *\n",
    " * @param source - the input data\n",
    " * @param interval - the real interval on the source that should be magnified\n",
    " * @param factory - the image factory for the output image\n",
    " * @param magnification - the ratio of magnification\n",
    " * @return - an Img that contains the magnified image content\n",
    " */\n",
    "def magnify[T <: Type[T]](source: RealRandomAccessible[T],\n",
    "    interval: RealInterval, factory: ImgFactory[T], magnification: Double ): Img[T] = \n",
    "{\n",
    "    val numDimensions = interval.numDimensions()\n",
    "\n",
    "    // compute the number of pixels of the output and the size of the real interval\n",
    "    val pixelSize = new Array[Long](numDimensions)\n",
    "    val intervalSize = new Array[Double](numDimensions)\n",
    "\n",
    "    for(d <- 0 until numDimensions) {\n",
    "        intervalSize(d) = interval.realMax( d ) - interval.realMin( d )\n",
    "        pixelSize(d) = Math.round( intervalSize(d) * magnification ) + 1\n",
    "    }\n",
    "\n",
    "    // create the output image\n",
    "    val output = factory.create( pixelSize, source.realRandomAccess().get() );\n",
    "\n",
    "    // cursor to iterate over all pixels\n",
    "    val cursor = output.localizingCursor();\n",
    "\n",
    "    // create a RealRandomAccess on the source (interpolator)\n",
    "    val realRandomAccess = source.realRandomAccess();\n",
    "\n",
    "    // the temporary array to compute the position\n",
    "    val tmp = new Array[Double](numDimensions)\n",
    "\n",
    "    // for all pixels of the output image\n",
    "    while ( cursor.hasNext() )\n",
    "    {\n",
    "        cursor.fwd();\n",
    "\n",
    "        // compute the appropriate location of the interpolator\n",
    "        for(d <- 0 until numDimensions) {\n",
    "            tmp(d) = cursor.getDoublePosition( d ) / output.realMax( d ) * intervalSize( d )\n",
    "                    + interval.realMin( d );\n",
    "        }\n",
    "\n",
    "        // set the position\n",
    "        realRandomAccess.setPosition( tmp );\n",
    "\n",
    "        // set the new value\n",
    "        cursor.get().set( realRandomAccess.get() );\n",
    "    }\n",
    "\n",
    "    output\n",
    "}\n",
    "\n"
   ]
  },
  {
   "cell_type": "code",
   "execution_count": 5,
   "metadata": {
    "collapsed": false
   },
   "outputs": [
    {
     "data": {
      "text/plain": [
       "\u001b[36mij\u001b[0m: net.imagej.ImageJ = net.imagej.ImageJ@b3a1c0c"
      ]
     },
     "metadata": {},
     "output_type": "display_data"
    }
   ],
   "source": [
    "val ij = new net.imagej.ImageJ()"
   ]
  },
  {
   "cell_type": "code",
   "execution_count": 26,
   "metadata": {
    "collapsed": false
   },
   "outputs": [
    {
     "name": "stderr",
     "output_type": "stream",
     "text": [
      "[INFO] Reading IFDs\n",
      "[INFO] Populating metadata\n",
      "[INFO] Checking comment style\n",
      "[WARNING] Expected positive value for PhysicalSizeX; got 0.0\n",
      "[WARNING] Expected positive value for PhysicalSizeY; got 0.0\n",
      "[WARNING] Expected positive value for PhysicalSizeX; got 0.0\n",
      "[WARNING] Expected positive value for PhysicalSizeY; got 0.0\n",
      "[INFO] Reading IFDs\n",
      "[INFO] Populating metadata\n",
      "[INFO] Checking comment style\n",
      "[WARNING] Expected positive value for PhysicalSizeX; got 0.0\n",
      "[WARNING] Expected positive value for PhysicalSizeY; got 0.0\n",
      "[WARNING] Expected positive value for PhysicalSizeX; got 0.0\n",
      "[WARNING] Expected positive value for PhysicalSizeY; got 0.0\n"
     ]
    },
    {
     "data": {
      "text/plain": [
       "\u001b[32mimport \u001b[36mnet.imglib2.`type`.numeric.integer.UnsignedByteType\u001b[0m\n",
       "\u001b[36minputImg\u001b[0m: java.lang.String = \u001b[32m\"sample-data/starstack.tif\"\u001b[0m\n",
       "\u001b[36mcOpener\u001b[0m: org.scijava.io.IOPlugin[?0] = plugin:class io.scif.io.DatasetIOPlugin\n",
       "\u001b[36minImg\u001b[0m: Any = starstack.tif\n",
       "\u001b[36mtypedImage\u001b[0m: net.imagej.ImgPlus[net.imglib2.type.numeric.integer.UnsignedByteType] = io.scif.img.SCIFIOImgPlus@46f07697"
      ]
     },
     "metadata": {},
     "output_type": "display_data"
    }
   ],
   "source": [
    "// open with ImgOpener using an ArrayImgFactory\n",
    "import net.imglib2.`type`.numeric.integer.UnsignedByteType\n",
    "val inputImg = \"sample-data/starstack.tif\"\n",
    "val cOpener = ij.io().getOpener(inputImg)\n",
    "val inImg = cOpener.open(inputImg)\n",
    "//val img = cOpener.openImg(\"sample-data/starstack.jpg\",new FloatType() )\n",
    "val typedImage = ij.scifio().datasetIO().open(inputImg).typedImg(new UnsignedByteType())"
   ]
  },
  {
   "cell_type": "code",
   "execution_count": 19,
   "metadata": {
    "collapsed": false
   },
   "outputs": [
    {
     "ename": "",
     "evalue": "",
     "output_type": "error",
     "traceback": [
      "Compilation Failed",
      "\u001b[31mMain.scala:107: overloaded method value create with alternatives:",
      "  [T <: net.imglib2.type.numeric.RealType[T]](x$1: net.imglib2.RandomAccessibleInterval[T])net.imagej.Dataset <and>",
      "  [T <: net.imglib2.type.numeric.RealType[T]](x$1: net.imagej.ImgPlus[T])net.imagej.Dataset",
      " cannot be applied to (String)",
      "ij.dataset().create(inputImg).preview()",
      "             ^\u001b[0m"
     ]
    }
   ],
   "source": [
    "ij.dataset().create(inputImg).preview()"
   ]
  },
  {
   "cell_type": "code",
   "execution_count": 6,
   "metadata": {
    "collapsed": false
   },
   "outputs": [
    {
     "ename": "",
     "evalue": "",
     "output_type": "error",
     "traceback": [
      "SyntaxError: found \", 40.43 };\\n\\t\\tdouble[\", expected \"}\" in",
      "\t\tdouble[] min = new double[]{ 105.12, 40.43 };",
      "                                     ^"
     ]
    }
   ],
   "source": [
    "\n",
    "\t\tImageJFunctions.show( img );\n",
    "\n",
    "\t\t// create an InterpolatorFactory RealRandomAccessible using nearst neighbor interpolation\n",
    "\t\tNearestNeighborInterpolatorFactory< FloatType > factory1 =\n",
    "\t\t\tnew NearestNeighborInterpolatorFactory< FloatType >();\n",
    "\n",
    "\t\t// create an InterpolatorFactory RealRandomAccessible using linear interpolation\n",
    "\t\tNLinearInterpolatorFactory< FloatType > factory2 =\n",
    "\t\t\tnew NLinearInterpolatorFactory< FloatType >();\n",
    "\n",
    "\t\t// create an InterpolatorFactory RealRandomAccessible using lanczos interpolation\n",
    "\t\tLanczosInterpolatorFactory< FloatType > factory3 =\n",
    "\t\t\tnew LanczosInterpolatorFactory< FloatType >();\n",
    "\n",
    "\t\t// create a RandomAccessible using the factory and views method\n",
    "\t\t// it is important to extend the image first, the interpolation scheme might\n",
    "\t\t// grep pixels outside of the boundaries even when locations inside are queried\n",
    "\t\t// as they integrate pixel information in a local neighborhood - the size of\n",
    "\t\t// this neighborhood depends on which interpolator is used\n",
    "\t\tRealRandomAccessible< FloatType > interpolant1 = Views.interpolate(\n",
    "\t\t\tViews.extendMirrorSingle( img ), factory1 );\n",
    "\t\tRealRandomAccessible< FloatType > interpolant2 = Views.interpolate(\n",
    "\t\t\tViews.extendMirrorSingle( img ), factory2 );\n",
    "\t\tRealRandomAccessible< FloatType > interpolant3 = Views.interpolate(\n",
    "\t\t\tViews.extendMirrorSingle( img ), factory3 );\n",
    "\n",
    "\t\t// define the area in the interpolated image\n",
    "\t\tdouble[] min = new double[]{ 105.12, 40.43 };\n",
    "\t\tdouble[] max = new double[]{ 129.56, 74.933 };\n",
    "\n",
    "\t\tFinalRealInterval interval = new FinalRealInterval( min, max );\n",
    "\n",
    "\t\tImageJFunctions.show( magnify( interpolant1, interval,\n",
    "\t\t\tnew ArrayImgFactory< FloatType >(), 10 ) ).setTitle( \"Nearest Neighbor Interpolation\" );\n",
    "\t\tImageJFunctions.show( magnify( interpolant2, interval,\n",
    "\t\t\tnew ArrayImgFactory< FloatType >(), 10 ) ).setTitle( \"Linear Interpolation\" );\n",
    "\t\tImageJFunctions.show( magnify( interpolant3, interval,\n",
    "\t\t\tnew ArrayImgFactory< FloatType >(), 10 ) ).setTitle( \"Lanczos Interpolation\" );\n",
    "\t}"
   ]
  },
  {
   "cell_type": "code",
   "execution_count": null,
   "metadata": {
    "collapsed": true
   },
   "outputs": [],
   "source": []
  }
 ],
 "metadata": {
  "kernelspec": {
   "display_name": "Scala 2.10",
   "language": "scala210",
   "name": "scala210"
  },
  "language_info": {
   "codemirror_mode": "text/x-scala",
   "file_extension": "scala",
   "mimetype": "text/x-scala",
   "name": "scala210",
   "pygments_lexer": "scala",
   "version": "2.10.5"
  }
 },
 "nbformat": 4,
 "nbformat_minor": 0
}
