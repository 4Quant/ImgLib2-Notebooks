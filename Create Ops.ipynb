{
 "cells": [
  {
   "cell_type": "markdown",
   "metadata": {},
   "source": [
    "# Create Op Tutorial\n",
    "\n",
    "A simple adaptation of using the Jupyter Scala Implementation (https://github.com/alexarchambault/jupyter-scala) of these examples (https://github.com/imagej/imagej-tutorials/tree/master/create-a-new-op)"
   ]
  },
  {
   "cell_type": "code",
   "execution_count": 1,
   "metadata": {
    "collapsed": false
   },
   "outputs": [
    {
     "name": "stdout",
     "output_type": "stream",
     "text": [
      ":: problems summary ::\n",
      ":::: WARNINGS\n",
      "\tUnable to reparse com.github.alexarchambault.jupyter#jupyter-scala-api_2.10.5;0.2.0-SNAPSHOT from sonatype-snapshots, using Sun Oct 25 20:00:40 CET 2015\n",
      "\n",
      "\tUnable to reparse com.github.alexarchambault.jupyter#jupyter-scala-api_2.10.5;0.2.0-SNAPSHOT from imagej.public, using Sun Oct 25 20:00:40 CET 2015\n",
      "\n",
      "\tSorting results from com.github.alexarchambault.jupyter#jupyter-scala-api_2.10.5;0.2.0-SNAPSHOT, using Sun Oct 25 20:00:40 CET 2015 and Sun Oct 25 20:00:40 CET 2015\n",
      "\n",
      "\tSorting results from com.github.alexarchambault.jupyter#jupyter-scala-api_2.10.5;0.2.0-SNAPSHOT, using Sun Oct 25 20:00:40 CET 2015 and Sun Oct 25 20:00:40 CET 2015\n",
      "\n",
      "\tChoosing imagej.public for com.github.alexarchambault.jupyter#jupyter-scala-api_2.10.5;0.2.0-SNAPSHOT\n",
      "\n",
      "\tUnable to reparse com.github.alexarchambault#ammonite-api_2.10.5;0.3.1-SNAPSHOT from sonatype-snapshots, using Wed Oct 21 11:44:30 CEST 2015\n",
      "\n",
      "\tUnable to reparse com.github.alexarchambault#ammonite-api_2.10.5;0.3.1-SNAPSHOT from imagej.public, using Wed Oct 21 11:44:30 CEST 2015\n",
      "\n",
      "\tSorting results from com.github.alexarchambault#ammonite-api_2.10.5;0.3.1-SNAPSHOT, using Wed Oct 21 11:44:30 CEST 2015 and Wed Oct 21 11:44:30 CEST 2015\n",
      "\n",
      "\tSorting results from com.github.alexarchambault#ammonite-api_2.10.5;0.3.1-SNAPSHOT, using Wed Oct 21 11:44:30 CEST 2015 and Wed Oct 21 11:44:30 CEST 2015\n",
      "\n",
      "\tChoosing imagej.public for com.github.alexarchambault#ammonite-api_2.10.5;0.3.1-SNAPSHOT\n",
      "\n",
      "\tUnable to reparse com.github.alexarchambault.jupyter#jupyter-api_2.10;0.2.0-SNAPSHOT from sonatype-snapshots, using Wed Oct 21 17:05:05 CEST 2015\n",
      "\n",
      "\tUnable to reparse com.github.alexarchambault.jupyter#jupyter-api_2.10;0.2.0-SNAPSHOT from imagej.public, using Wed Oct 21 17:05:05 CEST 2015\n",
      "\n",
      "\tSorting results from com.github.alexarchambault.jupyter#jupyter-api_2.10;0.2.0-SNAPSHOT, using Wed Oct 21 17:05:05 CEST 2015 and Wed Oct 21 17:05:05 CEST 2015\n",
      "\n",
      "\tSorting results from com.github.alexarchambault.jupyter#jupyter-api_2.10;0.2.0-SNAPSHOT, using Wed Oct 21 17:05:05 CEST 2015 and Wed Oct 21 17:05:05 CEST 2015\n",
      "\n",
      "\tChoosing imagej.public for com.github.alexarchambault.jupyter#jupyter-api_2.10;0.2.0-SNAPSHOT\n",
      "\n",
      ":: problems summary ::\n",
      ":::: WARNINGS\n",
      "\tUnable to reparse com.github.alexarchambault.jupyter#jupyter-scala-api_2.10.5;0.2.0-SNAPSHOT from sonatype-snapshots, using Sun Oct 25 20:00:40 CET 2015\n",
      "\n",
      "\tUnable to reparse com.github.alexarchambault.jupyter#jupyter-scala-api_2.10.5;0.2.0-SNAPSHOT from imagej.public, using Sun Oct 25 20:00:40 CET 2015\n",
      "\n",
      "\tSorting results from com.github.alexarchambault.jupyter#jupyter-scala-api_2.10.5;0.2.0-SNAPSHOT, using Sun Oct 25 20:00:40 CET 2015 and Sun Oct 25 20:00:40 CET 2015\n",
      "\n",
      "\tSorting results from com.github.alexarchambault.jupyter#jupyter-scala-api_2.10.5;0.2.0-SNAPSHOT, using Sun Oct 25 20:00:40 CET 2015 and Sun Oct 25 20:00:40 CET 2015\n",
      "\n",
      "\tChoosing imagej.public for com.github.alexarchambault.jupyter#jupyter-scala-api_2.10.5;0.2.0-SNAPSHOT\n",
      "\n",
      "\tUnable to reparse com.github.alexarchambault#ammonite-api_2.10.5;0.3.1-SNAPSHOT from sonatype-snapshots, using Wed Oct 21 11:44:30 CEST 2015\n",
      "\n",
      "\tUnable to reparse com.github.alexarchambault#ammonite-api_2.10.5;0.3.1-SNAPSHOT from imagej.public, using Wed Oct 21 11:44:30 CEST 2015\n",
      "\n",
      "\tSorting results from com.github.alexarchambault#ammonite-api_2.10.5;0.3.1-SNAPSHOT, using Wed Oct 21 11:44:30 CEST 2015 and Wed Oct 21 11:44:30 CEST 2015\n",
      "\n",
      "\tSorting results from com.github.alexarchambault#ammonite-api_2.10.5;0.3.1-SNAPSHOT, using Wed Oct 21 11:44:30 CEST 2015 and Wed Oct 21 11:44:30 CEST 2015\n",
      "\n",
      "\tChoosing imagej.public for com.github.alexarchambault#ammonite-api_2.10.5;0.3.1-SNAPSHOT\n",
      "\n",
      "\tUnable to reparse com.github.alexarchambault.jupyter#jupyter-api_2.10;0.2.0-SNAPSHOT from sonatype-snapshots, using Wed Oct 21 17:05:05 CEST 2015\n",
      "\n",
      "\tUnable to reparse com.github.alexarchambault.jupyter#jupyter-api_2.10;0.2.0-SNAPSHOT from imagej.public, using Wed Oct 21 17:05:05 CEST 2015\n",
      "\n",
      "\tSorting results from com.github.alexarchambault.jupyter#jupyter-api_2.10;0.2.0-SNAPSHOT, using Wed Oct 21 17:05:05 CEST 2015 and Wed Oct 21 17:05:05 CEST 2015\n",
      "\n",
      "\tSorting results from com.github.alexarchambault.jupyter#jupyter-api_2.10;0.2.0-SNAPSHOT, using Wed Oct 21 17:05:05 CEST 2015 and Wed Oct 21 17:05:05 CEST 2015\n",
      "\n",
      "\tChoosing imagej.public for com.github.alexarchambault.jupyter#jupyter-api_2.10;0.2.0-SNAPSHOT\n",
      "\n"
     ]
    },
    {
     "data": {
      "text/plain": []
     },
     "metadata": {},
     "output_type": "display_data"
    }
   ],
   "source": [
    "load.resolver(\"imagej.public\" at \"http://maven.imagej.net/content/groups/public\")\n",
    "load.ivy(\"net.imagej\" % \"imagej\" % \"2.0.0-rc-44\") // use % since %% adds scala version\n",
    "load.ivy(\"de.christophkraemer\" % \"rhino-script-engine\" % \"1.1.0\")  // since it's not in the classpath with notebooks per default"
   ]
  },
  {
   "cell_type": "code",
   "execution_count": 2,
   "metadata": {
    "collapsed": false
   },
   "outputs": [
    {
     "data": {
      "text/plain": [
       "\u001b[32mimport \u001b[36mnet.imagej.ops.AbstractOp\u001b[0m\n",
       "\u001b[32mimport \u001b[36mnet.imagej.ops.Op\u001b[0m\n",
       "\u001b[32mimport \u001b[36mnet.imglib2.Cursor\u001b[0m\n",
       "\u001b[32mimport \u001b[36mnet.imglib2.img.array.ArrayImg\u001b[0m\n",
       "\u001b[32mimport \u001b[36mnet.imglib2.img.array.ArrayImgs\u001b[0m\n",
       "\u001b[32mimport \u001b[36mnet.imglib2.img.basictypeaccess.array.DoubleArray\u001b[0m\n",
       "\u001b[32mimport \u001b[36mnet.imglib2.`type`.numeric.RealType\u001b[0m\n",
       "\u001b[32mimport \u001b[36mnet.imglib2.`type`.numeric.real.DoubleType\u001b[0m\n",
       "\u001b[32mimport \u001b[36morg.scijava.ItemIO\u001b[0m\n",
       "\u001b[32mimport \u001b[36morg.scijava.plugin.Parameter\u001b[0m\n",
       "\u001b[32mimport \u001b[36morg.scijava.plugin.Plugin\u001b[0m"
      ]
     },
     "metadata": {},
     "output_type": "display_data"
    }
   ],
   "source": [
    "import net.imagej.ops.AbstractOp\n",
    "import net.imagej.ops.Op\n",
    "import net.imglib2.Cursor\n",
    "import net.imglib2.img.array.ArrayImg\n",
    "import net.imglib2.img.array.ArrayImgs\n",
    "import net.imglib2.img.basictypeaccess.array.DoubleArray\n",
    "import net.imglib2.`type`.numeric.RealType\n",
    "import net.imglib2.`type`.numeric.real.DoubleType\n",
    "\n",
    "import org.scijava.ItemIO\n",
    "import org.scijava.plugin.Parameter\n",
    "import org.scijava.plugin.Plugin"
   ]
  },
  {
   "cell_type": "code",
   "execution_count": 17,
   "metadata": {
    "collapsed": false
   },
   "outputs": [
    {
     "data": {
      "text/plain": [
       "defined \u001b[32mclass \u001b[36mRamp\u001b[0m"
      ]
     },
     "metadata": {},
     "output_type": "display_data"
    }
   ],
   "source": [
    "import special.wrap.obj // needed so the class is created correctly\n",
    "@Plugin(`type` = classOf[Op], name = \"ramp\")\n",
    "class Ramp extends AbstractOp {\n",
    "    \n",
    "    @Parameter(`type` = ItemIO.OUTPUT)\n",
    "\tprivate var rampImg: ArrayImg[DoubleType, DoubleArray] = null\n",
    "    \n",
    "\toverride def run(): Unit = {\n",
    "        rampImg = ArrayImgs.doubles(256, 256);\n",
    "\n",
    "\t\tval c = rampImg.localizingCursor();\n",
    "\t\tval pos = new Array[Long](rampImg.numDimensions());\n",
    "\t\twhile (c.hasNext()) {\n",
    "\t\t\tc.fwd()\n",
    "\t\t\tc.localize(pos)\n",
    "\t\t\tc.get().setReal(sum(pos))\n",
    "\t\t}\n",
    "\t}\n",
    "    \n",
    "    private def sum(pos: Array[Long]) = {\n",
    "\t\tvar sum = 0.0f;\n",
    "\t\tfor (p <- pos) sum += p;\n",
    "\t\tsum\n",
    "\t}\n",
    "    /** make it accessible from outside **/\n",
    "    def getOutput() = rampImg\n",
    "}\n"
   ]
  },
  {
   "cell_type": "code",
   "execution_count": 33,
   "metadata": {
    "collapsed": false
   },
   "outputs": [
    {
     "ename": "",
     "evalue": "",
     "output_type": "error",
     "traceback": [
      "java.lang.IllegalArgumentException: Invalid service: net.imagej.legacy.LegacyConsoleService",
      "\torg.scijava.service.ServiceHelper.createExactService(ServiceHelper.java:280)",
      "\torg.scijava.service.ServiceHelper.loadService(ServiceHelper.java:231)",
      "\torg.scijava.service.ServiceHelper.loadService(ServiceHelper.java:194)",
      "\torg.scijava.service.ServiceHelper.loadServices(ServiceHelper.java:166)",
      "\torg.scijava.Context.<init>(Context.java:277)",
      "\torg.scijava.Context.<init>(Context.java:234)",
      "\torg.scijava.Context.<init>(Context.java:174)",
      "\torg.scijava.Context.<init>(Context.java:160)",
      "\tnet.imagej.ImageJ.<init>(ImageJ.java:79)",
      "\tcmd18$$user$$anonfun$1.apply(Main.scala:111)",
      "\tcmd18$$user$$anonfun$1.apply(Main.scala:110)",
      "java.lang.IllegalArgumentException: Invalid service: net.imagej.legacy.LegacyService",
      "\torg.scijava.service.ServiceHelper.createExactService(ServiceHelper.java:280)",
      "\torg.scijava.service.ServiceHelper.loadService(ServiceHelper.java:231)",
      "\torg.scijava.service.ServiceHelper.createServiceRecursively(ServiceHelper.java:340)",
      "\torg.scijava.service.ServiceHelper.createExactService(ServiceHelper.java:269)",
      "\torg.scijava.service.ServiceHelper.loadService(ServiceHelper.java:231)",
      "\torg.scijava.service.ServiceHelper.loadService(ServiceHelper.java:194)",
      "\torg.scijava.service.ServiceHelper.loadServices(ServiceHelper.java:166)",
      "\torg.scijava.Context.<init>(Context.java:277)",
      "\torg.scijava.Context.<init>(Context.java:234)",
      "\torg.scijava.Context.<init>(Context.java:174)",
      "\torg.scijava.Context.<init>(Context.java:160)",
      "\tnet.imagej.ImageJ.<init>(ImageJ.java:79)",
      "\tcmd18$$user$$anonfun$1.apply(Main.scala:111)",
      "\tcmd18$$user$$anonfun$1.apply(Main.scala:110)",
      "java.lang.UnsupportedOperationException: Cannot instantiate more than one LegacyService",
      "\tnet.imagej.legacy.LegacyService.checkInstance(LegacyService.java:661)",
      "\tnet.imagej.legacy.LegacyService.initialize(LegacyService.java:461)",
      "\torg.scijava.service.ServiceHelper.createServiceRecursively(ServiceHelper.java:353)",
      "\torg.scijava.service.ServiceHelper.createExactService(ServiceHelper.java:269)",
      "\torg.scijava.service.ServiceHelper.loadService(ServiceHelper.java:231)",
      "\torg.scijava.service.ServiceHelper.createServiceRecursively(ServiceHelper.java:340)",
      "\torg.scijava.service.ServiceHelper.createExactService(ServiceHelper.java:269)",
      "\torg.scijava.service.ServiceHelper.loadService(ServiceHelper.java:231)",
      "\torg.scijava.service.ServiceHelper.loadService(ServiceHelper.java:194)",
      "\torg.scijava.service.ServiceHelper.loadServices(ServiceHelper.java:166)",
      "\torg.scijava.Context.<init>(Context.java:277)",
      "\torg.scijava.Context.<init>(Context.java:234)",
      "\torg.scijava.Context.<init>(Context.java:174)",
      "\torg.scijava.Context.<init>(Context.java:160)",
      "\tnet.imagej.ImageJ.<init>(ImageJ.java:79)",
      "\tcmd18$$user$$anonfun$1.apply(Main.scala:111)",
      "\tcmd18$$user$$anonfun$1.apply(Main.scala:110)",
      "java.lang.Throwable: Initialized here:",
      "\tnet.imagej.legacy.LegacyService.initialize(LegacyService.java:479)",
      "\torg.scijava.service.ServiceHelper.createServiceRecursively(ServiceHelper.java:353)",
      "\torg.scijava.service.ServiceHelper.createExactService(ServiceHelper.java:269)",
      "\torg.scijava.service.ServiceHelper.loadService(ServiceHelper.java:231)",
      "\torg.scijava.service.ServiceHelper.createServiceRecursively(ServiceHelper.java:340)",
      "\torg.scijava.service.ServiceHelper.createExactService(ServiceHelper.java:269)",
      "\torg.scijava.service.ServiceHelper.loadService(ServiceHelper.java:231)",
      "\torg.scijava.service.ServiceHelper.loadService(ServiceHelper.java:194)",
      "\torg.scijava.service.ServiceHelper.loadServices(ServiceHelper.java:166)",
      "\torg.scijava.Context.<init>(Context.java:277)",
      "\torg.scijava.Context.<init>(Context.java:234)",
      "\torg.scijava.Context.<init>(Context.java:174)",
      "\torg.scijava.Context.<init>(Context.java:160)",
      "\tnet.imagej.ImageJ.<init>(ImageJ.java:79)",
      "\tcmd3$$user$$anonfun$1.apply(Main.scala:72)",
      "\tcmd3$$user$$anonfun$1.apply(Main.scala:71)",
      "\tcmd3$$user.<init>(Main.scala:73)",
      "\tcmd3.<init>(Main.scala:77)",
      "\tcmd3$.<init>(Main.scala:52)",
      "\tcmd3$.<clinit>(Main.scala)"
     ]
    }
   ],
   "source": [
    "import net.imagej.ImageJ\n",
    "implicit val ij = new ImageJ()"
   ]
  },
  {
   "cell_type": "code",
   "execution_count": 19,
   "metadata": {
    "collapsed": false
   },
   "outputs": [
    {
     "data": {
      "text/plain": [
       "\u001b[32mimport \u001b[36morg.scijava.plugin.PluginInfo\u001b[0m\n",
       "\u001b[36mrampInfo\u001b[0m: org.scijava.plugin.PluginInfo[net.imagej.ops.Op] = name='ramp2', priority=0.0, enabled=true, pluginType=Op"
      ]
     },
     "metadata": {},
     "output_type": "display_data"
    }
   ],
   "source": [
    "// Manually Register the Op as a plugin\n",
    "import org.scijava.plugin.PluginInfo\n",
    "val rampInfo = new PluginInfo(classOf[Ramp],\n",
    "                              classOf[Op]\n",
    "                             )\n",
    "ij.plugin().addPlugin(rampInfo)"
   ]
  },
  {
   "cell_type": "code",
   "execution_count": 20,
   "metadata": {
    "collapsed": false
   },
   "outputs": [
    {
     "data": {
      "text/plain": [
       "\u001b[36mrampImage\u001b[0m: java.lang.Object = ArrayImg [256x256]"
      ]
     },
     "metadata": {},
     "output_type": "display_data"
    }
   ],
   "source": [
    "// call the op to make a new image\n",
    "val rampImage = ij.op().run(\"ramp\")\n"
   ]
  },
  {
   "cell_type": "code",
   "execution_count": 22,
   "metadata": {
    "collapsed": false
   },
   "outputs": [
    {
     "data": {
      "text/plain": [
       "defined \u001b[32mclass \u001b[36mpreviewDataset\u001b[0m\n",
       "\u001b[32mimport \u001b[36mnet.imglib2.`type`.numeric.RealType\u001b[0m\n",
       "defined \u001b[32mclass \u001b[36mdsImgPlus\u001b[0m"
      ]
     },
     "metadata": {},
     "output_type": "display_data"
    }
   ],
   "source": [
    "implicit class previewDataset(curSet: net.imagej.Dataset)(implicit ij: net.imagej.ImageJ) {\n",
    "    /** saves the file to a temporary directory, read it in again as a bytearray and feed it to the jupyter function **/\n",
    "    def preview() = {\n",
    "        val tFile = java.io.File.createTempFile(\"jupy\",\".jpg\")\n",
    "        curSet.\n",
    "        ij.scifio().datasetIO().save(curSet,tFile.getPath())\n",
    "        val imgFIS = new java.io.FileInputStream(tFile.getPath())\n",
    "        val out = new Array[Byte](imgFIS.getChannel().size().toInt)\n",
    "        imgFIS.read(out)\n",
    "        display.jpg(out)\n",
    "    }\n",
    "}\n",
    "import net.imglib2.`type`.numeric.RealType\n",
    "implicit class dsImgPlus[T <: RealType[T], U <: net.imglib2.img.Img[T]](curImg: U)(implicit ij: net.imagej.ImageJ) {\n",
    "    def toDataset() = {\n",
    "        new net.imagej.DefaultDataset(ij.getContext(),net.imagej.ImgPlus.wrap(curImg))\n",
    "    }\n",
    "    def preview(): Unit = toDataset().preview()\n",
    "}"
   ]
  },
  {
   "cell_type": "code",
   "execution_count": 47,
   "metadata": {
    "collapsed": false
   },
   "outputs": [
    {
     "data": {
      "text/plain": [
       "\u001b[32mimport \u001b[36mnet.imglib2.RandomAccessibleInterval\u001b[0m\n",
       "\u001b[36mtypeRamp\u001b[0m: net.imglib2.RandomAccessibleInterval[net.imglib2.type.numeric.real.DoubleType] = ArrayImg [256x256]"
      ]
     },
     "metadata": {},
     "output_type": "display_data"
    }
   ],
   "source": [
    "import net.imglib2.RandomAccessibleInterval\n",
    "val typeRamp = rampImage.asInstanceOf[net.imglib2.img.Img[DoubleType]].asInstanceOf[RandomAccessibleInterval[DoubleType]]\n",
    "\n"
   ]
  },
  {
   "cell_type": "code",
   "execution_count": 57,
   "metadata": {
    "collapsed": false
   },
   "outputs": [
    {
     "data": {
      "text/plain": [
       "\u001b[32mimport \u001b[36mnet.imglib2.converter.Converter\u001b[0m\n",
       "\u001b[32mimport \u001b[36mnet.imglib2.converter.Converters\u001b[0m\n",
       "\u001b[32mimport \u001b[36mnet.imglib2.`type`.numeric.integer.UnsignedByteType\u001b[0m\n",
       "\u001b[32mimport \u001b[36mnet.imglib2.converter.RealUnsignedByteConverter\u001b[0m\n",
       "\u001b[36mc\u001b[0m: net.imglib2.converter.RealUnsignedByteConverter[net.imglib2.type.numeric.real.DoubleType] = net.imglib2.converter.RealUnsignedByteConverter@1b83de35"
      ]
     },
     "metadata": {},
     "output_type": "display_data"
    }
   ],
   "source": [
    "import net.imglib2.converter.Converter\n",
    "import net.imglib2.converter.Converters\n",
    "import net.imglib2.`type`.numeric.integer.UnsignedByteType;\n",
    "import net.imglib2.converter.RealUnsignedByteConverter\n",
    "val c = new RealUnsignedByteConverter[DoubleType]()\n"
   ]
  },
  {
   "cell_type": "code",
   "execution_count": 56,
   "metadata": {
    "collapsed": false
   },
   "outputs": [
    {
     "data": {
      "text/plain": [
       "\u001b[36mfixie\u001b[0m: net.imglib2.type.numeric.integer.UnsignedByteType = 230\n",
       "\u001b[36mres29_2\u001b[0m: net.imglib2.type.numeric.integer.UnsignedByteType = 230"
      ]
     },
     "metadata": {},
     "output_type": "display_data"
    }
   ],
   "source": []
  },
  {
   "cell_type": "code",
   "execution_count": 35,
   "metadata": {
    "collapsed": false
   },
   "outputs": [
    {
     "ename": "",
     "evalue": "",
     "output_type": "error",
     "traceback": [
      "java.io.IOException: io.scif.img.ImgIOException: io.scif.FormatException: SCIFIO exception when writing to file /var/folders/87/qdzwp8795sj37r777qjqyybm0000gn/T/jupy8206781529827054680.jpg:",
      "Unsupported image type 'double'.",
      "\tio.scif.services.DefaultDatasetIOService.save(DefaultDatasetIOService.java:157)",
      "\tio.scif.services.DefaultDatasetIOService.save(DefaultDatasetIOService.java:142)",
      "\tcmd14$$user$previewDataset.preview(Main.scala:108)",
      "\tcmd20$$user$$anonfun$1.apply$mcV$sp(Main.scala:116)",
      "io.scif.img.ImgIOException: io.scif.FormatException: SCIFIO exception when writing to file /var/folders/87/qdzwp8795sj37r777qjqyybm0000gn/T/jupy8206781529827054680.jpg:",
      "Unsupported image type 'double'.",
      "\tio.scif.img.ImgSaver.writeImg(ImgSaver.java:518)",
      "\tio.scif.img.ImgSaver.writeImg(ImgSaver.java:496)",
      "\tio.scif.img.ImgSaver.writeImg(ImgSaver.java:458)",
      "\tio.scif.img.ImgSaver.saveImg(ImgSaver.java:173)",
      "\tio.scif.img.ImgSaver.saveImg(ImgSaver.java:157)",
      "\tio.scif.services.DefaultDatasetIOService.save(DefaultDatasetIOService.java:154)",
      "\tio.scif.services.DefaultDatasetIOService.save(DefaultDatasetIOService.java:142)",
      "\tcmd14$$user$previewDataset.preview(Main.scala:108)",
      "\tcmd20$$user$$anonfun$1.apply$mcV$sp(Main.scala:116)"
     ]
    }
   ],
   "source": [
    "ImageJFunctions.show( view )\n",
    "\n",
    "\t\tRandomAccessibleInterval< FloatType > inverted = Converters.convert(\n",
    "\t\t\t\tview,\n",
    "\t\t\t\tnew Converter< FloatType, FloatType >() {\n",
    "\t\t\t\t\t@Override\n",
    "\t\t\t\t\tpublic void convert( FloatType input, FloatType output )\n",
    "\t\t\t\t\t{\n",
    "\t\t\t\t\t\toutput.set( -input.get() );\n",
    "\t\t\t\t\t}\n",
    "\t\t\t\t},\n",
    "\t\t\t\tnew FloatType() );\n",
    "\n",
    "val dsRamp = new net.imagej.DefaultDataset(ij.getContext(),net.imagej.ImgPlus.wrap(typeRamp))\n",
    "dsRamp.preview()"
   ]
  },
  {
   "cell_type": "code",
   "execution_count": 34,
   "metadata": {
    "collapsed": false
   },
   "outputs": [
    {
     "data": {
      "text/plain": [
       "\u001b[36mijs\u001b[0m: net.imagej.ImageJ = net.imagej.ImageJ@46101740"
      ]
     },
     "metadata": {},
     "output_type": "display_data"
    }
   ],
   "source": [
    "implicit val ijs = ij"
   ]
  },
  {
   "cell_type": "code",
   "execution_count": 36,
   "metadata": {
    "collapsed": false
   },
   "outputs": [
    {
     "data": {
      "text/plain": [
       "\u001b[36mres21\u001b[0m: java.util.List[java.lang.String] = [ArrayDataAccess, Default, PlanarAccess]"
      ]
     },
     "metadata": {},
     "output_type": "display_data"
    }
   ],
   "source": [
    "ij.scifio().planeConverter()."
   ]
  },
  {
   "cell_type": "code",
   "execution_count": 39,
   "metadata": {
    "collapsed": false
   },
   "outputs": [
    {
     "data": {
      "text/plain": []
     },
     "metadata": {},
     "output_type": "display_data"
    }
   ],
   "source": [
    "\n",
    "ij.ui().show(ij.op().image().normalize(typeRamp))"
   ]
  },
  {
   "cell_type": "code",
   "execution_count": null,
   "metadata": {
    "collapsed": true
   },
   "outputs": [],
   "source": []
  }
 ],
 "metadata": {
  "kernelspec": {
   "display_name": "Scala 2.10",
   "language": "scala210",
   "name": "scala210"
  },
  "language_info": {
   "codemirror_mode": "text/x-scala",
   "file_extension": "scala",
   "mimetype": "text/x-scala",
   "name": "scala210",
   "pygments_lexer": "scala",
   "version": "2.10.5"
  }
 },
 "nbformat": 4,
 "nbformat_minor": 0
}
