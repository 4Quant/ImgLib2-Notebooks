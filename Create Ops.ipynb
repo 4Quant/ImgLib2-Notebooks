{
 "cells": [
  {
   "cell_type": "markdown",
   "metadata": {},
   "source": [
    "# Create Op Tutorial\n",
    "\n",
    "A simple adaptation of using the Jupyter Scala Implementation (https://github.com/alexarchambault/jupyter-scala) of these examples (https://github.com/imagej/imagej-tutorials/tree/master/create-a-new-op)"
   ]
  },
  {
   "cell_type": "code",
   "execution_count": 1,
   "metadata": {
    "collapsed": false
   },
   "outputs": [
    {
     "name": "stdout",
     "output_type": "stream",
     "text": [
      ":: problems summary ::\n",
      ":::: WARNINGS\n",
      "\tUnable to reparse com.github.alexarchambault.jupyter#jupyter-scala-api_2.10.5;0.2.0-SNAPSHOT from sonatype-snapshots, using Sun Oct 25 20:00:40 CET 2015\n",
      "\n",
      "\tUnable to reparse com.github.alexarchambault.jupyter#jupyter-scala-api_2.10.5;0.2.0-SNAPSHOT from imagej.public, using Sun Oct 25 20:00:40 CET 2015\n",
      "\n",
      "\tSorting results from com.github.alexarchambault.jupyter#jupyter-scala-api_2.10.5;0.2.0-SNAPSHOT, using Sun Oct 25 20:00:40 CET 2015 and Sun Oct 25 20:00:40 CET 2015\n",
      "\n",
      "\tSorting results from com.github.alexarchambault.jupyter#jupyter-scala-api_2.10.5;0.2.0-SNAPSHOT, using Sun Oct 25 20:00:40 CET 2015 and Sun Oct 25 20:00:40 CET 2015\n",
      "\n",
      "\tChoosing imagej.public for com.github.alexarchambault.jupyter#jupyter-scala-api_2.10.5;0.2.0-SNAPSHOT\n",
      "\n",
      "\tUnable to reparse com.github.alexarchambault#ammonite-api_2.10.5;0.3.1-SNAPSHOT from sonatype-snapshots, using Wed Oct 21 11:44:30 CEST 2015\n",
      "\n",
      "\tUnable to reparse com.github.alexarchambault#ammonite-api_2.10.5;0.3.1-SNAPSHOT from imagej.public, using Wed Oct 21 11:44:30 CEST 2015\n",
      "\n",
      "\tSorting results from com.github.alexarchambault#ammonite-api_2.10.5;0.3.1-SNAPSHOT, using Wed Oct 21 11:44:30 CEST 2015 and Wed Oct 21 11:44:30 CEST 2015\n",
      "\n",
      "\tSorting results from com.github.alexarchambault#ammonite-api_2.10.5;0.3.1-SNAPSHOT, using Wed Oct 21 11:44:30 CEST 2015 and Wed Oct 21 11:44:30 CEST 2015\n",
      "\n",
      "\tChoosing imagej.public for com.github.alexarchambault#ammonite-api_2.10.5;0.3.1-SNAPSHOT\n",
      "\n",
      "\tUnable to reparse com.github.alexarchambault.jupyter#jupyter-api_2.10;0.2.0-SNAPSHOT from sonatype-snapshots, using Wed Oct 21 17:05:05 CEST 2015\n",
      "\n",
      "\tUnable to reparse com.github.alexarchambault.jupyter#jupyter-api_2.10;0.2.0-SNAPSHOT from imagej.public, using Wed Oct 21 17:05:05 CEST 2015\n",
      "\n",
      "\tSorting results from com.github.alexarchambault.jupyter#jupyter-api_2.10;0.2.0-SNAPSHOT, using Wed Oct 21 17:05:05 CEST 2015 and Wed Oct 21 17:05:05 CEST 2015\n",
      "\n",
      "\tSorting results from com.github.alexarchambault.jupyter#jupyter-api_2.10;0.2.0-SNAPSHOT, using Wed Oct 21 17:05:05 CEST 2015 and Wed Oct 21 17:05:05 CEST 2015\n",
      "\n",
      "\tChoosing imagej.public for com.github.alexarchambault.jupyter#jupyter-api_2.10;0.2.0-SNAPSHOT\n",
      "\n",
      ":: problems summary ::\n",
      ":::: WARNINGS\n",
      "\tUnable to reparse com.github.alexarchambault.jupyter#jupyter-scala-api_2.10.5;0.2.0-SNAPSHOT from sonatype-snapshots, using Sun Oct 25 20:00:40 CET 2015\n",
      "\n",
      "\tUnable to reparse com.github.alexarchambault.jupyter#jupyter-scala-api_2.10.5;0.2.0-SNAPSHOT from imagej.public, using Sun Oct 25 20:00:40 CET 2015\n",
      "\n",
      "\tSorting results from com.github.alexarchambault.jupyter#jupyter-scala-api_2.10.5;0.2.0-SNAPSHOT, using Sun Oct 25 20:00:40 CET 2015 and Sun Oct 25 20:00:40 CET 2015\n",
      "\n",
      "\tSorting results from com.github.alexarchambault.jupyter#jupyter-scala-api_2.10.5;0.2.0-SNAPSHOT, using Sun Oct 25 20:00:40 CET 2015 and Sun Oct 25 20:00:40 CET 2015\n",
      "\n",
      "\tChoosing imagej.public for com.github.alexarchambault.jupyter#jupyter-scala-api_2.10.5;0.2.0-SNAPSHOT\n",
      "\n",
      "\tUnable to reparse com.github.alexarchambault#ammonite-api_2.10.5;0.3.1-SNAPSHOT from sonatype-snapshots, using Wed Oct 21 11:44:30 CEST 2015\n",
      "\n",
      "\tUnable to reparse com.github.alexarchambault#ammonite-api_2.10.5;0.3.1-SNAPSHOT from imagej.public, using Wed Oct 21 11:44:30 CEST 2015\n",
      "\n",
      "\tSorting results from com.github.alexarchambault#ammonite-api_2.10.5;0.3.1-SNAPSHOT, using Wed Oct 21 11:44:30 CEST 2015 and Wed Oct 21 11:44:30 CEST 2015\n",
      "\n",
      "\tSorting results from com.github.alexarchambault#ammonite-api_2.10.5;0.3.1-SNAPSHOT, using Wed Oct 21 11:44:30 CEST 2015 and Wed Oct 21 11:44:30 CEST 2015\n",
      "\n",
      "\tChoosing imagej.public for com.github.alexarchambault#ammonite-api_2.10.5;0.3.1-SNAPSHOT\n",
      "\n",
      "\tUnable to reparse com.github.alexarchambault.jupyter#jupyter-api_2.10;0.2.0-SNAPSHOT from sonatype-snapshots, using Wed Oct 21 17:05:05 CEST 2015\n",
      "\n",
      "\tUnable to reparse com.github.alexarchambault.jupyter#jupyter-api_2.10;0.2.0-SNAPSHOT from imagej.public, using Wed Oct 21 17:05:05 CEST 2015\n",
      "\n",
      "\tSorting results from com.github.alexarchambault.jupyter#jupyter-api_2.10;0.2.0-SNAPSHOT, using Wed Oct 21 17:05:05 CEST 2015 and Wed Oct 21 17:05:05 CEST 2015\n",
      "\n",
      "\tSorting results from com.github.alexarchambault.jupyter#jupyter-api_2.10;0.2.0-SNAPSHOT, using Wed Oct 21 17:05:05 CEST 2015 and Wed Oct 21 17:05:05 CEST 2015\n",
      "\n",
      "\tChoosing imagej.public for com.github.alexarchambault.jupyter#jupyter-api_2.10;0.2.0-SNAPSHOT\n",
      "\n"
     ]
    },
    {
     "data": {
      "text/plain": []
     },
     "metadata": {},
     "output_type": "display_data"
    }
   ],
   "source": [
    "load.resolver(\"imagej.public\" at \"http://maven.imagej.net/content/groups/public\")\n",
    "load.ivy(\"net.imagej\" % \"imagej\" % \"2.0.0-rc-44\") // use % since %% adds scala version\n",
    "load.ivy(\"de.christophkraemer\" % \"rhino-script-engine\" % \"1.1.0\")  // since it's not in the classpath with notebooks per default"
   ]
  },
  {
   "cell_type": "code",
   "execution_count": 2,
   "metadata": {
    "collapsed": false
   },
   "outputs": [
    {
     "data": {
      "text/plain": [
       "\u001b[32mimport \u001b[36mnet.imagej.ops.AbstractOp\u001b[0m\n",
       "\u001b[32mimport \u001b[36mnet.imagej.ops.Op\u001b[0m\n",
       "\u001b[32mimport \u001b[36mnet.imglib2.Cursor\u001b[0m\n",
       "\u001b[32mimport \u001b[36mnet.imglib2.img.array.ArrayImg\u001b[0m\n",
       "\u001b[32mimport \u001b[36mnet.imglib2.img.array.ArrayImgs\u001b[0m\n",
       "\u001b[32mimport \u001b[36mnet.imglib2.img.basictypeaccess.array.DoubleArray\u001b[0m\n",
       "\u001b[32mimport \u001b[36mnet.imglib2.`type`.numeric.RealType\u001b[0m\n",
       "\u001b[32mimport \u001b[36mnet.imglib2.`type`.numeric.real.DoubleType\u001b[0m\n",
       "\u001b[32mimport \u001b[36morg.scijava.ItemIO\u001b[0m\n",
       "\u001b[32mimport \u001b[36morg.scijava.plugin.Parameter\u001b[0m\n",
       "\u001b[32mimport \u001b[36morg.scijava.plugin.Plugin\u001b[0m"
      ]
     },
     "metadata": {},
     "output_type": "display_data"
    }
   ],
   "source": [
    "import net.imagej.ops.AbstractOp\n",
    "import net.imagej.ops.Op\n",
    "import net.imglib2.Cursor\n",
    "import net.imglib2.img.array.ArrayImg\n",
    "import net.imglib2.img.array.ArrayImgs\n",
    "import net.imglib2.img.basictypeaccess.array.DoubleArray\n",
    "import net.imglib2.`type`.numeric.RealType\n",
    "import net.imglib2.`type`.numeric.real.DoubleType\n",
    "\n",
    "import org.scijava.ItemIO\n",
    "import org.scijava.plugin.Parameter\n",
    "import org.scijava.plugin.Plugin"
   ]
  },
  {
   "cell_type": "code",
   "execution_count": 3,
   "metadata": {
    "collapsed": false
   },
   "outputs": [
    {
     "data": {
      "text/plain": [
       "defined \u001b[32mobject \u001b[36mMyOps\u001b[0m"
      ]
     },
     "metadata": {},
     "output_type": "display_data"
    }
   ],
   "source": [
    "object MyOps {\n",
    "    @Plugin(`type` = classOf[Op], name = \"ramp2\")\n",
    "class Ramp extends AbstractOp {\n",
    "    \n",
    "    @Parameter(`type` = ItemIO.OUTPUT)\n",
    "\tprivate var rampImg: ArrayImg[DoubleType, DoubleArray] = null\n",
    "    \n",
    "\toverride def run(): Unit = {\n",
    "        rampImg = ArrayImgs.doubles(256, 256);\n",
    "\n",
    "\t\tval c = rampImg.localizingCursor();\n",
    "\t\tval pos = new Array[Long](rampImg.numDimensions());\n",
    "\t\twhile (c.hasNext()) {\n",
    "\t\t\tc.fwd()\n",
    "\t\t\tc.localize(pos)\n",
    "\t\t\tc.get().setReal(sum(pos))\n",
    "\t\t}\n",
    "\t}\n",
    "    \n",
    "    private def sum(pos: Array[Long]) = {\n",
    "\t\tvar sum = 0.0f;\n",
    "\t\tfor (p <- pos) sum += p;\n",
    "\t\tsum\n",
    "\t}\n",
    "    /** make it accessible from outside **/\n",
    "    def getOutput() = rampImg\n",
    "}\n",
    "}\n",
    "//import MyOps._\n"
   ]
  },
  {
   "cell_type": "code",
   "execution_count": 4,
   "metadata": {
    "collapsed": false
   },
   "outputs": [
    {
     "data": {
      "text/plain": [
       "\u001b[32mimport \u001b[36mnet.imagej.ImageJ\u001b[0m\n",
       "\u001b[36mij\u001b[0m: net.imagej.ImageJ = net.imagej.ImageJ@6b8fe947"
      ]
     },
     "metadata": {},
     "output_type": "display_data"
    }
   ],
   "source": [
    "import net.imagej.ImageJ\n",
    "val ij = new ImageJ()"
   ]
  },
  {
   "cell_type": "code",
   "execution_count": null,
   "metadata": {
    "collapsed": false
   },
   "outputs": [],
   "source": []
  },
  {
   "cell_type": "code",
   "execution_count": 5,
   "metadata": {
    "collapsed": false
   },
   "outputs": [
    {
     "data": {
      "text/plain": [
       "\u001b[32mimport \u001b[36mMyOps._\u001b[0m\n",
       "\u001b[32mimport \u001b[36morg.scijava.plugin.PluginInfo\u001b[0m\n",
       "\u001b[36mrampInfo\u001b[0m: org.scijava.plugin.PluginInfo[net.imagej.ops.Op] = name='ramp2', priority=0.0, enabled=true, pluginType=Op"
      ]
     },
     "metadata": {},
     "output_type": "display_data"
    }
   ],
   "source": [
    "import MyOps._\n",
    "import org.scijava.plugin.PluginInfo\n",
    "val rampInfo = new PluginInfo(classOf[Ramp],\n",
    "                              classOf[Op]\n",
    "                             )\n",
    "ij.plugin().addPlugin(rampInfo)"
   ]
  },
  {
   "cell_type": "code",
   "execution_count": 6,
   "metadata": {
    "collapsed": false
   },
   "outputs": [
    {
     "name": "stderr",
     "output_type": "stream",
     "text": [
      "[ERROR] Cannot create module: cmd2$$user$MyOps$Ramp\n",
      "org.scijava.module.ModuleException: org.scijava.InstantiableException: java.lang.InstantiationException: cmd2$$user$MyOps$Ramp\n",
      "\tat org.scijava.command.CommandModule.instantiateCommand(CommandModule.java:250)\n",
      "\tat org.scijava.command.CommandModule.<init>(CommandModule.java:96)\n",
      "\tat org.scijava.command.CommandInfo.createModule(CommandInfo.java:330)\n",
      "\tat org.scijava.module.DefaultModuleService.createModule(DefaultModuleService.java:156)\n",
      "\tat net.imagej.ops.DefaultOpMatchingService.createModule(DefaultOpMatchingService.java:341)\n",
      "\tat net.imagej.ops.DefaultOpMatchingService.match(DefaultOpMatchingService.java:288)\n",
      "\tat net.imagej.ops.DefaultOpMatchingService.match(DefaultOpMatchingService.java:155)\n",
      "\tat net.imagej.ops.DefaultOpMatchingService.findMatches(DefaultOpMatchingService.java:142)\n",
      "\tat net.imagej.ops.DefaultOpMatchingService.findModule(DefaultOpMatchingService.java:91)\n",
      "\tat net.imagej.ops.OpEnvironment.module(OpEnvironment.java:226)\n",
      "\tat net.imagej.ops.OpEnvironment.run(OpEnvironment.java:126)\n",
      "\tat cmd5$$user$$anonfun$3.apply(Main.scala:84)\n",
      "\tat cmd5$$user.<init>(Main.scala:85)\n",
      "\tat cmd5.<init>(Main.scala:95)\n",
      "\tat cmd5$.<init>(Main.scala:63)\n",
      "\tat cmd5$.<clinit>(Main.scala)\n",
      "\tat cmd5$Main$.$main(Main.scala:58)\n",
      "\tat cmd5$Main.$main(Main.scala)\n",
      "\tat sun.reflect.NativeMethodAccessorImpl.invoke0(Native Method)\n",
      "\tat sun.reflect.NativeMethodAccessorImpl.invoke(NativeMethodAccessorImpl.java:62)\n",
      "\tat sun.reflect.DelegatingMethodAccessorImpl.invoke(DelegatingMethodAccessorImpl.java:43)\n",
      "\tat java.lang.reflect.Method.invoke(Method.java:497)\n",
      "\tat ammonite.interpreter.Interpreter$$anonfun$process$1$$anonfun$apply$21$$anonfun$apply$24$$anonfun$apply$25$$anonfun$11.apply(Interpreter.scala:259)\n",
      "\tat ammonite.interpreter.Interpreter.evaluatorRunPrinter(Interpreter.scala:279)\n",
      "\tat ammonite.interpreter.Interpreter$$anonfun$process$1$$anonfun$apply$21$$anonfun$apply$24$$anonfun$apply$25.apply(Interpreter.scala:259)\n",
      "\tat ammonite.interpreter.Interpreter$$anonfun$process$1$$anonfun$apply$21$$anonfun$apply$24$$anonfun$apply$25.apply(Interpreter.scala:248)\n",
      "\tat ammonite.interpreter.Catching.map(Util.scala:75)\n",
      "\tat ammonite.interpreter.Interpreter$$anonfun$process$1$$anonfun$apply$21$$anonfun$apply$24.apply(Interpreter.scala:248)\n",
      "\tat ammonite.interpreter.Interpreter$$anonfun$process$1$$anonfun$apply$21$$anonfun$apply$24.apply(Interpreter.scala:246)\n",
      "\tat ammonite.interpreter.Res$Success.flatMap(Util.scala:27)\n",
      "\tat ammonite.interpreter.Interpreter$$anonfun$process$1$$anonfun$apply$21.apply(Interpreter.scala:246)\n",
      "\tat ammonite.interpreter.Interpreter$$anonfun$process$1$$anonfun$apply$21.apply(Interpreter.scala:244)\n",
      "\tat ammonite.interpreter.Res$Success.flatMap(Util.scala:27)\n",
      "\tat ammonite.interpreter.Interpreter$$anonfun$process$1.apply(Interpreter.scala:244)\n",
      "\tat ammonite.interpreter.Interpreter$$anonfun$process$1.apply(Interpreter.scala:243)\n",
      "\tat ammonite.interpreter.Res$Success.flatMap(Util.scala:27)\n",
      "\tat ammonite.interpreter.Interpreter.process(Interpreter.scala:243)\n",
      "\tat ammonite.interpreter.Interpreter$$anonfun$apply$6$$anonfun$apply$9$$anonfun$apply$10.apply(Interpreter.scala:202)\n",
      "\tat ammonite.interpreter.Interpreter$$anonfun$apply$6$$anonfun$apply$9$$anonfun$apply$10.apply(Interpreter.scala:201)\n",
      "\tat ammonite.interpreter.Capturing$$anonfun$apply$7.apply(Capture.scala:111)\n",
      "\tat ammonite.interpreter.Capture$$anonfun$ammonite$interpreter$Capture$$withErr$1.apply(Capture.scala:40)\n",
      "\tat scala.util.DynamicVariable.withValue(DynamicVariable.scala:57)\n",
      "\tat scala.Console$.withErr(Console.scala:148)\n",
      "\tat ammonite.interpreter.Capture$.ammonite$interpreter$Capture$$withErr(Capture.scala:36)\n",
      "\tat ammonite.interpreter.Capture$$anonfun$3.apply(Capture.scala:50)\n",
      "\tat ammonite.interpreter.Capture$$anonfun$withOut$1.apply(Capture.scala:31)\n",
      "\tat scala.util.DynamicVariable.withValue(DynamicVariable.scala:57)\n",
      "\tat scala.Console$.withOut(Console.scala:107)\n",
      "\tat ammonite.interpreter.Capture$.withOut(Capture.scala:27)\n",
      "\tat ammonite.interpreter.Capture$.withOutAndErr(Capture.scala:50)\n",
      "\tat ammonite.interpreter.Capture$.apply(Capture.scala:91)\n",
      "\tat ammonite.interpreter.Capturing.apply(Capture.scala:111)\n",
      "\tat ammonite.interpreter.Capturing.flatMap(Capture.scala:116)\n",
      "\tat ammonite.interpreter.Interpreter$$anonfun$apply$6$$anonfun$apply$9.apply(Interpreter.scala:201)\n",
      "\tat ammonite.interpreter.Interpreter$$anonfun$apply$6$$anonfun$apply$9.apply(Interpreter.scala:199)\n",
      "\tat ammonite.interpreter.Res$Success.flatMap(Util.scala:27)\n",
      "\tat ammonite.interpreter.Interpreter$$anonfun$apply$6.apply(Interpreter.scala:199)\n",
      "\tat ammonite.interpreter.Interpreter$$anonfun$apply$6.apply(Interpreter.scala:195)\n",
      "\tat ammonite.interpreter.Catching.flatMap(Util.scala:73)\n",
      "\tat ammonite.interpreter.Interpreter.apply(Interpreter.scala:195)\n",
      "\tat jupyter.scala.ScalaInterpreter$$anon$1.interpret(ScalaInterpreter.scala:189)\n",
      "\tat jupyter.kernel.interpreter.InterpreterHandler$$anonfun$execute$1$$anonfun$apply$6.apply(InterpreterHandler.scala:100)\n",
      "\tat jupyter.kernel.interpreter.InterpreterHandler$$anonfun$execute$1$$anonfun$apply$6.apply(InterpreterHandler.scala:82)\n",
      "\tat jupyter.kernel.interpreter.InterpreterHandler$$anonfun$jupyter$kernel$interpreter$InterpreterHandler$$publishing$1$$anonfun$4.apply(InterpreterHandler.scala:55)\n",
      "\tat jupyter.kernel.interpreter.InterpreterHandler$$anonfun$jupyter$kernel$interpreter$InterpreterHandler$$publishing$1$$anonfun$4.apply(InterpreterHandler.scala:55)\n",
      "\tat scalaz.concurrent.Task$.Try(Task.scala:379)\n",
      "\tat scalaz.concurrent.Task$$anonfun$unsafeStart$1.apply(Task.scala:290)\n",
      "\tat scalaz.concurrent.Task$$anonfun$unsafeStart$1.apply(Task.scala:290)\n",
      "\tat scalaz.concurrent.Future$$anonfun$apply$15$$anon$3.call(Future.scala:367)\n",
      "\tat scalaz.concurrent.Future$$anonfun$apply$15$$anon$3.call(Future.scala:367)\n",
      "\tat java.util.concurrent.FutureTask.run(FutureTask.java:266)\n",
      "\tat java.util.concurrent.ThreadPoolExecutor.runWorker(ThreadPoolExecutor.java:1142)\n",
      "\tat java.util.concurrent.ThreadPoolExecutor$Worker.run(ThreadPoolExecutor.java:617)\n",
      "\tat java.lang.Thread.run(Thread.java:745)\n",
      "Caused by: org.scijava.InstantiableException: java.lang.InstantiationException: cmd2$$user$MyOps$Ramp\n",
      "\tat org.scijava.plugin.PluginInfo.createInstance(PluginInfo.java:307)\n",
      "\tat org.scijava.command.CommandInfo.createInstance(CommandInfo.java:250)\n",
      "\tat org.scijava.command.CommandModule.instantiateCommand(CommandModule.java:247)\n",
      "\t... 73 more\n",
      "Caused by: java.lang.InstantiationException: cmd2$$user$MyOps$Ramp\n",
      "\tat java.lang.Class.newInstance(Class.java:427)\n",
      "\tat org.scijava.plugin.PluginInfo.createInstance(PluginInfo.java:302)\n",
      "\t... 75 more\n",
      "Caused by: java.lang.NoSuchMethodException: cmd2$$user$MyOps$Ramp.<init>()\n",
      "\tat java.lang.Class.getConstructor0(Class.java:3082)\n",
      "\tat java.lang.Class.newInstance(Class.java:412)\n",
      "\t... 76 more\n"
     ]
    },
    {
     "ename": "",
     "evalue": "",
     "output_type": "error",
     "traceback": [
      "java.lang.NullPointerException",
      "\tnet.imagej.ops.DefaultOpMatchingService.createModule(DefaultOpMatchingService.java:347)",
      "\tnet.imagej.ops.DefaultOpMatchingService.match(DefaultOpMatchingService.java:288)",
      "\tnet.imagej.ops.DefaultOpMatchingService.match(DefaultOpMatchingService.java:155)",
      "\tnet.imagej.ops.DefaultOpMatchingService.findMatches(DefaultOpMatchingService.java:142)",
      "\tnet.imagej.ops.DefaultOpMatchingService.findModule(DefaultOpMatchingService.java:91)",
      "\tnet.imagej.ops.OpEnvironment.module(OpEnvironment.java:226)",
      "\tnet.imagej.ops.OpEnvironment.run(OpEnvironment.java:126)",
      "\tcmd5$$user$$anonfun$3.apply(Main.scala:84)"
     ]
    }
   ],
   "source": [
    "val rampImage = ij.op().run(\"ramp2\");\n",
    "\n",
    "// And display the result!\n",
    "ij.ui().showUI();\n",
    "ij.ui().show(rampImage);"
   ]
  },
  {
   "cell_type": "code",
   "execution_count": 7,
   "metadata": {
    "collapsed": false,
    "scrolled": true
   },
   "outputs": [
    {
     "ename": "",
     "evalue": "",
     "output_type": "error",
     "traceback": [
      "Compilation Failed",
      "\u001b[31mMain.scala:88: cmd6.this.$ref$cmd2.MyOps.Ramp does not take type parameters",
      "    val t_op = new Ramp[DoubleType]()",
      "                   ^\u001b[0m"
     ]
    }
   ],
   "source": [
    "// Hack the Op\n",
    "val hackedRampImage = {\n",
    "    val t_op = new Ramp[DoubleType]()\n",
    "    t_op.run()\n",
    "    t_op.getOutput()\n",
    "}\n",
    "ij.ui().showUI();\n",
    "ij.ui().show(hackedRampImage);"
   ]
  },
  {
   "cell_type": "code",
   "execution_count": 10,
   "metadata": {
    "collapsed": false
   },
   "outputs": [
    {
     "ename": "",
     "evalue": "",
     "output_type": "error",
     "traceback": [
      "java.lang.InstantiationException: cmd2$$user$MyOps$Ramp",
      "\tjava.lang.Class.newInstance(Class.java:427)",
      "\tcmd7$$user$$anonfun$3.apply(Main.scala:92)",
      "\tcmd7$$user$$anonfun$3.apply(Main.scala:90)",
      "java.lang.NoSuchMethodException: cmd2$$user$MyOps$Ramp.<init>()",
      "\tjava.lang.Class.getConstructor0(Class.java:3082)",
      "\tjava.lang.Class.newInstance(Class.java:412)",
      "\tcmd7$$user$$anonfun$3.apply(Main.scala:92)",
      "\tcmd7$$user$$anonfun$3.apply(Main.scala:90)"
     ]
    }
   ],
   "source": [
    "// Hack the Op\n",
    "val hackedRefRampImage = {\n",
    "    val t_op = classOf[MyOps.Ramp].newInstance()\n",
    "    t_op.run()\n",
    "    t_op.getOutput()\n",
    "}\n",
    "ij.ui().showUI();\n",
    "ij.ui().show(hackedRefRampImage);"
   ]
  },
  {
   "cell_type": "markdown",
   "metadata": {},
   "source": [
    "# Constructor Issue\n",
    "The constructor shows up with an argument via reflection (even though it has no real args). This needs to be fixed."
   ]
  },
  {
   "cell_type": "code",
   "execution_count": 9,
   "metadata": {
    "collapsed": false
   },
   "outputs": [
    {
     "data": {
      "text/plain": [
       "\u001b[36mmyConst\u001b[0m: scala.Array[java.lang.reflect.Constructor[_]] = \u001b[33mArray\u001b[0m(public cmd2$$user$MyOps$Ramp(cmd2$$user$MyOps$))\n",
       "\u001b[36mres6_1\u001b[0m: scala.Array[java.lang.reflect.Constructor[_]] = \u001b[33mArray\u001b[0m(public net.imagej.ImageJ(), public net.imagej.ImageJ(org.scijava.Context))"
      ]
     },
     "metadata": {},
     "output_type": "display_data"
    }
   ],
   "source": [
    "val myConst = classOf[MyOps.Ramp].getConstructors()\n",
    "classOf[ImageJ].getConstructors()"
   ]
  },
  {
   "cell_type": "code",
   "execution_count": 11,
   "metadata": {
    "collapsed": false
   },
   "outputs": [
    {
     "ename": "",
     "evalue": "",
     "output_type": "error",
     "traceback": [
      "java.lang.InstantiationException: cmd2$$user$MyOps$Ramp",
      "\tjava.lang.Class.newInstance(Class.java:427)",
      "\tcmd8$$user$$anonfun$1.apply(Main.scala:89)",
      "\tcmd8$$user$$anonfun$1.apply(Main.scala:88)",
      "java.lang.NoSuchMethodException: cmd2$$user$MyOps$Ramp.<init>()",
      "\tjava.lang.Class.getConstructor0(Class.java:3082)",
      "\tjava.lang.Class.newInstance(Class.java:412)",
      "\tcmd8$$user$$anonfun$1.apply(Main.scala:89)",
      "\tcmd8$$user$$anonfun$1.apply(Main.scala:88)"
     ]
    }
   ],
   "source": [
    "classOf[MyOps.Ramp].newInstance()"
   ]
  },
  {
   "cell_type": "code",
   "execution_count": 12,
   "metadata": {
    "collapsed": false
   },
   "outputs": [
    {
     "ename": "",
     "evalue": "",
     "output_type": "error",
     "traceback": [
      "Compilation Failed",
      "\u001b[31mMain.scala:89: too many arguments for method newInstance: ()cmd9.this.$ref$cmd2.MyOps.Ramp",
      "classOf[MyOps.Ramp].newInstance(null)",
      "                               ^\u001b[0m"
     ]
    }
   ],
   "source": [
    "classOf[MyOps.Ramp].newInstance(null)"
   ]
  },
  {
   "cell_type": "code",
   "execution_count": 13,
   "metadata": {
    "collapsed": false
   },
   "outputs": [
    {
     "ename": "",
     "evalue": "",
     "output_type": "error",
     "traceback": [
      "Compilation Failed",
      "\u001b[31mMain.scala:89: too many arguments for method newInstance: ()cmd9.this.$ref$cmd2.MyOps.Ramp",
      "classOf[MyOps.Ramp].newInstance(Array[Object](null))",
      "                               ^\u001b[0m"
     ]
    }
   ],
   "source": [
    "classOf[MyOps.Ramp].newInstance(Array[Object](null))"
   ]
  },
  {
   "cell_type": "code",
   "execution_count": null,
   "metadata": {
    "collapsed": true
   },
   "outputs": [],
   "source": []
  }
 ],
 "metadata": {
  "kernelspec": {
   "display_name": "Scala 2.10",
   "language": "scala210",
   "name": "scala210"
  },
  "language_info": {
   "codemirror_mode": "text/x-scala",
   "file_extension": "scala",
   "mimetype": "text/x-scala",
   "name": "scala210",
   "pygments_lexer": "scala",
   "version": "2.10.5"
  }
 },
 "nbformat": 4,
 "nbformat_minor": 0
}
