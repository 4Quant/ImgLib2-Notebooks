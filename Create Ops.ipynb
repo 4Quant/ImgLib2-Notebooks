{
 "cells": [
  {
   "cell_type": "markdown",
   "metadata": {},
   "source": [
    "# Create Op Tutorial\n",
    "\n",
    "A simple adaptation of using the Jupyter Scala Implementation (https://github.com/alexarchambault/jupyter-scala) of these examples (https://github.com/imagej/imagej-tutorials/tree/master/create-a-new-op)"
   ]
  },
  {
   "cell_type": "code",
   "execution_count": 1,
   "metadata": {
    "collapsed": false
   },
   "outputs": [
    {
     "name": "stdout",
     "output_type": "stream",
     "text": [
      "22 new artifact(s)"
     ]
    },
    {
     "name": "stderr",
     "output_type": "stream",
     "text": [
      "22 new artifacts in macro"
     ]
    },
    {
     "name": "stdout",
     "output_type": "stream",
     "text": [
      "\n"
     ]
    },
    {
     "name": "stderr",
     "output_type": "stream",
     "text": [
      "\n",
      "22 new artifacts in runtime\n",
      "22 new artifacts in compile\n"
     ]
    },
    {
     "name": "stdout",
     "output_type": "stream",
     "text": [
      "2 new artifact(s)\n"
     ]
    },
    {
     "name": "stderr",
     "output_type": "stream",
     "text": [
      "2 new artifacts in macro\n",
      "2 new artifacts in runtime\n",
      "2 new artifacts in compile\n"
     ]
    },
    {
     "data": {
      "text/plain": []
     },
     "metadata": {},
     "output_type": "display_data"
    }
   ],
   "source": [
    "classpath.addRepository(\"http://maven.imagej.net/content/groups/public\")\n",
    "classpath.add(\"net.imagej\" % \"imagej\" % \"2.0.0-rc-50\") // use % since %% adds scala version\n",
    "classpath.add(\"de.christophkraemer\" % \"rhino-script-engine\" % \"1.1.0\")  // since it's not in the classpath with notebooks per default"
   ]
  },
  {
   "cell_type": "code",
   "execution_count": 2,
   "metadata": {
    "collapsed": false
   },
   "outputs": [
    {
     "data": {
      "text/plain": [
       "\u001b[32mimport \u001b[36mnet.imagej.ops.AbstractOp\u001b[0m\n",
       "\u001b[32mimport \u001b[36mnet.imagej.ops.Op\u001b[0m\n",
       "\u001b[32mimport \u001b[36mnet.imglib2.Cursor\u001b[0m\n",
       "\u001b[32mimport \u001b[36mnet.imglib2.img.array.ArrayImg\u001b[0m\n",
       "\u001b[32mimport \u001b[36mnet.imglib2.img.array.ArrayImgs\u001b[0m\n",
       "\u001b[32mimport \u001b[36mnet.imglib2.img.basictypeaccess.array.DoubleArray\u001b[0m\n",
       "\u001b[32mimport \u001b[36mnet.imglib2.`type`.numeric.RealType\u001b[0m\n",
       "\u001b[32mimport \u001b[36mnet.imglib2.`type`.numeric.real.DoubleType\u001b[0m\n",
       "\u001b[32mimport \u001b[36mnet.imglib2.img.Img\u001b[0m\n",
       "\u001b[32mimport \u001b[36morg.scijava.ItemIO\u001b[0m\n",
       "\u001b[32mimport \u001b[36morg.scijava.plugin.Parameter\u001b[0m\n",
       "\u001b[32mimport \u001b[36morg.scijava.plugin.Plugin\u001b[0m"
      ]
     },
     "metadata": {},
     "output_type": "display_data"
    }
   ],
   "source": [
    "import net.imagej.ops.AbstractOp\n",
    "import net.imagej.ops.Op\n",
    "import net.imglib2.Cursor\n",
    "import net.imglib2.img.array.ArrayImg\n",
    "import net.imglib2.img.array.ArrayImgs\n",
    "import net.imglib2.img.basictypeaccess.array.DoubleArray\n",
    "import net.imglib2.`type`.numeric.RealType\n",
    "import net.imglib2.`type`.numeric.real.DoubleType\n",
    "import net.imglib2.img.Img\n",
    "import org.scijava.ItemIO\n",
    "import org.scijava.plugin.Parameter\n",
    "import org.scijava.plugin.Plugin"
   ]
  },
  {
   "cell_type": "code",
   "execution_count": 3,
   "metadata": {
    "collapsed": false
   },
   "outputs": [
    {
     "data": {
      "text/plain": [
       "\u001b[32mimport \u001b[36mnet.imglib2.`type`.numeric.integer.UnsignedByteType\u001b[0m\n",
       "defined \u001b[32mclass \u001b[36mRamp\u001b[0m"
      ]
     },
     "metadata": {},
     "output_type": "display_data"
    }
   ],
   "source": [
    "import special.wrap.obj // needed so the class is created correctly\n",
    "import net.imglib2.`type`.numeric.integer.UnsignedByteType\n",
    "@Plugin(`type` = classOf[Op], name = \"ramp\")\n",
    "class Ramp extends AbstractOp {\n",
    "    \n",
    "    @Parameter(`type` = ItemIO.OUTPUT)\n",
    "\tprivate var rampImg: ArrayImg[UnsignedByteType, _] = null\n",
    "    \n",
    "\toverride def run(): Unit = {\n",
    "        rampImg = ArrayImgs.unsignedBytes(256, 256);\n",
    "\n",
    "\t\tval c = rampImg.localizingCursor();\n",
    "\t\tval pos = new Array[Long](rampImg.numDimensions());\n",
    "\t\twhile (c.hasNext()) {\n",
    "\t\t\tc.fwd()\n",
    "\t\t\tc.localize(pos)\n",
    "\t\t\tc.get().setReal(sum(pos))\n",
    "\t\t}\n",
    "\t}\n",
    "    \n",
    "    private def sum(pos: Array[Long]) = {\n",
    "\t\tvar sum = 0.0f;\n",
    "\t\tfor (p <- pos) sum += p;\n",
    "\t\tsum/2\n",
    "\t}\n",
    "}"
   ]
  },
  {
   "cell_type": "code",
   "execution_count": 4,
   "metadata": {
    "collapsed": false
   },
   "outputs": [
    {
     "data": {
      "text/plain": [
       "\u001b[32mimport \u001b[36mnet.imagej.ImageJ\u001b[0m\n",
       "\u001b[36mij\u001b[0m: \u001b[32mnet\u001b[0m.\u001b[32mimagej\u001b[0m.\u001b[32mImageJ\u001b[0m = net.imagej.ImageJ@644cad7e"
      ]
     },
     "metadata": {},
     "output_type": "display_data"
    }
   ],
   "source": [
    "import net.imagej.ImageJ\n",
    "implicit val ij = new ImageJ() // so it can be pulled into other functions"
   ]
  },
  {
   "cell_type": "code",
   "execution_count": 5,
   "metadata": {
    "collapsed": false
   },
   "outputs": [
    {
     "data": {
      "text/plain": [
       "\u001b[32mimport \u001b[36morg.scijava.plugin.PluginInfo\u001b[0m\n",
       "\u001b[36mrampInfo\u001b[0m: \u001b[32morg\u001b[0m.\u001b[32mscijava\u001b[0m.\u001b[32mplugin\u001b[0m.\u001b[32mPluginInfo\u001b[0m[\u001b[32mOp\u001b[0m] = name='ramp', priority=0.0, enabled=true, pluginType=Op"
      ]
     },
     "metadata": {},
     "output_type": "display_data"
    }
   ],
   "source": [
    "// Manually Register the Op as a plugin\n",
    "import org.scijava.plugin.PluginInfo\n",
    "val rampInfo = new PluginInfo(classOf[Ramp],\n",
    "                              classOf[Op]\n",
    "                             )\n",
    "ij.plugin().addPlugin(rampInfo)"
   ]
  },
  {
   "cell_type": "code",
   "execution_count": 6,
   "metadata": {
    "collapsed": false
   },
   "outputs": [
    {
     "data": {
      "text/plain": [
       "\u001b[36mrampImage\u001b[0m: \u001b[32mObject\u001b[0m = ArrayImg [256x256]"
      ]
     },
     "metadata": {},
     "output_type": "display_data"
    }
   ],
   "source": [
    "// call the op to make a new image\n",
    "val rampImage = ij.op().run(\"ramp\")\n"
   ]
  },
  {
   "cell_type": "code",
   "execution_count": 7,
   "metadata": {
    "collapsed": false
   },
   "outputs": [
    {
     "data": {
      "text/plain": [
       "defined \u001b[32mclass \u001b[36mpreviewDataset\u001b[0m"
      ]
     },
     "metadata": {},
     "output_type": "display_data"
    }
   ],
   "source": [
    "implicit class previewDataset(curSet: net.imagej.Dataset)(implicit ij: net.imagej.ImageJ) {\n",
    "    /** saves the file to a temporary directory, read it in again as a bytearray and feed it to the jupyter function **/\n",
    "    def preview() = {\n",
    "        val tFile = java.io.File.createTempFile(\"jupy\",\".jpg\")\n",
    "        ij.scifio().datasetIO().save(curSet,tFile.getPath())\n",
    "        val imgFIS = new java.io.FileInputStream(tFile.getPath())\n",
    "        val out = new Array[Byte](imgFIS.getChannel().size().toInt)\n",
    "        imgFIS.read(out)\n",
    "        display.jpg(out)\n",
    "    }\n",
    "}"
   ]
  },
  {
   "cell_type": "code",
   "execution_count": 8,
   "metadata": {
    "collapsed": false
   },
   "outputs": [
    {
     "data": {
      "image/jpeg": "[encoded data removed]"
     },
     "metadata": {},
     "output_type": "display_data"
    },
    {
     "data": {
      "text/plain": []
     },
     "metadata": {},
     "output_type": "display_data"
    }
   ],
   "source": [
    "ij.dataset().create(\n",
    "    rampImage.asInstanceOf[Img[UnsignedByteType]]\n",
    ").preview()"
   ]
  },
  {
   "cell_type": "markdown",
   "metadata": {},
   "source": [
    "## Byte Image\n",
    "Since doubles are hard to save / visualize in web browsers we make a byte version"
   ]
  },
  {
   "cell_type": "code",
   "execution_count": 9,
   "metadata": {
    "collapsed": false
   },
   "outputs": [
    {
     "data": {
      "text/plain": [
       "\u001b[32mimport \u001b[36mnet.imglib2.`type`.numeric.RealType\u001b[0m\n",
       "defined \u001b[32mclass \u001b[36mdsImgPlus\u001b[0m\n",
       "defined \u001b[32mclass \u001b[36mpreviewBufferedImage\u001b[0m"
      ]
     },
     "metadata": {},
     "output_type": "display_data"
    }
   ],
   "source": [
    "\n",
    "import net.imglib2.`type`.numeric.RealType\n",
    "implicit class dsImgPlus[T <: RealType[T], U <: net.imglib2.img.Img[T]](curImg: U)(implicit ij: net.imagej.ImageJ) {\n",
    "    def toDataset() = {\n",
    "       ij.dataset().create(net.imagej.ImgPlus.wrap(curImg))\n",
    "    }\n",
    "    def preview(): Unit = previewDataset(toDataset())(ij).preview()\n",
    "}\n",
    "\n",
    "implicit class previewBufferedImage(bi: java.awt.image.BufferedImage) {\n",
    "    /** saves the file to a temporary directory, read it in again as a bytearray and feed it to the jupyter function **/\n",
    "    def preview() = {\n",
    "        val baos = new java.io.ByteArrayOutputStream()\n",
    "        javax.imageio.ImageIO.write(bi,\"jpg\",baos)\n",
    "        display.jpg(baos.toByteArray)\n",
    "    }\n",
    "}"
   ]
  },
  {
   "cell_type": "code",
   "execution_count": null,
   "metadata": {
    "collapsed": false
   },
   "outputs": [],
   "source": []
  },
  {
   "cell_type": "markdown",
   "metadata": {},
   "source": [
    "## Create from Double\n",
    "A very primitive attempt to calculate the values from the double image"
   ]
  },
  {
   "cell_type": "code",
   "execution_count": 10,
   "metadata": {
    "collapsed": false
   },
   "outputs": [
    {
     "data": {
      "text/plain": [
       "defined \u001b[32mclass \u001b[36mDoubleRamp\u001b[0m\n",
       "\u001b[32mimport \u001b[36morg.scijava.plugin.PluginInfo\u001b[0m\n",
       "\u001b[36mrampInfo\u001b[0m: \u001b[32mPluginInfo\u001b[0m[\u001b[32mOp\u001b[0m] = name='dblramp', priority=0.0, enabled=true, pluginType=Op"
      ]
     },
     "metadata": {},
     "output_type": "display_data"
    }
   ],
   "source": [
    "import special.wrap.obj // needed so the class is created correctly\n",
    "@Plugin(`type` = classOf[Op], name = \"dblramp\")\n",
    "class DoubleRamp extends AbstractOp {\n",
    "    \n",
    "    @Parameter(`type` = ItemIO.OUTPUT)\n",
    "\tprivate var rampImg: ArrayImg[DoubleType, DoubleArray] = null\n",
    "    \n",
    "\toverride def run(): Unit = {\n",
    "        rampImg = ArrayImgs.doubles(256, 256);\n",
    "\n",
    "\t\tval c = rampImg.localizingCursor();\n",
    "\t\tval pos = new Array[Long](rampImg.numDimensions());\n",
    "\t\twhile (c.hasNext()) {\n",
    "\t\t\tc.fwd()\n",
    "\t\t\tc.localize(pos)\n",
    "\t\t\tc.get().setReal(sum(pos))\n",
    "\t\t}\n",
    "\t}\n",
    "    \n",
    "    private def sum(pos: Array[Long]) = {\n",
    "\t\tvar sum = 0.0f;\n",
    "\t\tfor (p <- pos) sum += p;\n",
    "\t\tsum\n",
    "\t}\n",
    "}\n",
    "\n",
    "// Manually Register the Op as a plugin\n",
    "import org.scijava.plugin.PluginInfo\n",
    "val rampInfo = new PluginInfo(classOf[DoubleRamp],\n",
    "                              classOf[Op]\n",
    "                             )\n",
    "ij.plugin().addPlugin(rampInfo)"
   ]
  },
  {
   "cell_type": "code",
   "execution_count": 11,
   "metadata": {
    "collapsed": false
   },
   "outputs": [
    {
     "data": {
      "text/plain": [
       "\u001b[36mdblRampImage\u001b[0m: \u001b[32mObject\u001b[0m = ArrayImg [256x256]"
      ]
     },
     "metadata": {},
     "output_type": "display_data"
    }
   ],
   "source": [
    "// call the op to make a new image\n",
    "val dblRampImage = ij.op().run(\"dblramp\")"
   ]
  },
  {
   "cell_type": "code",
   "execution_count": 13,
   "metadata": {
    "collapsed": false
   },
   "outputs": [
    {
     "data": {
      "text/plain": [
       "\u001b[32mimport \u001b[36mnet.imglib2.RandomAccessibleInterval\u001b[0m\n",
       "\u001b[36mtypeRamp\u001b[0m: \u001b[32mImg\u001b[0m[\u001b[32mDoubleType\u001b[0m] = ArrayImg [256x256]"
      ]
     },
     "metadata": {},
     "output_type": "display_data"
    }
   ],
   "source": [
    "import net.imglib2.RandomAccessibleInterval\n",
    "val typeRamp = rampImage.asInstanceOf[net.imglib2.img.Img[DoubleType]]\n",
    "//val dsRamp = new net.imagej.DefaultDataset(ij.getContext(),net.imagej.ImgPlus.wrap(typeRamp))\n"
   ]
  },
  {
   "cell_type": "code",
   "execution_count": 14,
   "metadata": {
    "collapsed": false
   },
   "outputs": [
    {
     "data": {
      "image/jpeg": "[encoded data removed]"
     },
     "metadata": {},
     "output_type": "display_data"
    },
    {
     "data": {
      "text/plain": [
       "\u001b[36mnormImg\u001b[0m: \u001b[32mImg\u001b[0m[\u001b[32mDoubleType\u001b[0m] = ArrayImg [256x256]\n",
       "\u001b[36mres13_1\u001b[0m: \u001b[32mnet\u001b[0m.\u001b[32mimglib2\u001b[0m.\u001b[32mIterableInterval\u001b[0m[\u001b[32mDoubleType\u001b[0m] = ArrayImg [256x256]"
      ]
     },
     "metadata": {},
     "output_type": "display_data"
    }
   ],
   "source": [
    "val normImg = typeRamp.copy()\n",
    "ij.op().image().normalize(typeRamp,normImg)\n",
    "ij.dataset().create(normImg).preview()"
   ]
  }
 ],
 "metadata": {
  "kernelspec": {
   "display_name": "Scala 2.11",
   "language": "scala211",
   "name": "scala211"
  },
  "language_info": {
   "codemirror_mode": "text/x-scala",
   "file_extension": ".scala",
   "mimetype": "text/x-scala",
   "name": "scala211",
   "pygments_lexer": "scala",
   "version": "2.11.8"
  }
 },
 "nbformat": 4,
 "nbformat_minor": 0
}
