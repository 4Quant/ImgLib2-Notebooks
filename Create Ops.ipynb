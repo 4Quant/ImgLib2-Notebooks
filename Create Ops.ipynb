{
 "cells": [
  {
   "cell_type": "markdown",
   "metadata": {},
   "source": [
    "# Create Op Tutorial\n",
    "\n",
    "A simple adaptation of using the Jupyter Scala Implementation (https://github.com/alexarchambault/jupyter-scala) of these examples (https://github.com/imagej/imagej-tutorials/tree/master/create-a-new-op)"
   ]
  },
  {
   "cell_type": "code",
   "execution_count": 1,
   "metadata": {
    "collapsed": false
   },
   "outputs": [
    {
     "name": "stdout",
     "output_type": "stream",
     "text": [
      ":: problems summary ::\n",
      ":::: WARNINGS\n",
      "\tUnable to reparse com.github.alexarchambault.jupyter#jupyter-scala-api_2.10.5;0.2.0-SNAPSHOT from sonatype-snapshots, using Sun Oct 25 20:00:40 CET 2015\n",
      "\n",
      "\tUnable to reparse com.github.alexarchambault.jupyter#jupyter-scala-api_2.10.5;0.2.0-SNAPSHOT from imagej.public, using Sun Oct 25 20:00:40 CET 2015\n",
      "\n",
      "\tSorting results from com.github.alexarchambault.jupyter#jupyter-scala-api_2.10.5;0.2.0-SNAPSHOT, using Sun Oct 25 20:00:40 CET 2015 and Sun Oct 25 20:00:40 CET 2015\n",
      "\n",
      "\tSorting results from com.github.alexarchambault.jupyter#jupyter-scala-api_2.10.5;0.2.0-SNAPSHOT, using Sun Oct 25 20:00:40 CET 2015 and Sun Oct 25 20:00:40 CET 2015\n",
      "\n",
      "\tChoosing imagej.public for com.github.alexarchambault.jupyter#jupyter-scala-api_2.10.5;0.2.0-SNAPSHOT\n",
      "\n",
      "\tUnable to reparse com.github.alexarchambault#ammonite-api_2.10.5;0.3.1-SNAPSHOT from sonatype-snapshots, using Wed Oct 21 11:44:30 CEST 2015\n",
      "\n",
      "\tUnable to reparse com.github.alexarchambault#ammonite-api_2.10.5;0.3.1-SNAPSHOT from imagej.public, using Wed Oct 21 11:44:30 CEST 2015\n",
      "\n",
      "\tSorting results from com.github.alexarchambault#ammonite-api_2.10.5;0.3.1-SNAPSHOT, using Wed Oct 21 11:44:30 CEST 2015 and Wed Oct 21 11:44:30 CEST 2015\n",
      "\n",
      "\tSorting results from com.github.alexarchambault#ammonite-api_2.10.5;0.3.1-SNAPSHOT, using Wed Oct 21 11:44:30 CEST 2015 and Wed Oct 21 11:44:30 CEST 2015\n",
      "\n",
      "\tChoosing imagej.public for com.github.alexarchambault#ammonite-api_2.10.5;0.3.1-SNAPSHOT\n",
      "\n",
      "\tUnable to reparse com.github.alexarchambault.jupyter#jupyter-api_2.10;0.2.0-SNAPSHOT from sonatype-snapshots, using Wed Oct 21 17:05:05 CEST 2015\n",
      "\n",
      "\tUnable to reparse com.github.alexarchambault.jupyter#jupyter-api_2.10;0.2.0-SNAPSHOT from imagej.public, using Wed Oct 21 17:05:05 CEST 2015\n",
      "\n",
      "\tSorting results from com.github.alexarchambault.jupyter#jupyter-api_2.10;0.2.0-SNAPSHOT, using Wed Oct 21 17:05:05 CEST 2015 and Wed Oct 21 17:05:05 CEST 2015\n",
      "\n",
      "\tSorting results from com.github.alexarchambault.jupyter#jupyter-api_2.10;0.2.0-SNAPSHOT, using Wed Oct 21 17:05:05 CEST 2015 and Wed Oct 21 17:05:05 CEST 2015\n",
      "\n",
      "\tChoosing imagej.public for com.github.alexarchambault.jupyter#jupyter-api_2.10;0.2.0-SNAPSHOT\n",
      "\n",
      ":: problems summary ::\n",
      ":::: WARNINGS\n",
      "\tUnable to reparse com.github.alexarchambault.jupyter#jupyter-scala-api_2.10.5;0.2.0-SNAPSHOT from sonatype-snapshots, using Sun Oct 25 20:00:40 CET 2015\n",
      "\n",
      "\tUnable to reparse com.github.alexarchambault.jupyter#jupyter-scala-api_2.10.5;0.2.0-SNAPSHOT from imagej.public, using Sun Oct 25 20:00:40 CET 2015\n",
      "\n",
      "\tSorting results from com.github.alexarchambault.jupyter#jupyter-scala-api_2.10.5;0.2.0-SNAPSHOT, using Sun Oct 25 20:00:40 CET 2015 and Sun Oct 25 20:00:40 CET 2015\n",
      "\n",
      "\tSorting results from com.github.alexarchambault.jupyter#jupyter-scala-api_2.10.5;0.2.0-SNAPSHOT, using Sun Oct 25 20:00:40 CET 2015 and Sun Oct 25 20:00:40 CET 2015\n",
      "\n",
      "\tChoosing imagej.public for com.github.alexarchambault.jupyter#jupyter-scala-api_2.10.5;0.2.0-SNAPSHOT\n",
      "\n",
      "\tUnable to reparse com.github.alexarchambault#ammonite-api_2.10.5;0.3.1-SNAPSHOT from sonatype-snapshots, using Wed Oct 21 11:44:30 CEST 2015\n",
      "\n",
      "\tUnable to reparse com.github.alexarchambault#ammonite-api_2.10.5;0.3.1-SNAPSHOT from imagej.public, using Wed Oct 21 11:44:30 CEST 2015\n",
      "\n",
      "\tSorting results from com.github.alexarchambault#ammonite-api_2.10.5;0.3.1-SNAPSHOT, using Wed Oct 21 11:44:30 CEST 2015 and Wed Oct 21 11:44:30 CEST 2015\n",
      "\n",
      "\tSorting results from com.github.alexarchambault#ammonite-api_2.10.5;0.3.1-SNAPSHOT, using Wed Oct 21 11:44:30 CEST 2015 and Wed Oct 21 11:44:30 CEST 2015\n",
      "\n",
      "\tChoosing imagej.public for com.github.alexarchambault#ammonite-api_2.10.5;0.3.1-SNAPSHOT\n",
      "\n",
      "\tUnable to reparse com.github.alexarchambault.jupyter#jupyter-api_2.10;0.2.0-SNAPSHOT from sonatype-snapshots, using Wed Oct 21 17:05:05 CEST 2015\n",
      "\n",
      "\tUnable to reparse com.github.alexarchambault.jupyter#jupyter-api_2.10;0.2.0-SNAPSHOT from imagej.public, using Wed Oct 21 17:05:05 CEST 2015\n",
      "\n",
      "\tSorting results from com.github.alexarchambault.jupyter#jupyter-api_2.10;0.2.0-SNAPSHOT, using Wed Oct 21 17:05:05 CEST 2015 and Wed Oct 21 17:05:05 CEST 2015\n",
      "\n",
      "\tSorting results from com.github.alexarchambault.jupyter#jupyter-api_2.10;0.2.0-SNAPSHOT, using Wed Oct 21 17:05:05 CEST 2015 and Wed Oct 21 17:05:05 CEST 2015\n",
      "\n",
      "\tChoosing imagej.public for com.github.alexarchambault.jupyter#jupyter-api_2.10;0.2.0-SNAPSHOT\n",
      "\n"
     ]
    },
    {
     "data": {
      "text/plain": []
     },
     "metadata": {},
     "output_type": "display_data"
    }
   ],
   "source": [
    "load.resolver(\"imagej.public\" at \"http://maven.imagej.net/content/groups/public\")\n",
    "load.ivy(\"net.imagej\" % \"imagej\" % \"2.0.0-rc-44\") // use % since %% adds scala version\n",
    "load.ivy(\"de.christophkraemer\" % \"rhino-script-engine\" % \"1.1.0\")  // since it's not in the classpath with notebooks per default"
   ]
  },
  {
   "cell_type": "code",
   "execution_count": 2,
   "metadata": {
    "collapsed": false
   },
   "outputs": [
    {
     "data": {
      "text/plain": [
       "\u001b[32mimport \u001b[36mnet.imagej.ops.AbstractOp\u001b[0m\n",
       "\u001b[32mimport \u001b[36mnet.imagej.ops.Op\u001b[0m\n",
       "\u001b[32mimport \u001b[36mnet.imglib2.Cursor\u001b[0m\n",
       "\u001b[32mimport \u001b[36mnet.imglib2.img.array.ArrayImg\u001b[0m\n",
       "\u001b[32mimport \u001b[36mnet.imglib2.img.array.ArrayImgs\u001b[0m\n",
       "\u001b[32mimport \u001b[36mnet.imglib2.img.basictypeaccess.array.DoubleArray\u001b[0m\n",
       "\u001b[32mimport \u001b[36mnet.imglib2.`type`.numeric.RealType\u001b[0m\n",
       "\u001b[32mimport \u001b[36mnet.imglib2.`type`.numeric.real.DoubleType\u001b[0m\n",
       "\u001b[32mimport \u001b[36morg.scijava.ItemIO\u001b[0m\n",
       "\u001b[32mimport \u001b[36morg.scijava.plugin.Parameter\u001b[0m\n",
       "\u001b[32mimport \u001b[36morg.scijava.plugin.Plugin\u001b[0m"
      ]
     },
     "metadata": {},
     "output_type": "display_data"
    }
   ],
   "source": [
    "import net.imagej.ops.AbstractOp\n",
    "import net.imagej.ops.Op\n",
    "import net.imglib2.Cursor\n",
    "import net.imglib2.img.array.ArrayImg\n",
    "import net.imglib2.img.array.ArrayImgs\n",
    "import net.imglib2.img.basictypeaccess.array.DoubleArray\n",
    "import net.imglib2.`type`.numeric.RealType\n",
    "import net.imglib2.`type`.numeric.real.DoubleType\n",
    "\n",
    "import org.scijava.ItemIO\n",
    "import org.scijava.plugin.Parameter\n",
    "import org.scijava.plugin.Plugin"
   ]
  },
  {
   "cell_type": "code",
   "execution_count": 17,
   "metadata": {
    "collapsed": false
   },
   "outputs": [
    {
     "data": {
      "text/plain": [
       "defined \u001b[32mclass \u001b[36mRamp\u001b[0m"
      ]
     },
     "metadata": {},
     "output_type": "display_data"
    }
   ],
   "source": [
    "import special.wrap.obj // needed so the class is created correctly\n",
    "@Plugin(`type` = classOf[Op], name = \"ramp\")\n",
    "class Ramp extends AbstractOp {\n",
    "    \n",
    "    @Parameter(`type` = ItemIO.OUTPUT)\n",
    "\tprivate var rampImg: ArrayImg[DoubleType, DoubleArray] = null\n",
    "    \n",
    "\toverride def run(): Unit = {\n",
    "        rampImg = ArrayImgs.doubles(256, 256);\n",
    "\n",
    "\t\tval c = rampImg.localizingCursor();\n",
    "\t\tval pos = new Array[Long](rampImg.numDimensions());\n",
    "\t\twhile (c.hasNext()) {\n",
    "\t\t\tc.fwd()\n",
    "\t\t\tc.localize(pos)\n",
    "\t\t\tc.get().setReal(sum(pos))\n",
    "\t\t}\n",
    "\t}\n",
    "    \n",
    "    private def sum(pos: Array[Long]) = {\n",
    "\t\tvar sum = 0.0f;\n",
    "\t\tfor (p <- pos) sum += p;\n",
    "\t\tsum\n",
    "\t}\n",
    "}\n"
   ]
  },
  {
   "cell_type": "code",
   "execution_count": 33,
   "metadata": {
    "collapsed": false
   },
   "outputs": [
    {
     "ename": "",
     "evalue": "",
     "output_type": "error",
     "traceback": [
      "java.lang.IllegalArgumentException: Invalid service: net.imagej.legacy.LegacyConsoleService",
      "\torg.scijava.service.ServiceHelper.createExactService(ServiceHelper.java:280)",
      "\torg.scijava.service.ServiceHelper.loadService(ServiceHelper.java:231)",
      "\torg.scijava.service.ServiceHelper.loadService(ServiceHelper.java:194)",
      "\torg.scijava.service.ServiceHelper.loadServices(ServiceHelper.java:166)",
      "\torg.scijava.Context.<init>(Context.java:277)",
      "\torg.scijava.Context.<init>(Context.java:234)",
      "\torg.scijava.Context.<init>(Context.java:174)",
      "\torg.scijava.Context.<init>(Context.java:160)",
      "\tnet.imagej.ImageJ.<init>(ImageJ.java:79)",
      "\tcmd18$$user$$anonfun$1.apply(Main.scala:111)",
      "\tcmd18$$user$$anonfun$1.apply(Main.scala:110)",
      "java.lang.IllegalArgumentException: Invalid service: net.imagej.legacy.LegacyService",
      "\torg.scijava.service.ServiceHelper.createExactService(ServiceHelper.java:280)",
      "\torg.scijava.service.ServiceHelper.loadService(ServiceHelper.java:231)",
      "\torg.scijava.service.ServiceHelper.createServiceRecursively(ServiceHelper.java:340)",
      "\torg.scijava.service.ServiceHelper.createExactService(ServiceHelper.java:269)",
      "\torg.scijava.service.ServiceHelper.loadService(ServiceHelper.java:231)",
      "\torg.scijava.service.ServiceHelper.loadService(ServiceHelper.java:194)",
      "\torg.scijava.service.ServiceHelper.loadServices(ServiceHelper.java:166)",
      "\torg.scijava.Context.<init>(Context.java:277)",
      "\torg.scijava.Context.<init>(Context.java:234)",
      "\torg.scijava.Context.<init>(Context.java:174)",
      "\torg.scijava.Context.<init>(Context.java:160)",
      "\tnet.imagej.ImageJ.<init>(ImageJ.java:79)",
      "\tcmd18$$user$$anonfun$1.apply(Main.scala:111)",
      "\tcmd18$$user$$anonfun$1.apply(Main.scala:110)",
      "java.lang.UnsupportedOperationException: Cannot instantiate more than one LegacyService",
      "\tnet.imagej.legacy.LegacyService.checkInstance(LegacyService.java:661)",
      "\tnet.imagej.legacy.LegacyService.initialize(LegacyService.java:461)",
      "\torg.scijava.service.ServiceHelper.createServiceRecursively(ServiceHelper.java:353)",
      "\torg.scijava.service.ServiceHelper.createExactService(ServiceHelper.java:269)",
      "\torg.scijava.service.ServiceHelper.loadService(ServiceHelper.java:231)",
      "\torg.scijava.service.ServiceHelper.createServiceRecursively(ServiceHelper.java:340)",
      "\torg.scijava.service.ServiceHelper.createExactService(ServiceHelper.java:269)",
      "\torg.scijava.service.ServiceHelper.loadService(ServiceHelper.java:231)",
      "\torg.scijava.service.ServiceHelper.loadService(ServiceHelper.java:194)",
      "\torg.scijava.service.ServiceHelper.loadServices(ServiceHelper.java:166)",
      "\torg.scijava.Context.<init>(Context.java:277)",
      "\torg.scijava.Context.<init>(Context.java:234)",
      "\torg.scijava.Context.<init>(Context.java:174)",
      "\torg.scijava.Context.<init>(Context.java:160)",
      "\tnet.imagej.ImageJ.<init>(ImageJ.java:79)",
      "\tcmd18$$user$$anonfun$1.apply(Main.scala:111)",
      "\tcmd18$$user$$anonfun$1.apply(Main.scala:110)",
      "java.lang.Throwable: Initialized here:",
      "\tnet.imagej.legacy.LegacyService.initialize(LegacyService.java:479)",
      "\torg.scijava.service.ServiceHelper.createServiceRecursively(ServiceHelper.java:353)",
      "\torg.scijava.service.ServiceHelper.createExactService(ServiceHelper.java:269)",
      "\torg.scijava.service.ServiceHelper.loadService(ServiceHelper.java:231)",
      "\torg.scijava.service.ServiceHelper.createServiceRecursively(ServiceHelper.java:340)",
      "\torg.scijava.service.ServiceHelper.createExactService(ServiceHelper.java:269)",
      "\torg.scijava.service.ServiceHelper.loadService(ServiceHelper.java:231)",
      "\torg.scijava.service.ServiceHelper.loadService(ServiceHelper.java:194)",
      "\torg.scijava.service.ServiceHelper.loadServices(ServiceHelper.java:166)",
      "\torg.scijava.Context.<init>(Context.java:277)",
      "\torg.scijava.Context.<init>(Context.java:234)",
      "\torg.scijava.Context.<init>(Context.java:174)",
      "\torg.scijava.Context.<init>(Context.java:160)",
      "\tnet.imagej.ImageJ.<init>(ImageJ.java:79)",
      "\tcmd3$$user$$anonfun$1.apply(Main.scala:72)",
      "\tcmd3$$user$$anonfun$1.apply(Main.scala:71)",
      "\tcmd3$$user.<init>(Main.scala:73)",
      "\tcmd3.<init>(Main.scala:77)",
      "\tcmd3$.<init>(Main.scala:52)",
      "\tcmd3$.<clinit>(Main.scala)"
     ]
    }
   ],
   "source": [
    "import net.imagej.ImageJ\n",
    "implicit val ij = new ImageJ()"
   ]
  },
  {
   "cell_type": "code",
   "execution_count": 19,
   "metadata": {
    "collapsed": false
   },
   "outputs": [
    {
     "data": {
      "text/plain": [
       "\u001b[32mimport \u001b[36morg.scijava.plugin.PluginInfo\u001b[0m\n",
       "\u001b[36mrampInfo\u001b[0m: org.scijava.plugin.PluginInfo[net.imagej.ops.Op] = name='ramp2', priority=0.0, enabled=true, pluginType=Op"
      ]
     },
     "metadata": {},
     "output_type": "display_data"
    }
   ],
   "source": [
    "// Manually Register the Op as a plugin\n",
    "import org.scijava.plugin.PluginInfo\n",
    "val rampInfo = new PluginInfo(classOf[Ramp],\n",
    "                              classOf[Op]\n",
    "                             )\n",
    "ij.plugin().addPlugin(rampInfo)"
   ]
  },
  {
   "cell_type": "code",
   "execution_count": 20,
   "metadata": {
    "collapsed": false
   },
   "outputs": [
    {
     "data": {
      "text/plain": [
       "\u001b[36mrampImage\u001b[0m: java.lang.Object = ArrayImg [256x256]"
      ]
     },
     "metadata": {},
     "output_type": "display_data"
    }
   ],
   "source": [
    "// call the op to make a new image\n",
    "val rampImage = ij.op().run(\"ramp\")\n"
   ]
  },
  {
   "cell_type": "markdown",
   "metadata": {},
   "source": [
    "## Byte Image\n",
    "Since doubles are hard to save / visualize in web browsers we make a byte version"
   ]
  },
  {
   "cell_type": "code",
   "execution_count": 97,
   "metadata": {
    "collapsed": false
   },
   "outputs": [
    {
     "data": {
      "text/plain": [
       "\u001b[32mimport \u001b[36mnet.imglib2.`type`.numeric.integer.UnsignedByteType\u001b[0m\n",
       "defined \u001b[32mclass \u001b[36mByteRamp\u001b[0m\n",
       "\u001b[32mimport \u001b[36morg.scijava.plugin.PluginInfo\u001b[0m\n",
       "\u001b[36mrampInfo\u001b[0m: org.scijava.plugin.PluginInfo[net.imagej.ops.Op] = name='ubyteramp', priority=0.0, enabled=true, pluginType=Op"
      ]
     },
     "metadata": {},
     "output_type": "display_data"
    }
   ],
   "source": [
    "import special.wrap.obj // needed so the class is created correctly\n",
    "import net.imglib2.`type`.numeric.integer.UnsignedByteType\n",
    "@Plugin(`type` = classOf[Op], name = \"ubyteramp\")\n",
    "class ByteRamp extends AbstractOp {\n",
    "    \n",
    "    @Parameter(`type` = ItemIO.OUTPUT)\n",
    "\tprivate var rampImg: ArrayImg[UnsignedByteType, _] = null\n",
    "    \n",
    "\toverride def run(): Unit = {\n",
    "        rampImg = ArrayImgs.unsignedBytes(128, 128);\n",
    "\n",
    "\t\tval c = rampImg.localizingCursor();\n",
    "\t\tval pos = new Array[Long](rampImg.numDimensions());\n",
    "\t\twhile (c.hasNext()) {\n",
    "\t\t\tc.fwd()\n",
    "\t\t\tc.localize(pos)\n",
    "\t\t\tc.get().setReal(sum(pos))\n",
    "\t\t}\n",
    "\t}\n",
    "    \n",
    "    private def sum(pos: Array[Long]) = {\n",
    "\t\tvar sum = 0.0f;\n",
    "\t\tfor (p <- pos) sum += p;\n",
    "\t\tsum\n",
    "\t}\n",
    "}\n",
    "\n",
    "// Manually Register the Op as a plugin\n",
    "import org.scijava.plugin.PluginInfo\n",
    "val rampInfo = new PluginInfo(classOf[ByteRamp],\n",
    "                              classOf[Op]\n",
    "                             )\n",
    "ij.plugin().addPlugin(rampInfo)"
   ]
  },
  {
   "cell_type": "code",
   "execution_count": 98,
   "metadata": {
    "collapsed": false
   },
   "outputs": [
    {
     "data": {
      "text/plain": [
       "\u001b[36mbyteRampImage\u001b[0m: java.lang.Object = ArrayImg [128x128]"
      ]
     },
     "metadata": {},
     "output_type": "display_data"
    }
   ],
   "source": [
    "// call the op to make a new image\n",
    "val byteRampImage = ij.op().run(\"ubyteramp\")"
   ]
  },
  {
   "cell_type": "code",
   "execution_count": 99,
   "metadata": {
    "collapsed": false
   },
   "outputs": [
    {
     "data": {
      "text/plain": [
       "defined \u001b[32mclass \u001b[36mpreviewDataset\u001b[0m\n",
       "\u001b[32mimport \u001b[36mnet.imglib2.`type`.numeric.RealType\u001b[0m\n",
       "defined \u001b[32mclass \u001b[36mdsImgPlus\u001b[0m\n",
       "defined \u001b[32mclass \u001b[36mpreviewBufferedImage\u001b[0m"
      ]
     },
     "metadata": {},
     "output_type": "display_data"
    }
   ],
   "source": [
    "implicit class previewDataset(curSet: net.imagej.Dataset)(implicit ij: net.imagej.ImageJ) {\n",
    "    /** saves the file to a temporary directory, read it in again as a bytearray and feed it to the jupyter function **/\n",
    "    def preview() = {\n",
    "        val tFile = java.io.File.createTempFile(\"jupy\",\".jpg\")\n",
    "        ij.scifio().datasetIO().save(curSet,tFile.getPath())\n",
    "        val imgFIS = new java.io.FileInputStream(tFile.getPath())\n",
    "        val out = new Array[Byte](imgFIS.getChannel().size().toInt)\n",
    "        imgFIS.read(out)\n",
    "        display.jpg(out)\n",
    "    }\n",
    "}\n",
    "import net.imglib2.`type`.numeric.RealType\n",
    "implicit class dsImgPlus[T <: RealType[T], U <: net.imglib2.img.Img[T]](curImg: U)(implicit ij: net.imagej.ImageJ) {\n",
    "    def toDataset() = {\n",
    "       ij.dataset().create(net.imagej.ImgPlus.wrap(curImg))\n",
    "    }\n",
    "    def preview(): Unit = previewDataset(toDataset())(ij).preview()\n",
    "}\n",
    "\n",
    "implicit class previewBufferedImage(bi: java.awt.image.BufferedImage) {\n",
    "    /** saves the file to a temporary directory, read it in again as a bytearray and feed it to the jupyter function **/\n",
    "    def preview() = {\n",
    "        val baos = new java.io.ByteArrayOutputStream()\n",
    "        javax.imageio.ImageIO.write(bi,\"jpg\",baos)\n",
    "        display.jpg(baos.toByteArray)\n",
    "    }\n",
    "}"
   ]
  },
  {
   "cell_type": "code",
   "execution_count": 100,
   "metadata": {
    "collapsed": false
   },
   "outputs": [
    {
     "data": {
      "image/jpeg": "[encoded data removed]"
     },
     "metadata": {},
     "output_type": "display_data"
    },
    {
     "data": {
      "text/plain": []
     },
     "metadata": {},
     "output_type": "display_data"
    }
   ],
   "source": [
    "ij.dataset().create(\n",
    "    byteRampImage.asInstanceOf[net.imglib2.img.Img[ByteType]]\n",
    ").preview()"
   ]
  },
  {
   "cell_type": "markdown",
   "metadata": {},
   "source": [
    "## Create from Double\n",
    "A very primitive attempt to calculate the values from the double image"
   ]
  },
  {
   "cell_type": "code",
   "execution_count": 75,
   "metadata": {
    "collapsed": false
   },
   "outputs": [
    {
     "ename": "",
     "evalue": "",
     "output_type": "error",
     "traceback": [
      "Compilation Failed",
      "\u001b[31mMain.scala:180: type mismatch;",
      " found   : net.imglib2.IterableInterval[net.imglib2.type.numeric.real.DoubleType]",
      " required: net.imglib2.RandomAccessibleInterval[?]",
      "ImageJFunctions.show(ij.op().image().normalize(typeRamp,typeRamp.copy())).getBufferedImage() ",
      "                                              ^\u001b[0m"
     ]
    }
   ],
   "source": [
    "import net.imglib2.RandomAccessibleInterval\n",
    "val typeRamp = rampImage.asInstanceOf[net.imglib2.img.Img[DoubleType]]\n",
    "val dsRamp = new net.imagej.DefaultDataset(ij.getContext(),net.imagej.ImgPlus.wrap(typeRamp))\n"
   ]
  },
  {
   "cell_type": "code",
   "execution_count": 77,
   "metadata": {
    "collapsed": false
   },
   "outputs": [
    {
     "data": {
      "image/jpeg": "[encoded data removed]"
     },
     "metadata": {},
     "output_type": "display_data"
    },
    {
     "data": {
      "text/plain": [
       "\u001b[36mnormImg\u001b[0m: net.imglib2.img.Img[net.imglib2.type.numeric.real.DoubleType] = ArrayImg [256x256]\n",
       "\u001b[36mres40_1\u001b[0m: net.imglib2.IterableInterval[net.imglib2.type.numeric.real.DoubleType] = ArrayImg [256x256]"
      ]
     },
     "metadata": {},
     "output_type": "display_data"
    }
   ],
   "source": [
    "import net.imglib2.img.display.imagej.ImageJFunctions;\n",
    "val normImg = typeRamp.copy()\n",
    "ij.op().image().normalize(typeRamp,normImg)\n",
    "val simpImg = ImageJFunctions.show(normImg).getBufferedImage().preview()"
   ]
  },
  {
   "cell_type": "code",
   "execution_count": 79,
   "metadata": {
    "collapsed": false
   },
   "outputs": [
    {
     "data": {
      "text/plain": []
     },
     "metadata": {},
     "output_type": "display_data"
    }
   ],
   "source": [
    "ImageJFunctions.show(normImg).show()"
   ]
  }
 ],
 "metadata": {
  "kernelspec": {
   "display_name": "Scala 2.10",
   "language": "scala210",
   "name": "scala210"
  },
  "language_info": {
   "codemirror_mode": "text/x-scala",
   "file_extension": "scala",
   "mimetype": "text/x-scala",
   "name": "scala210",
   "pygments_lexer": "scala",
   "version": "2.10.5"
  }
 },
 "nbformat": 4,
 "nbformat_minor": 0
}
