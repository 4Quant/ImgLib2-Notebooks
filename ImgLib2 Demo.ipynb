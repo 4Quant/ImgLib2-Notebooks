{
 "cells": [
  {
   "cell_type": "markdown",
   "metadata": {},
   "source": [
    "# Tutorials from ImgLib2\n",
    "\n",
    "A simple adaptation of using the Jupyter Scala Implementation (https://github.com/alexarchambault/jupyter-scala) of these examples (https://github.com/imagej/imagej-tutorials/tree/master/using-ops)"
   ]
  },
  {
   "cell_type": "markdown",
   "metadata": {},
   "source": [
    "The dependencies can be loaded in the notebook using the current values from the net.imagej pom file."
   ]
  },
  {
   "cell_type": "code",
   "execution_count": 1,
   "metadata": {
    "collapsed": false
   },
   "outputs": [
    {
     "name": "stdout",
     "output_type": "stream",
     "text": [
      "22 new artifact(s)"
     ]
    },
    {
     "name": "stderr",
     "output_type": "stream",
     "text": [
      "22 new artifacts in macro"
     ]
    },
    {
     "name": "stdout",
     "output_type": "stream",
     "text": [
      "\n"
     ]
    },
    {
     "name": "stderr",
     "output_type": "stream",
     "text": [
      "\n",
      "22 new artifacts in runtime\n",
      "22 new artifacts in compile\n"
     ]
    },
    {
     "name": "stdout",
     "output_type": "stream",
     "text": [
      "2 new artifact(s)"
     ]
    },
    {
     "name": "stderr",
     "output_type": "stream",
     "text": [
      "2 new artifacts in macro\n"
     ]
    },
    {
     "name": "stdout",
     "output_type": "stream",
     "text": [
      "\n"
     ]
    },
    {
     "name": "stderr",
     "output_type": "stream",
     "text": [
      "2 new artifacts in runtime\n",
      "2 new artifacts in compile\n"
     ]
    },
    {
     "data": {
      "text/plain": []
     },
     "metadata": {},
     "output_type": "display_data"
    }
   ],
   "source": [
    "classpath.addRepository(\"http://maven.imagej.net/content/groups/public\")\n",
    "classpath.add(\"net.imagej\" % \"imagej\" % \"2.0.0-rc-50\") // use % since %% adds scala version\n",
    "classpath.add(\"de.christophkraemer\" % \"rhino-script-engine\" % \"1.1.0\")  // since it's not in the classpath with notebooks per default"
   ]
  },
  {
   "cell_type": "code",
   "execution_count": 3,
   "metadata": {
    "collapsed": false
   },
   "outputs": [
    {
     "data": {
      "text/plain": [
       "\u001b[32mimport \u001b[36mnet.imagej.ImageJ\u001b[0m\n",
       "\u001b[36mij\u001b[0m: \u001b[32mnet\u001b[0m.\u001b[32mimagej\u001b[0m.\u001b[32mImageJ\u001b[0m = net.imagej.ImageJ@59bed5a1"
      ]
     },
     "metadata": {},
     "output_type": "display_data"
    }
   ],
   "source": [
    "import net.imagej.ImageJ\n",
    "val ij = new ImageJ()\n",
    "ij.console().processArgs(\"--headless\");"
   ]
  },
  {
   "cell_type": "code",
   "execution_count": 4,
   "metadata": {
    "collapsed": false
   },
   "outputs": [
    {
     "data": {
      "text/plain": [
       "\u001b[32mimport \u001b[36mnet.imagej.ops.Op\u001b[0m\n",
       "\u001b[32mimport \u001b[36mnet.imglib2.`type`.numeric.real.DoubleType // since type is a keyword in scala\u001b[0m"
      ]
     },
     "metadata": {},
     "output_type": "display_data"
    }
   ],
   "source": [
    "import net.imagej.ops.Op\n",
    "import net.imglib2.`type`.numeric.real.DoubleType // since type is a keyword in scala"
   ]
  },
  {
   "cell_type": "code",
   "execution_count": 5,
   "metadata": {
    "collapsed": false
   },
   "outputs": [
    {
     "name": "stderr",
     "output_type": "stream",
     "text": [
      "[INFO] -------- How many ops? --------\n",
      "[INFO] Found 770 ops\n"
     ]
    },
    {
     "data": {
      "text/plain": [
       "\u001b[36mopCount\u001b[0m: \u001b[32mInt\u001b[0m = \u001b[32m770\u001b[0m"
      ]
     },
     "metadata": {},
     "output_type": "display_data"
    }
   ],
   "source": [
    "ij.log().info(\"-------- How many ops? --------\");\n",
    "val opCount = ij.command().getCommandsOfType(classOf[Op]).size();\n",
    "ij.log().info(\"Found \" + opCount + \" ops\");"
   ]
  },
  {
   "cell_type": "code",
   "execution_count": 6,
   "metadata": {
    "collapsed": false
   },
   "outputs": [
    {
     "name": "stderr",
     "output_type": "stream",
     "text": [
      "[INFO] -------- Learn about an op --------\n",
      "[INFO] Available operations:\n",
      "\t(ArrayImg arg) =\n",
      "\tnet.imagej.ops.math.ConstantToArrayImageP$MultiplyByte(\n",
      "\t\tArrayImg arg,\n",
      "\t\tbyte value)\n",
      "\t(ArrayImg arg) =\n",
      "\tnet.imagej.ops.math.ConstantToArrayImageP$MultiplyDouble(\n",
      "\t\tArrayImg arg,\n",
      "\t\tdouble value)\n",
      "\t(ArrayImg arg) =\n",
      "\tnet.imagej.ops.math.ConstantToArrayImageP$MultiplyFloat(\n",
      "\t\tArrayImg arg,\n",
      "\t\tfloat value)\n",
      "\t(ArrayImg arg) =\n",
      "\tnet.imagej.ops.math.ConstantToArrayImageP$MultiplyInt(\n",
      "\t\tArrayImg arg,\n",
      "\t\tint value)\n",
      "\t(ArrayImg arg) =\n",
      "\tnet.imagej.ops.math.ConstantToArrayImageP$MultiplyLong(\n",
      "\t\tArrayImg arg,\n",
      "\t\tlong value)\n",
      "\t(ArrayImg arg) =\n",
      "\tnet.imagej.ops.math.ConstantToArrayImageP$MultiplyShort(\n",
      "\t\tArrayImg arg,\n",
      "\t\tshort value)\n",
      "\t(ArrayImg arg) =\n",
      "\tnet.imagej.ops.math.ConstantToArrayImageP$MultiplyUnsignedByte(\n",
      "\t\tArrayImg arg,\n",
      "\t\tbyte value)\n",
      "\t(ArrayImg arg) =\n",
      "\tnet.imagej.ops.math.ConstantToArrayImageP$MultiplyUnsignedInt(\n",
      "\t\tArrayImg arg,\n",
      "\t\tint value)\n",
      "\t(ArrayImg arg) =\n",
      "\tnet.imagej.ops.math.ConstantToArrayImageP$MultiplyUnsignedLong(\n",
      "\t\tArrayImg arg,\n",
      "\t\tlong value)\n",
      "\t(ArrayImg arg) =\n",
      "\tnet.imagej.ops.math.ConstantToArrayImageP$MultiplyUnsignedShort(\n",
      "\t\tArrayImg arg,\n",
      "\t\tshort value)\n",
      "\t(ArrayImg arg) =\n",
      "\tnet.imagej.ops.math.ConstantToArrayImage$MultiplyByte(\n",
      "\t\tArrayImg arg,\n",
      "\t\tbyte value)\n",
      "\t(ArrayImg arg) =\n",
      "\tnet.imagej.ops.math.ConstantToArrayImage$MultiplyDouble(\n",
      "\t\tArrayImg arg,\n",
      "\t\tdouble value)\n",
      "\t(ArrayImg arg) =\n",
      "\tnet.imagej.ops.math.ConstantToArrayImage$MultiplyFloat(\n",
      "\t\tArrayImg arg,\n",
      "\t\tfloat value)\n",
      "\t(ArrayImg arg) =\n",
      "\tnet.imagej.ops.math.ConstantToArrayImage$MultiplyInt(\n",
      "\t\tArrayImg arg,\n",
      "\t\tint value)\n",
      "\t(ArrayImg arg) =\n",
      "\tnet.imagej.ops.math.ConstantToArrayImage$MultiplyLong(\n",
      "\t\tArrayImg arg,\n",
      "\t\tlong value)\n",
      "\t(ArrayImg arg) =\n",
      "\tnet.imagej.ops.math.ConstantToArrayImage$MultiplyShort(\n",
      "\t\tArrayImg arg,\n",
      "\t\tshort value)\n",
      "\t(ArrayImg arg) =\n",
      "\tnet.imagej.ops.math.ConstantToArrayImage$MultiplyUnsignedByte(\n",
      "\t\tArrayImg arg,\n",
      "\t\tbyte value)\n",
      "\t(ArrayImg arg) =\n",
      "\tnet.imagej.ops.math.ConstantToArrayImage$MultiplyUnsignedInt(\n",
      "\t\tArrayImg arg,\n",
      "\t\tint value)\n",
      "\t(ArrayImg arg) =\n",
      "\tnet.imagej.ops.math.ConstantToArrayImage$MultiplyUnsignedLong(\n",
      "\t\tArrayImg arg,\n",
      "\t\tlong value)\n",
      "\t(ArrayImg arg) =\n",
      "\tnet.imagej.ops.math.ConstantToArrayImage$MultiplyUnsignedShort(\n",
      "\t\tArrayImg arg,\n",
      "\t\tshort value)\n",
      "\t(IterableInterval out?) =\n",
      "\tnet.imagej.ops.math.IIToIIOutputII$Multiply(\n",
      "\t\tIterableInterval out?,\n",
      "\t\tIterableInterval in1,\n",
      "\t\tIterableInterval in2)\n",
      "\t(NumericType out?) =\n",
      "\tnet.imagej.ops.math.NumericTypeBinaryMath$Multiply(\n",
      "\t\tNumericType out?,\n",
      "\t\tNumericType in1,\n",
      "\t\tNumericType in2)\n",
      "\t(int result) =\n",
      "\tnet.imagej.ops.math.PrimitiveMath$IntegerMultiply(\n",
      "\t\tint a,\n",
      "\t\tint b)\n",
      "\t(long result) =\n",
      "\tnet.imagej.ops.math.PrimitiveMath$LongMultiply(\n",
      "\t\tlong a,\n",
      "\t\tlong b)\n",
      "\t(float result) =\n",
      "\tnet.imagej.ops.math.PrimitiveMath$FloatMultiply(\n",
      "\t\tfloat a,\n",
      "\t\tfloat b)\n",
      "\t(double result) =\n",
      "\tnet.imagej.ops.math.PrimitiveMath$DoubleMultiply(\n",
      "\t\tdouble a,\n",
      "\t\tdouble b)\n",
      "\t(RealType out) =\n",
      "\tnet.imagej.ops.math.BinaryRealTypeMath$Multiply(\n",
      "\t\tRealType out,\n",
      "\t\tRealType in1,\n",
      "\t\tRealType in2)\n",
      "\t(IterableInterval out?) =\n",
      "\tnet.imagej.ops.math.ConstantToIIOutputII$Multiply(\n",
      "\t\tIterableInterval out?,\n",
      "\t\tIterableInterval in,\n",
      "\t\tNumericType value)\n",
      "\t(PlanarImg arg) =\n",
      "\tnet.imagej.ops.math.ConstantToPlanarImage$MultiplyByte(\n",
      "\t\tPlanarImg arg,\n",
      "\t\tbyte value)\n",
      "\t(PlanarImg arg) =\n",
      "\tnet.imagej.ops.math.ConstantToPlanarImage$MultiplyDouble(\n",
      "\t\tPlanarImg arg,\n",
      "\t\tdouble value)\n",
      "\t(PlanarImg arg) =\n",
      "\tnet.imagej.ops.math.ConstantToPlanarImage$MultiplyFloat(\n",
      "\t\tPlanarImg arg,\n",
      "\t\tfloat value)\n",
      "\t(PlanarImg arg) =\n",
      "\tnet.imagej.ops.math.ConstantToPlanarImage$MultiplyInt(\n",
      "\t\tPlanarImg arg,\n",
      "\t\tint value)\n",
      "\t(PlanarImg arg) =\n",
      "\tnet.imagej.ops.math.ConstantToPlanarImage$MultiplyLong(\n",
      "\t\tPlanarImg arg,\n",
      "\t\tlong value)\n",
      "\t(PlanarImg arg) =\n",
      "\tnet.imagej.ops.math.ConstantToPlanarImage$MultiplyShort(\n",
      "\t\tPlanarImg arg,\n",
      "\t\tshort value)\n",
      "\t(PlanarImg arg) =\n",
      "\tnet.imagej.ops.math.ConstantToPlanarImage$MultiplyUnsignedByte(\n",
      "\t\tPlanarImg arg,\n",
      "\t\tbyte value)\n",
      "\t(PlanarImg arg) =\n",
      "\tnet.imagej.ops.math.ConstantToPlanarImage$MultiplyUnsignedInt(\n",
      "\t\tPlanarImg arg,\n",
      "\t\tint value)\n",
      "\t(PlanarImg arg) =\n",
      "\tnet.imagej.ops.math.ConstantToPlanarImage$MultiplyUnsignedLong(\n",
      "\t\tPlanarImg arg,\n",
      "\t\tlong value)\n",
      "\t(PlanarImg arg) =\n",
      "\tnet.imagej.ops.math.ConstantToPlanarImage$MultiplyUnsignedShort(\n",
      "\t\tPlanarImg arg,\n",
      "\t\tshort value)\n",
      "\t(IterableInterval out?) =\n",
      "\tnet.imagej.ops.math.IIToRAIOutputII$Multiply(\n",
      "\t\tIterableInterval out?,\n",
      "\t\tIterableInterval in1,\n",
      "\t\tRandomAccessibleInterval in2)\n",
      "\t(RandomAccessibleInterval out) =\n",
      "\tnet.imagej.ops.math.ConstantToIIOutputRAI$Multiply(\n",
      "\t\tRandomAccessibleInterval out,\n",
      "\t\tIterableInterval in,\n",
      "\t\tNumericType value)\n"
     ]
    },
    {
     "data": {
      "text/plain": []
     },
     "metadata": {},
     "output_type": "display_data"
    }
   ],
   "source": [
    "ij.log().info(\"-------- Learn about an op --------\");\n",
    "ij.log().info(ij.op().help(\"math.mul\"));"
   ]
  },
  {
   "cell_type": "code",
   "execution_count": 7,
   "metadata": {
    "collapsed": false
   },
   "outputs": [
    {
     "name": "stderr",
     "output_type": "stream",
     "text": [
      "[INFO] -------- Add two numbers --------\n",
      "[INFO] What is 2 + 5? 7\n"
     ]
    },
    {
     "data": {
      "text/plain": [
       "\u001b[36mseven\u001b[0m: \u001b[32mInt\u001b[0m = \u001b[32m7\u001b[0m"
      ]
     },
     "metadata": {},
     "output_type": "display_data"
    }
   ],
   "source": [
    "ij.log().info(\"-------- Add two numbers --------\");\n",
    "val seven = ij.op().math().add(2, 5);\n",
    "ij.log().info(\"What is 2 + 5? \" + seven);"
   ]
  },
  {
   "cell_type": "code",
   "execution_count": 8,
   "metadata": {
    "collapsed": false
   },
   "outputs": [
    {
     "name": "stderr",
     "output_type": "stream",
     "text": [
      "[INFO] -------- Create a new blank image --------\n"
     ]
    },
    {
     "data": {
      "text/plain": [
       "\u001b[36mdims\u001b[0m: \u001b[32mArray\u001b[0m[\u001b[32mLong\u001b[0m] = \u001b[33mArray\u001b[0m(\u001b[32m150L\u001b[0m, \u001b[32m100L\u001b[0m)\n",
       "\u001b[36mblank\u001b[0m: \u001b[32mnet\u001b[0m.\u001b[32mimglib2\u001b[0m.\u001b[32mimg\u001b[0m.\u001b[32mImg\u001b[0m[\u001b[32mDoubleType\u001b[0m] = ArrayImg [150x100]"
      ]
     },
     "metadata": {},
     "output_type": "display_data"
    }
   ],
   "source": [
    "ij.log().info(\"-------- Create a new blank image --------\");\n",
    "val dims = Array(150L, 100L);\n",
    "val blank = ij.op().create().img(dims);"
   ]
  },
  {
   "cell_type": "code",
   "execution_count": null,
   "metadata": {
    "collapsed": false
   },
   "outputs": [],
   "source": []
  },
  {
   "cell_type": "code",
   "execution_count": 9,
   "metadata": {
    "collapsed": false
   },
   "outputs": [
    {
     "name": "stderr",
     "output_type": "stream",
     "text": [
      "[INFO] -------- Fill in an image with a formula --------\n"
     ]
    },
    {
     "data": {
      "text/plain": [
       "\u001b[36mformula\u001b[0m: \u001b[32mString\u001b[0m = \u001b[32m\"10 * (Math.cos(0.3*p[0]) + Math.sin(0.3*p[1]))\"\u001b[0m\n",
       "\u001b[36msinusoid\u001b[0m: \u001b[32mnet\u001b[0m.\u001b[32mimglib2\u001b[0m.\u001b[32mIterableInterval\u001b[0m[\u001b[32mDoubleType\u001b[0m] = ArrayImg [150x100]"
      ]
     },
     "metadata": {},
     "output_type": "display_data"
    }
   ],
   "source": [
    "ij.log().info(\"-------- Fill in an image with a formula --------\");\n",
    "val formula = \"10 * (Math.cos(0.3*p[0]) + Math.sin(0.3*p[1]))\";\n",
    "val sinusoid = ij.op().image().equation(blank, formula);"
   ]
  },
  {
   "cell_type": "code",
   "execution_count": 9,
   "metadata": {
    "collapsed": false
   },
   "outputs": [
    {
     "ename": "",
     "evalue": "",
     "output_type": "error",
     "traceback": [
      "\u001b[31mMain.scala:30: overloaded method value add with alternatives:",
      "  [S <: net.imglib2.type.numeric.integer.GenericShortType[S]](x$1: net.imglib2.img.array.ArrayImg[S,net.imglib2.img.basictypeaccess.array.ShortArray], x$2: Short)net.imglib2.img.array.ArrayImg[S,net.imglib2.img.basictypeaccess.array.ShortArray] <and>",
      "  [N <: net.imglib2.type.NativeType[N]](x$1: net.imglib2.img.array.ArrayImg[net.imglib2.type.numeric.integer.LongType,net.imglib2.img.basictypeaccess.array.LongArray], x$2: Long)net.imglib2.img.array.ArrayImg[N,net.imglib2.img.basictypeaccess.array.LongArray] <and>",
      "  [I <: net.imglib2.type.numeric.integer.GenericIntType[I]](x$1: net.imglib2.img.array.ArrayImg[I,net.imglib2.img.basictypeaccess.array.IntArray], x$2: Int)net.imglib2.img.array.ArrayImg[I,net.imglib2.img.basictypeaccess.array.IntArray] <and>",
      "  (x$1: net.imglib2.img.array.ArrayImg[net.imglib2.type.numeric.real.FloatType,net.imglib2.img.basictypeaccess.array.FloatArray],x$2: Float)net.imglib2.img.array.ArrayImg[net.imglib2.type.numeric.real.FloatType,net.imglib2.img.basictypeaccess.array.FloatArray] <and>",
      "  (x$1: net.imglib2.img.array.ArrayImg[net.imglib2.type.numeric.real.DoubleType,net.imglib2.img.basictypeaccess.array.DoubleArray],x$2: Double)net.imglib2.img.array.ArrayImg[net.imglib2.type.numeric.real.DoubleType,net.imglib2.img.basictypeaccess.array.DoubleArray] <and>",
      "  [B <: net.imglib2.type.numeric.integer.GenericByteType[B]](x$1: net.imglib2.img.array.ArrayImg[B,net.imglib2.img.basictypeaccess.array.ByteArray], x$2: Byte)net.imglib2.img.array.ArrayImg[B,net.imglib2.img.basictypeaccess.array.ByteArray] <and>",
      "  [T <: net.imglib2.type.numeric.NumericType[T]](x$1: T, x$2: T)T <and>",
      "  [S <: net.imglib2.type.numeric.integer.GenericShortType[S]](x$1: net.imglib2.img.planar.PlanarImg[S,net.imglib2.img.basictypeaccess.array.ShortArray], x$2: Short)net.imglib2.img.planar.PlanarImg[S,net.imglib2.img.basictypeaccess.array.ShortArray] <and>",
      "  [N <: net.imglib2.type.NativeType[N]](x$1: net.imglib2.img.planar.PlanarImg[N,net.imglib2.img.basictypeaccess.array.LongArray], x$2: Long)net.imglib2.img.planar.PlanarImg[N,net.imglib2.img.basictypeaccess.array.LongArray] <and>",
      "  [I <: net.imglib2.type.numeric.integer.GenericIntType[I]](x$1: net.imglib2.img.planar.PlanarImg[I,net.imglib2.img.basictypeaccess.array.IntArray], x$2: Int)net.imglib2.img.planar.PlanarImg[I,net.imglib2.img.basictypeaccess.array.IntArray] <and>",
      "  (x$1: net.imglib2.img.planar.PlanarImg[net.imglib2.type.numeric.real.FloatType,net.imglib2.img.basictypeaccess.array.FloatArray],x$2: Float)net.imglib2.img.planar.PlanarImg[net.imglib2.type.numeric.real.FloatType,net.imglib2.img.basictypeaccess.array.FloatArray] <and>",
      "  (x$1: net.imglib2.img.planar.PlanarImg[net.imglib2.type.numeric.real.DoubleType,net.imglib2.img.basictypeaccess.array.DoubleArray],x$2: Double)net.imglib2.img.planar.PlanarImg[net.imglib2.type.numeric.real.DoubleType,net.imglib2.img.basictypeaccess.array.DoubleArray] <and>",
      "  [B <: net.imglib2.type.numeric.integer.GenericByteType[B]](x$1: net.imglib2.img.planar.PlanarImg[B,net.imglib2.img.basictypeaccess.array.ByteArray], x$2: Byte)net.imglib2.img.planar.PlanarImg[B,net.imglib2.img.basictypeaccess.array.ByteArray] <and>",
      "  (x$1: Long,x$2: Long)Long <and>",
      "  [T <: net.imglib2.type.numeric.NumericType[T]](x$1: net.imglib2.IterableInterval[T], x$2: T)net.imglib2.IterableInterval[T] <and>",
      "  [T <: net.imglib2.type.numeric.NumericType[T]](x$1: net.imglib2.IterableInterval[T], x$2: net.imglib2.RandomAccessibleInterval[T])net.imglib2.IterableInterval[T] <and>",
      "  (x$1: Int,x$2: Int)Int <and>",
      "  [T <: net.imglib2.type.numeric.NumericType[T]](x$1: net.imglib2.IterableInterval[T], x$2: net.imglib2.IterableInterval[T])net.imglib2.IterableInterval[T] <and>",
      "  (x$1: Float,x$2: Float)Float <and>",
      "  (x$1: Double,x$2: Double)Double",
      " cannot be applied to (net.imglib2.IterableInterval[net.imglib2.type.numeric.real.DoubleType], Double)",
      "ij.op().math().add(sinusoid, 13.0)",
      "               ^\u001b[0m"
     ]
    }
   ],
   "source": [
    "ij.log().info(\"-------- Add a constant value to an image --------\");\n",
    "ij.op().math().add(sinusoid, 13.0);"
   ]
  },
  {
   "cell_type": "code",
   "execution_count": 10,
   "metadata": {
    "collapsed": false
   },
   "outputs": [
    {
     "name": "stderr",
     "output_type": "stream",
     "text": [
      "[INFO] -------- Generate gradient image using a formula --------\n"
     ]
    },
    {
     "data": {
      "text/plain": [
       "\u001b[36mgBlank\u001b[0m: \u001b[32mnet\u001b[0m.\u001b[32mimglib2\u001b[0m.\u001b[32mimg\u001b[0m.\u001b[32mImg\u001b[0m[\u001b[32mDoubleType\u001b[0m] = ArrayImg [150x100]\n",
       "\u001b[36mgradient\u001b[0m: \u001b[32mnet\u001b[0m.\u001b[32mimglib2\u001b[0m.\u001b[32mIterableInterval\u001b[0m[\u001b[32mDoubleType\u001b[0m] = ArrayImg [150x100]"
      ]
     },
     "metadata": {},
     "output_type": "display_data"
    }
   ],
   "source": [
    "ij.log().info(\"-------- Generate gradient image using a formula --------\");\n",
    "val gBlank = ij.op().create().img(dims);\n",
    "val gradient = ij.op().image().equation(gBlank, \"p[0]+p[1]\");"
   ]
  },
  {
   "cell_type": "code",
   "execution_count": 11,
   "metadata": {
    "collapsed": false
   },
   "outputs": [
    {
     "name": "stderr",
     "output_type": "stream",
     "text": [
      "[INFO] -------- Add two images --------\n"
     ]
    },
    {
     "data": {
      "text/plain": [
       "\u001b[36mcomposite\u001b[0m: \u001b[32mnet\u001b[0m.\u001b[32mimglib2\u001b[0m.\u001b[32mIterableInterval\u001b[0m[\u001b[32mDoubleType\u001b[0m] = ArrayImg [150x100]"
      ]
     },
     "metadata": {},
     "output_type": "display_data"
    }
   ],
   "source": [
    "ij.log().info(\"-------- Add two images --------\");\n",
    "val composite = ij.op().math().add(sinusoid, gradient);"
   ]
  },
  {
   "cell_type": "code",
   "execution_count": 12,
   "metadata": {
    "collapsed": false
   },
   "outputs": [
    {
     "name": "stderr",
     "output_type": "stream",
     "text": [
      "[INFO] -------- Dump an image to the console --------\n",
      "[INFO] Composite image:\n",
      "                    .....          .......................,,,,,,,,,,,,,,,,,,,,,,,----------,,,,,---------+++-----------+++++++++++++++++++++++oooooooo\n",
      "                   .........      .......................,,,,,,,,,,,,,,,,,,,,,,,-----------------------+++++++--------+++++++++++++++++++++++ooooooooo\n",
      "                  .......................,,,,,..........,,,,,,,,,,,,,,,,,,,,,,,-----------------------++++++++++-----+++++++++ooo+++++++++++oooooooooo\n",
      "                 .......................,,,,,,,,.......,,,,,,,,,,,,,,,,,,,,,,,-----------------------+++++++++++++++++++++++ooooooo++++++++ooooooooooo\n",
      "                .......................,,,,,,,,,,.....,,,,,,,,,---,,,,,,,,,,,-----------------------+++++++++++++++++++++++ooooooooo++++++oooooooooooo\n",
      "                .......................,,,,,,,,,,,,.,,,,,,,,,,-----,,,,,,,,,,-----------------------+++++++++++++++++++++++oooooooooo+++++ooooooooo***\n",
      "               .......................,,,,,,,,,,,,,,,,,,,,,,,,------,,,,,,,,,-----------------------+++++++++++++++++++++++ooooooooooo+++ooooooooo****\n",
      "               .......................,,,,,,,,,,,,,,,,,,,,,,,,------,,,,,,,,,-----------------------+++++++++++++++++++++++ooooooooooo+++ooooooooo****\n",
      "                .......................,,,,,,,,,,,,..,,,,,,,,,-----,,,,,,,,,,-----------------------+++++++++++++++++++++++oooooooooo+++++ooooooooo***\n",
      "                .......................,,,,,,,,,,.....,,,,,,,,,---,,,,,,,,,,,-----------------------+++++++++++++++++++++++ooooooooo++++++oooooooooooo\n",
      "                 .......................,,,,,,,,.......,,,,,,,,,,,,,,,,,,,,,,,-----------------------+++++++++++++++++++++++ooooooo++++++++ooooooooooo\n",
      "                 .......................,,,,,,,........,,,,,,,,,,,,,,,,,,,,,,,-----------------------+++++++++++++-++++++++++ooooo++++++++++oooooooooo\n",
      "                  ............ ..........,,,,,..........,,,,,,,,,,,,,,,,,,,,,,,-----------------------++++++++++-----+++++++++ooo+++++++++++oooooooooo\n",
      "                  ...........    .........,,,,..........,,,,,,,,,,,,,,,,,,,,,,,-----------------------+++++++++------++++++++++++++++++++++++ooooooooo\n",
      "                  ..........     .........,,,............,,,,,,,,,,,,,,,,,,,,,,-----------------------+++++++++-------+++++++++++++++++++++++ooooooooo\n",
      "                  ..........     .........,,,............,,,,,,,,,,,,,,,,,,,,,,-----------------------+++++++++-------+++++++++++++++++++++++ooooooooo\n",
      "                  ...........    .........,,,...........,,,,,,,,,,,,,,,,,,,,,,,-----------------------+++++++++------++++++++++++++++++++++++ooooooooo\n",
      "                 ........................,,,,,,.........,,,,,,,,,,,,,,,,,,,,,,,-----------------------++++++++++-----+++++++++ooo+++++++++++oooooooooo\n",
      "                 .......................,,,,,,,,.......,,,,,,,,,,,,,,,,,,,,,,,-----------------------+++++++++++++++++++++++ooooooo++++++++ooooooooooo\n",
      "                .......................,,,,,,,,,,,....,,,,,,,,,---,,,,,,,,,,,-----------------------+++++++++++++++++++++++ooooooooo++++++oooooooooooo\n",
      "               .......................,,,,,,,,,,,,,,,,,,,,,,,-------,,,,,,,,-----------------------+++++++++++++++++++++++oooooooooooooooooooooooo****\n",
      ".....         .......................,,,,,,,,,,,,,,,,,,,,,,,-----------,,,,---------+++-----------+++++++++++++++++++++++ooooooooooooooooooooooo******\n",
      ".......      .......................,,,,,,,,,,,,,,,,,,,,,,,-----------------------++++++++-------+++++++++++++++++++++++ooooooooooooooooooooooo*******\n",
      "....................,,,,,,.........,,,,,,,,,,,,,,,,,,,,,,,-----------------------+++++++++++----+++++++++ooo+++++++++++ooooooooooooooooooooooo********\n",
      "...................,,,,,,,,.......,,,,,,,,,,,,,,,,,,,,,,,-----------------------+++++++++++++++++++++++ooooooo++++++++ooooooooooooooooooooooo*********\n",
      "..................,,,,,,,,,,,....,,,,,,,,,---,,,,,,,,,,,-----------------------+++++++++++++++++++++++ooooooooo++++++oooooooooooooooooooooooo*********\n",
      "..................,,,,,,,,,,,,.,,,,,,,,,,-----,,,,,,,,,,-----------------------+++++++++++++++++++++++oooooooooo+++++ooooooooo***ooooooooooo**********\n",
      ".................,,,,,,,,,,,,,,,,,,,,,,,,------,,,,,,,,,-----------------------+++++++++++++++++++++++ooooooooooo+++ooooooooo****ooooooooooo**********\n",
      ".................,,,,,,,,,,,,,,,,,,,,,,,,------,,,,,,,,,-----------------------+++++++++++++++++++++++ooooooooooo+++ooooooooo****ooooooooooo**********\n",
      "..................,,,,,,,,,,,,..,,,,,,,,,-----,,,,,,,,,,-----------------------+++++++++++++++++++++++oooooooooo+++++ooooooooo***ooooooooooo**********\n",
      "..................,,,,,,,,,,.....,,,,,,,,,---,,,,,,,,,,,,----------------------+++++++++++++++++++++++ooooooooo+++++++ooooooooooooooooooooooo*********\n",
      "...................,,,,,,,,.......,,,,,,,,,,,,,,,,,,,,,,,-----------------------+++++++++++++++++++++++ooooooo++++++++ooooooooooooooooooooooo*********\n",
      "...................,,,,,,,........,,,,,,,,,,,,,,,,,,,,,,,,----------------------+++++++++++++-++++++++++ooooo++++++++++ooooooooooooooooooooooo********\n",
      "......... ..........,,,,,..........,,,,,,,,,,,,,,,,,,,,,,,-----------------------++++++++++-----+++++++++ooo+++++++++++ooooooooooooooooooooooo********\n",
      "........    .........,,,,..........,,,,,,,,,,,,,,,,,,,,,,,-----------------------++++++++++-----++++++++++++++++++++++++ooooooooooooooooooooooo*******\n",
      ".......     .........,,,............,,,,,,,,,,,,,,,,,,,,,,,-----------------------++++++++-------+++++++++++++++++++++++ooooooooooooooooooooooo*******\n",
      ".......     .........,,,............,,,,,,,,,,,,,,,,,,,,,,,-----------------------++++++++-------+++++++++++++++++++++++ooooooooooooooooooooooo*******\n",
      "........    .........,,,,..........,,,,,,,,,,,,,,,,,,,,,,,-----------------------++++++++++-----++++++++++++++++++++++++ooooooooooooooooooooooo*******\n",
      "....................,,,,,,.........,,,,,,,,,,,,,,,,,,,,,,,-----------------------+++++++++++----+++++++++ooo+++++++++++ooooooooooooooooooooooo********\n",
      "...................,,,,,,,,.......,,,,,,,,,,,,,,,,,,,,,,,-----------------------+++++++++++++++++++++++ooooooo++++++++ooooooooooooooooooooooo*********\n",
      "..................,,,,,,,,,,,....,,,,,,,,,----,,,,,,,,,,-----------------------+++++++++++++++++++++++ooooooooo++++++oooooooooooooooooooooooo*********\n",
      ".................,,,,,,,,,,,,,,,,,,,,,,,--------,,,,,,,-----------------------+++++++++++++++++++++++ooooooooooooooooooooooo******oooooooooo**********\n",
      "................,,,,,,,,,,,,,,,,,,,,,,,-----------,,,,---------++++----------+++++++++++++++++++++++ooooooooooooooooooooooo*********oooooo************\n",
      "...............,,,,,,,,,,,,,,,,,,,,,,,-----------------------++++++++-------+++++++++++++++++++++++ooooooooooooooooooooooo***********************OOOOO\n",
      ",,,,,.........,,,,,,,,,,,,,,,,,,,,,,,-----------------------+++++++++++---+++++++++ooooo++++++++++ooooooooooooooooooooooo***********************OOOOOO\n",
      ",,,,,,.......,,,,,,,,,,,,,,,,,,,,,,,-----------------------+++++++++++++++++++++++ooooooo++++++++ooooooooooooooooooooooo***********************OOOOOOO\n",
      ",,,,,,,,....,,,,,,,,,---,,,,,,,,,,,-----------------------+++++++++++++++++++++++ooooooooo++++++oooooooooooooooooooooooo***********************OOOOOOO\n",
      ",,,,,,,,,.,,,,,,,,,,-----,,,,,,,,,,-----------------------+++++++++++++++++++++++oooooooooo+++++ooooooooo***ooooooooooo***********************OOOOOOOO\n",
      ",,,,,,,,,,,,,,,,,,,,------,,,,,,,,,-----------------------+++++++++++++++++++++++ooooooooooo+++ooooooooo*****oooooooooo***********************OOOOOOOO\n",
      ",,,,,,,,,,,,,,,,,,,,------,,,,,,,,,-----------------------+++++++++++++++++++++++ooooooooooo+++ooooooooo****ooooooooooo***********************OOOOOOOO\n",
      ",,,,,,,,,..,,,,,,,,,-----,,,,,,,,,,-----------------------+++++++++++++++++++++++oooooooooo+++++ooooooooo***ooooooooooo***********************OOOOOOOO\n",
      ",,,,,,,.....,,,,,,,,,---,,,,,,,,,,,,----------------------+++++++++++++++++++++++ooooooooo+++++++ooooooooooooooooooooooo***********************OOOOOOO\n",
      ",,,,,,.......,,,,,,,,,,,,,,,,,,,,,,,-----------------------+++++++++++++++++++++++ooooooo++++++++ooooooooooooooooooooooo***********************OOOOOOO\n",
      ",,,,,.........,,,,,,,,,,,,,,,,,,,,,,,----------------------+++++++++++++-++++++++++ooooo++++++++++ooooooooooooooooooooooo***********************OOOOOO\n",
      ",,,,..........,,,,,,,,,,,,,,,,,,,,,,,-----------------------++++++++++-----+++++++++ooo+++++++++++ooooooooooooooooooooooo***********************OOOOOO\n",
      ",,,,...........,,,,,,,,,,,,,,,,,,,,,,-----------------------++++++++++-----++++++++++++++++++++++++ooooooooooooooooooooooo***********************OOOOO\n",
      ",,,............,,,,,,,,,,,,,,,,,,,,,,,-----------------------++++++++-------+++++++++++++++++++++++ooooooooooooooooooooooo***********************OOOOO\n",
      ",,,............,,,,,,,,,,,,,,,,,,,,,,,-----------------------++++++++-------+++++++++++++++++++++++ooooooooooooooooooooooo***********************OOOOO\n",
      ",,,,..........,,,,,,,,,,,,,,,,,,,,,,,-----------------------++++++++++-----++++++++++++++++++++++++ooooooooooooooooooooooo***********************OOOOO\n",
      ",,,,,.........,,,,,,,,,,,,,,,,,,,,,,,-----------------------+++++++++++---+++++++++oooo+++++++++++ooooooooooooooooooooooo***********************OOOOOO\n",
      ",,,,,,.......,,,,,,,,,,,,,,,,,,,,,,,-----------------------+++++++++++++++++++++++ooooooo++++++++ooooooooooooooooooooooo***********************OOOOOOO\n",
      ",,,,,,,,....,,,,,,,,,----,,,,,,,,,,-----------------------+++++++++++++++++++++++oooooooooo+++++oooooooooooooooooooooooo**********************OOOOOOOO\n",
      ",,,,,,,,,,,,,,,,,,,--------,,,,,,,-----------------------+++++++++++++++++++++++ooooooooooooooooooooooo*******ooooooooo***********************OOOOOOOO\n",
      ",,,,,,,,,,,,,,,,,,-----------,,,---------+++++----------+++++++++++++++++++++++ooooooooooooooooooooooo**********ooooo**********O*************OOOOOOOOO\n",
      ",,,,,,,,,,,,,,,,,-----------------------++++++++-------+++++++++++++++++++++++ooooooooooooooooooooooo***********************OOOOOOO********OOOOOOOOOOO\n",
      ",,,,,,,,,,,,,,,,-----------------------+++++++++++---+++++++++ooooo++++++++++ooooooooooooooooooooooo***********************OOOOOOOOOO*****OOOOOOOOOO#O\n",
      ",,,,,,,,,,,,,,,-----------------------+++++++++++++++++++++++ooooooo++++++++ooooooooooooooooooooooo***********************OOOOOOOOOOOOOOOOOOOOOOOO####\n",
      "----,,,,,,,,,,-----------------------+++++++++++++++++++++++oooooooooo+++++oooooooooooooooooooooooo***********************OOOOOOOOOOOOOOOOOOOOOOO#####\n",
      "-----,,,,,,,,,-----------------------+++++++++++++++++++++++oooooooooo+++++ooooooooo***ooooooooooo***********************OOOOOOOOOOOOOOOOOOOOOOO######\n",
      "-----,,,,,,,,,-----------------------+++++++++++++++++++++++ooooooooooo+++ooooooooo*****oooooooooo***********************OOOOOOOOOOOOOOOOOOOOOOO######\n",
      "-----,,,,,,,,,-----------------------+++++++++++++++++++++++ooooooooooo++++ooooooooo***ooooooooooo***********************OOOOOOOOOOOOOOOOOOOOOOO######\n",
      "----,,,,,,,,,,-----------------------+++++++++++++++++++++++oooooooooo+++++ooooooooo***oooooooooooo**********************OOOOOOOOOOOOOOOOOOOOOOO######\n",
      "---,,,,,,,,,,,,-----------------------+++++++++++++++++++++++oooooooo+++++++ooooooooooooooooooooooo***********************OOOOOOOOOOOOOOOOOOOOOOO#####\n",
      ",,,,,,,,,,,,,,,-----------------------+++++++++++++++++++++++ooooooo++++++++ooooooooooooooooooooooo***********************OOOOOOOOOOOOO*OOOOOOOOOO####\n",
      ",,,,,,,,,,,,,,,,-----------------------++++++++++++--+++++++++ooooo++++++++++ooooooooooooooooooooooo***********************OOOOOOOOOO*****OOOOOOOOO###\n",
      ",,,,,,,,,,,,,,,,-----------------------++++++++++-----+++++++++ooo+++++++++++ooooooooooooooooooooooo***********************OOOOOOOOO******OOOOOOOOOOOO\n",
      ",,,,,,,,,,,,,,,,-----------------------++++++++++------+++++++++++++++++++++++ooooooooooooooooooooooo***********************OOOOOOO********OOOOOOOOOOO\n",
      ",,,,,,,,,,,,,,,,,-----------------------++++++++-------+++++++++++++++++++++++ooooooooooooooooooooooo***********************OOOOOOO********OOOOOOOOOOO\n",
      ",,,,,,,,,,,,,,,,,-----------------------++++++++-------+++++++++++++++++++++++ooooooooooooooooooooooo***********************OOOOOOO********OOOOOOOOOOO\n",
      ",,,,,,,,,,,,,,,,-----------------------++++++++++-----++++++++++++++++++++++++ooooooooooooooooooooooo***********************OOOOOOOO*******OOOOOOOOOOO\n",
      ",,,,,,,,,,,,,,,,-----------------------+++++++++++---+++++++++ooooo++++++++++ooooooooooooooooooooooo***********************OOOOOOOOOO*****OOOOOOOOOOOO\n",
      ",,,,,,,,,,,,,,,-----------------------+++++++++++++++++++++++ooooooo++++++++ooooooooooooooooooooooo***********************OOOOOOOOOOOO***OOOOOOOOO####\n",
      "----,,,,,,,,,,-----------------------+++++++++++++++++++++++oooooooooo+++++oooooooooo*ooooooooooooo***********************OOOOOOOOOOOOOOOOOOOOOOO#####\n",
      "------,,,,,,,-----------------------+++++++++++++++++++++++ooooooooooooooooooooooo*******ooooooooo***********************OOOOOOOOOOOOOOOOOOOOOO#######\n",
      "--------,,,---------+++++----------+++++++++++++++++++++++ooooooooooooooooooooooo**********ooooo**********O*************OOOOOOOOOOOOOOOOOOOOOO########\n",
      "-------------------++++++++-------+++++++++++++++++++++++ooooooooooooooooooooooo***********************OOOOOOO********OOOOOOOOOOOOOOOOOOOOOOO#########\n",
      "------------------+++++++++++---+++++++++ooooo++++++++++ooooooooooooooooooooooo***********************OOOOOOOOOO*****OOOOOOOOOO#OOOOOOOOOOOO##########\n",
      "-----------------+++++++++++++++++++++++oooooooo+++++++ooooooooooooooooooooooo***********************OOOOOOOOOOOOOOOOOOOOOOOO#####OOOOOOOOOO##########\n",
      "----------------+++++++++++++++++++++++oooooooooo+++++oooooooooooooooooooooooo***********************OOOOOOOOOOOOOOOOOOOOOOO########OOOOOOO###########\n",
      "----------------+++++++++++++++++++++++ooooooooooo++++ooooooooo***ooooooooooo***********************OOOOOOOOOOOOOOOOOOOOOOO#########OOOOOO############\n",
      "----------------+++++++++++++++++++++++ooooooooooo+++ooooooooo*****oooooooooo***********************OOOOOOOOOOOOOOOOOOOOOOO##########OOOOO############\n",
      "----------------+++++++++++++++++++++++ooooooooooo++++ooooooooo***ooooooooooo***********************OOOOOOOOOOOOOOOOOOOOOOO#########OOOOOO############\n",
      "----------------+++++++++++++++++++++++oooooooooo+++++ooooooooo***oooooooooooo**********************OOOOOOOOOOOOOOOOOOOOOOO#########OOOOOOO###########\n",
      "-----------------+++++++++++++++++++++++oooooooo+++++++ooooooooooooooooooooooo***********************OOOOOOOOOOOOOOOOOOOOOOO#######OOOOOOOO###########\n",
      "-----------------+++++++++++++++++++++++ooooooo++++++++ooooooooooooooooooooooo***********************OOOOOOOOOOOOO*OOOOOOOOOO#####OOOOOOOOOO##########\n",
      "------------------++++++++++++--+++++++++ooooo++++++++++ooooooooooooooooooooooo***********************OOOOOOOOOO*****OOOOOOOOO###OOOOOOOOOOO##########\n",
      "------------------++++++++++-----+++++++++ooo++++++++++++oooooooooooooooooooooo***********************OOOOOOOOO*******OOOOOOOOOOOOOOOOOOOOOOO#########\n",
      "-------------------+++++++++------+++++++++++++++++++++++ooooooooooooooooooooooo***********************OOOOOOO********OOOOOOOOOOOOOOOOOOOOOOO#########\n",
      "-------------------++++++++-------+++++++++++++++++++++++ooooooooooooooooooooooo***********************OOOOOOO********OOOOOOOOOOOOOOOOOOOOOOO#########\n",
      "-------------------++++++++-------+++++++++++++++++++++++ooooooooooooooooooooooo***********************OOOOOOO********OOOOOOOOOOOOOOOOOOOOOOO#########\n",
      "\n"
     ]
    },
    {
     "data": {
      "text/plain": [
       "\u001b[36mascii\u001b[0m: \u001b[32mString\u001b[0m = \u001b[32m\"\"\"\n",
       "                    .....          .......................,,,,,,,,,,,,,,,,,,,,,,,----------,,,,,---------+++-----------+++++++++++++++++++++++oooooooo\n",
       "                   .........      .......................,,,,,,,,,,,,,,,,,,,,,,,-----------------------+++++++--------+++++++++++++++++++++++ooooooooo\n",
       "                  .......................,,,,,..........,,,,,,,,,,,,,,,,,,,,,,,-----------------------++++++++++-----+++++++++ooo+++++++++++oooooooooo\n",
       "                 .......................,,,,,,,,.......,,,,,,,,,,,,,,,,,,,,,,,-----------------------+++++++++++++++++++++++ooooooo++++++++ooooooooooo\n",
       "                .......................,,,,,,,,,,.....,,,,,,,,,---,,,,,,,,,,,-----------------------+++++++++++++++++++++++ooooooooo++++++oooooooooooo\n",
       "                .......................,,,,,,,,,,,,.,,,,,,,,,,-----,,,,,,,,,,-----------------------+++++++++++++++++++++++oooooooooo+++++ooooooooo***\n",
       "               .......................,,,,,,,,,,,,,,,,,,,,,,,,------,,,,,,,,,-----------------------+++++++++++++++++++++++ooooooooooo+++ooooooooo****\n",
       "               .......................,,,,,,,,,,,,,,,,,,,,,,,,------,,,,,,,,,-----------------------+++++++++++++++++++++++ooooooooooo+++ooooooooo****\n",
       "                .......................,,,,,,,,,,,,..,,,,,,,,,-----,,,,,,,,,,-----------------------+++++++++++++++++++++++oooooooooo+++++ooooooooo***\n",
       "                .......................,,,,,,,,,,.....,,,,,,,,,---,,,,,,,,,,,---\u001b[33m...\u001b[0m"
      ]
     },
     "metadata": {},
     "output_type": "display_data"
    }
   ],
   "source": [
    "ij.log().info(\"-------- Dump an image to the console --------\");\n",
    "val ascii = ij.op().image().ascii(composite);\n",
    "ij.log().info(\"Composite image:\\n\" + ascii);"
   ]
  },
  {
   "cell_type": "code",
   "execution_count": 13,
   "metadata": {
    "collapsed": false,
    "scrolled": true
   },
   "outputs": [
    {
     "name": "stderr",
     "output_type": "stream",
     "text": [
      "[INFO] -------- Show the image in a window --------\n"
     ]
    },
    {
     "ename": "",
     "evalue": "",
     "output_type": "error",
     "traceback": [
      "java.lang.NullPointerException",
      "  org.scijava.ui.DefaultUIService.show(DefaultUIService.java:265)",
      "  cmd12$$user$$anonfun$2.apply$mcV$sp(Main.scala:30)"
     ]
    }
   ],
   "source": [
    "ij.log().info(\"-------- Show the image in a window --------\");\n",
    "ij.ui().show(\"composite\", composite);"
   ]
  },
  {
   "cell_type": "code",
   "execution_count": 13,
   "metadata": {
    "collapsed": false
   },
   "outputs": [
    {
     "ename": "",
     "evalue": "",
     "output_type": "error",
     "traceback": [
      "\u001b[31mMain.scala:34: overloaded method value map with alternatives:",
      "  [EI1, EI2, EO <: EI1](x$1: net.imglib2.RandomAccessibleInterval[EO], x$2: net.imglib2.IterableInterval[EI2], x$3: net.imagej.ops.special.inplace.BinaryInplace1Op[EI1,EI2,EO])net.imglib2.RandomAccessibleInterval[EO] <and>",
      "  [EI1, EI2, EO <: EI1](x$1: net.imglib2.IterableInterval[EO], x$2: net.imglib2.RandomAccessibleInterval[EI2], x$3: net.imagej.ops.special.inplace.BinaryInplace1Op[EI1,EI2,EO])net.imglib2.IterableInterval[EO] <and>",
      "  [EI1, EI2, EO <: EI1](x$1: net.imglib2.IterableInterval[EO], x$2: net.imglib2.IterableInterval[EI2], x$3: net.imagej.ops.special.inplace.BinaryInplace1Op[EI1,EI2,EO])net.imglib2.IterableInterval[EO] <and>",
      "  [EI, EO <: EI](x$1: net.imglib2.IterableInterval[EO], x$2: net.imglib2.IterableInterval[EO], x$3: net.imagej.ops.special.inplace.BinaryInplaceOp[EI,EO])net.imglib2.IterableInterval[EO] <and>",
      "  [EI, EO](x$1: Iterable[EO], x$2: Iterable[EI], x$3: net.imagej.ops.special.computer.UnaryComputerOp[EI,EO])Iterable[EO] <and>",
      "  [EI, EO <: net.imglib2.type.Type[EO]](x$1: net.imglib2.IterableInterval[EI], x$2: net.imagej.ops.special.computer.UnaryComputerOp[EI,EO], x$3: EO)net.imglib2.IterableInterval[EO] <and>",
      "  [EI, EO <: net.imglib2.type.Type[EO]](x$1: net.imglib2.RandomAccessible[EI], x$2: net.imagej.ops.special.computer.UnaryComputerOp[EI,EO], x$3: EO)net.imglib2.RandomAccessible[EO] <and>",
      "  [EI, EO <: net.imglib2.type.Type[EO]](x$1: net.imglib2.RandomAccessibleInterval[EI], x$2: net.imagej.ops.special.computer.UnaryComputerOp[EI,EO], x$3: EO)net.imglib2.RandomAccessibleInterval[EO] <and>",
      "  [EI, EO](x$1: net.imglib2.IterableInterval[EO], x$2: net.imglib2.RandomAccessibleInterval[EI], x$3: net.imagej.ops.special.computer.UnaryComputerOp[EI,EO])net.imglib2.IterableInterval[EO] <and>",
      "  [EI, EO](x$1: net.imglib2.RandomAccessibleInterval[EO], x$2: net.imglib2.IterableInterval[EI], x$3: net.imagej.ops.special.computer.UnaryComputerOp[EI,EO])net.imglib2.RandomAccessibleInterval[EO] <and>",
      "  [EI, EO](x$1: net.imglib2.IterableInterval[EO], x$2: net.imglib2.IterableInterval[EI], x$3: net.imagej.ops.special.computer.UnaryComputerOp[EI,EO])net.imglib2.IterableInterval[EO]",
      " cannot be applied to (net.imglib2.IterableInterval[net.imglib2.type.numeric.real.DoubleType], net.imglib2.IterableInterval[net.imglib2.type.numeric.real.DoubleType], net.imagej.ops.Op)",
      "ij.op().map(composite, composite, addOp)",
      "        ^\u001b[0m"
     ]
    }
   ],
   "source": [
    "ij.log().info(\"-------- Execute op on every pixel of an image --------\");\n",
    "val addOp = ij.op().op(\"math.add\", classOf[DoubleType], new DoubleType(5.0));\n",
    "ij.op().map(composite, composite, addOp);\n",
    "\n",
    "ij.log().info(\"-------- All done! --------\");"
   ]
  }
 ],
 "metadata": {
  "kernelspec": {
   "display_name": "Scala 2.11",
   "language": "scala211",
   "name": "scala211"
  },
  "language_info": {
   "codemirror_mode": "text/x-scala",
   "file_extension": ".scala",
   "mimetype": "text/x-scala",
   "name": "scala211",
   "pygments_lexer": "scala",
   "version": "2.11.8"
  }
 },
 "nbformat": 4,
 "nbformat_minor": 0
}
