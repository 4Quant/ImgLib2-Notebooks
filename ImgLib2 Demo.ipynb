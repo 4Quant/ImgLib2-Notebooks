{
 "cells": [
  {
   "cell_type": "markdown",
   "metadata": {},
   "source": [
    "# Tutorials from ImgLib2\n",
    "\n",
    "A simple adaptation of using the Jupyter Scala Implementation (https://github.com/alexarchambault/jupyter-scala) of these examples (https://github.com/imagej/imagej-tutorials/tree/master/using-ops)"
   ]
  },
  {
   "cell_type": "markdown",
   "metadata": {},
   "source": [
    "The dependencies can be loaded in the notebook using the current values from the net.imagej pom file."
   ]
  },
  {
   "cell_type": "code",
   "execution_count": null,
   "metadata": {
    "collapsed": false
   },
   "outputs": [],
   "source": [
    "load.resolver(\"imagej.public\" at \"http://maven.imagej.net/content/groups/public\")\n",
    "load.ivy(\"net.imagej\" % \"imagej\" % \"2.0.0-rc-44\") // use % since %% adds scala version\n",
    "load.ivy(\"de.christophkraemer\" % \"rhino-script-engine\" % \"1.1.0\")  // since it's not in the classpath with notebooks per default"
   ]
  },
  {
   "cell_type": "code",
   "execution_count": null,
   "metadata": {
    "collapsed": false
   },
   "outputs": [],
   "source": [
    "// A simple test to make sure JavaScript is working properly\n",
    "val factory = new javax.script.ScriptEngineManager()\n",
    "val engine = factory.getEngineByName(\"JavaScript\")\n",
    "println(s\"Engine Name $engine\")\n",
    "engine.eval(\"print('Hello, World\\\\n')\")"
   ]
  },
  {
   "cell_type": "code",
   "execution_count": null,
   "metadata": {
    "collapsed": false
   },
   "outputs": [],
   "source": [
    "import net.imagej.ImageJ\n",
    "val ij = new ImageJ()\n",
    "ij.console().processArgs(\"--headless\");"
   ]
  },
  {
   "cell_type": "code",
   "execution_count": null,
   "metadata": {
    "collapsed": false
   },
   "outputs": [],
   "source": [
    "import net.imagej.ops.Op\n",
    "import net.imglib2.`type`.numeric.real.DoubleType // since type is a keyword in scala"
   ]
  },
  {
   "cell_type": "code",
   "execution_count": null,
   "metadata": {
    "collapsed": false
   },
   "outputs": [],
   "source": [
    "ij.log().info(\"-------- How many ops? --------\");\n",
    "val opCount = ij.command().getCommandsOfType(classOf[Op]).size();\n",
    "ij.log().info(\"Found \" + opCount + \" ops\");"
   ]
  },
  {
   "cell_type": "code",
   "execution_count": null,
   "metadata": {
    "collapsed": false
   },
   "outputs": [],
   "source": [
    "ij.log().info(\"-------- Learn about an op --------\");\n",
    "ij.log().info(ij.op().help(\"math.mul\"));"
   ]
  },
  {
   "cell_type": "code",
   "execution_count": null,
   "metadata": {
    "collapsed": false
   },
   "outputs": [],
   "source": [
    "ij.log().info(\"-------- Add two numbers --------\");\n",
    "val seven = ij.op().math().add(2, 5);\n",
    "ij.log().info(\"What is 2 + 5? \" + seven);"
   ]
  },
  {
   "cell_type": "code",
   "execution_count": null,
   "metadata": {
    "collapsed": false
   },
   "outputs": [],
   "source": [
    "ij.log().info(\"-------- Create a new blank image --------\");\n",
    "val dims = Array(150L, 100L);\n",
    "val blank = ij.op().create().img(dims);"
   ]
  },
  {
   "cell_type": "code",
   "execution_count": null,
   "metadata": {
    "collapsed": false
   },
   "outputs": [],
   "source": []
  },
  {
   "cell_type": "code",
   "execution_count": null,
   "metadata": {
    "collapsed": false
   },
   "outputs": [],
   "source": [
    "ij.log().info(\"-------- Fill in an image with a formula --------\");\n",
    "val formula = \"10 * (Math.cos(0.3*p[0]) + Math.sin(0.3*p[1]))\";\n",
    "val sinusoid = ij.op().image().equation(blank, formula);"
   ]
  },
  {
   "cell_type": "code",
   "execution_count": null,
   "metadata": {
    "collapsed": false
   },
   "outputs": [],
   "source": [
    "ij.log().info(\"-------- Add a constant value to an image --------\");\n",
    "ij.op().math().add(sinusoid, 13.0);"
   ]
  },
  {
   "cell_type": "code",
   "execution_count": null,
   "metadata": {
    "collapsed": false
   },
   "outputs": [],
   "source": [
    "ij.log().info(\"-------- Generate gradient image using a formula --------\");\n",
    "val gBlank = ij.op().create().img(dims);\n",
    "val gradient = ij.op().image().equation(gBlank, \"p[0]+p[1]\");"
   ]
  },
  {
   "cell_type": "code",
   "execution_count": null,
   "metadata": {
    "collapsed": false
   },
   "outputs": [],
   "source": [
    "ij.log().info(\"-------- Add two images --------\");\n",
    "val composite = ij.op().math().add(sinusoid, gradient);"
   ]
  },
  {
   "cell_type": "code",
   "execution_count": null,
   "metadata": {
    "collapsed": false
   },
   "outputs": [],
   "source": [
    "ij.log().info(\"-------- Dump an image to the console --------\");\n",
    "val ascii = ij.op().image().ascii(composite);\n",
    "ij.log().info(\"Composite image:\\n\" + ascii);"
   ]
  },
  {
   "cell_type": "code",
   "execution_count": null,
   "metadata": {
    "collapsed": false
   },
   "outputs": [],
   "source": [
    "ij.log().info(\"-------- Show the image in a window --------\");\n",
    "ij.ui().show(\"composite\", composite);"
   ]
  },
  {
   "cell_type": "code",
   "execution_count": null,
   "metadata": {
    "collapsed": false
   },
   "outputs": [],
   "source": [
    "ij.log().info(\"-------- Execute op on every pixel of an image --------\");\n",
    "val addOp = ij.op().op(\"math.add\", classOf[DoubleType], new DoubleType(5.0));\n",
    "ij.op().map(composite, composite, addOp);\n",
    "\n",
    "ij.log().info(\"-------- All done! --------\");"
   ]
  },
  {
   "cell_type": "code",
   "execution_count": null,
   "metadata": {
    "collapsed": true
   },
   "outputs": [],
   "source": []
  }
 ],
 "metadata": {
  "kernelspec": {
   "display_name": "Scala 2.10",
   "language": "scala210",
   "name": "scala210"
  },
  "language_info": {
   "codemirror_mode": "text/x-scala",
   "file_extension": "scala",
   "mimetype": "text/x-scala",
   "name": "scala210",
   "pygments_lexer": "scala",
   "version": "2.10.5"
  }
 },
 "nbformat": 4,
 "nbformat_minor": 0
}
