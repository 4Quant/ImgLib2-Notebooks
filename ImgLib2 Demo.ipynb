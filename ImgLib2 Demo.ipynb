{
 "cells": [
  {
   "cell_type": "markdown",
   "metadata": {},
   "source": [
    "# Tutorials from ImgLib2\n",
    "\n",
    "A simple adaptation of using the Jupyter Scala Implementation (https://github.com/alexarchambault/jupyter-scala) of these examples (https://github.com/imagej/imagej-tutorials/tree/master/using-ops)"
   ]
  },
  {
   "cell_type": "markdown",
   "metadata": {},
   "source": [
    "The dependencies can be loaded in the notebook using the current values from the net.imagej pom file."
   ]
  },
  {
   "cell_type": "code",
   "execution_count": 1,
   "metadata": {
    "collapsed": false
   },
   "outputs": [
    {
     "name": "stdout",
     "output_type": "stream",
     "text": [
      ":: problems summary ::\n",
      ":::: WARNINGS\n",
      "\tUnable to reparse com.github.alexarchambault.jupyter#jupyter-scala-api_2.10.5;0.2.0-SNAPSHOT from sonatype-snapshots, using Sun Oct 25 20:00:40 CET 2015\n",
      "\n",
      "\tUnable to reparse com.github.alexarchambault.jupyter#jupyter-scala-api_2.10.5;0.2.0-SNAPSHOT from imagej.public, using Sun Oct 25 20:00:40 CET 2015\n",
      "\n",
      "\tSorting results from com.github.alexarchambault.jupyter#jupyter-scala-api_2.10.5;0.2.0-SNAPSHOT, using Sun Oct 25 20:00:40 CET 2015 and Sun Oct 25 20:00:40 CET 2015\n",
      "\n",
      "\tSorting results from com.github.alexarchambault.jupyter#jupyter-scala-api_2.10.5;0.2.0-SNAPSHOT, using Sun Oct 25 20:00:40 CET 2015 and Sun Oct 25 20:00:40 CET 2015\n",
      "\n",
      "\tChoosing imagej.public for com.github.alexarchambault.jupyter#jupyter-scala-api_2.10.5;0.2.0-SNAPSHOT\n",
      "\n",
      "\tUnable to reparse com.github.alexarchambault#ammonite-api_2.10.5;0.3.1-SNAPSHOT from sonatype-snapshots, using Wed Oct 21 11:44:30 CEST 2015\n",
      "\n",
      "\tUnable to reparse com.github.alexarchambault#ammonite-api_2.10.5;0.3.1-SNAPSHOT from imagej.public, using Wed Oct 21 11:44:30 CEST 2015\n",
      "\n",
      "\tSorting results from com.github.alexarchambault#ammonite-api_2.10.5;0.3.1-SNAPSHOT, using Wed Oct 21 11:44:30 CEST 2015 and Wed Oct 21 11:44:30 CEST 2015\n",
      "\n",
      "\tSorting results from com.github.alexarchambault#ammonite-api_2.10.5;0.3.1-SNAPSHOT, using Wed Oct 21 11:44:30 CEST 2015 and Wed Oct 21 11:44:30 CEST 2015\n",
      "\n",
      "\tChoosing imagej.public for com.github.alexarchambault#ammonite-api_2.10.5;0.3.1-SNAPSHOT\n",
      "\n",
      "\tUnable to reparse com.github.alexarchambault.jupyter#jupyter-api_2.10;0.2.0-SNAPSHOT from sonatype-snapshots, using Wed Oct 21 17:05:05 CEST 2015\n",
      "\n",
      "\tUnable to reparse com.github.alexarchambault.jupyter#jupyter-api_2.10;0.2.0-SNAPSHOT from imagej.public, using Wed Oct 21 17:05:05 CEST 2015\n",
      "\n",
      "\tSorting results from com.github.alexarchambault.jupyter#jupyter-api_2.10;0.2.0-SNAPSHOT, using Wed Oct 21 17:05:05 CEST 2015 and Wed Oct 21 17:05:05 CEST 2015\n",
      "\n",
      "\tSorting results from com.github.alexarchambault.jupyter#jupyter-api_2.10;0.2.0-SNAPSHOT, using Wed Oct 21 17:05:05 CEST 2015 and Wed Oct 21 17:05:05 CEST 2015\n",
      "\n",
      "\tChoosing imagej.public for com.github.alexarchambault.jupyter#jupyter-api_2.10;0.2.0-SNAPSHOT\n",
      "\n",
      ":: problems summary ::\n",
      ":::: WARNINGS\n",
      "\tUnable to reparse com.github.alexarchambault.jupyter#jupyter-scala-api_2.10.5;0.2.0-SNAPSHOT from sonatype-snapshots, using Sun Oct 25 20:00:40 CET 2015\n",
      "\n",
      "\tUnable to reparse com.github.alexarchambault.jupyter#jupyter-scala-api_2.10.5;0.2.0-SNAPSHOT from imagej.public, using Sun Oct 25 20:00:40 CET 2015\n",
      "\n",
      "\tSorting results from com.github.alexarchambault.jupyter#jupyter-scala-api_2.10.5;0.2.0-SNAPSHOT, using Sun Oct 25 20:00:40 CET 2015 and Sun Oct 25 20:00:40 CET 2015\n",
      "\n",
      "\tSorting results from com.github.alexarchambault.jupyter#jupyter-scala-api_2.10.5;0.2.0-SNAPSHOT, using Sun Oct 25 20:00:40 CET 2015 and Sun Oct 25 20:00:40 CET 2015\n",
      "\n",
      "\tChoosing imagej.public for com.github.alexarchambault.jupyter#jupyter-scala-api_2.10.5;0.2.0-SNAPSHOT\n",
      "\n",
      "\tUnable to reparse com.github.alexarchambault#ammonite-api_2.10.5;0.3.1-SNAPSHOT from sonatype-snapshots, using Wed Oct 21 11:44:30 CEST 2015\n",
      "\n",
      "\tUnable to reparse com.github.alexarchambault#ammonite-api_2.10.5;0.3.1-SNAPSHOT from imagej.public, using Wed Oct 21 11:44:30 CEST 2015\n",
      "\n",
      "\tSorting results from com.github.alexarchambault#ammonite-api_2.10.5;0.3.1-SNAPSHOT, using Wed Oct 21 11:44:30 CEST 2015 and Wed Oct 21 11:44:30 CEST 2015\n",
      "\n",
      "\tSorting results from com.github.alexarchambault#ammonite-api_2.10.5;0.3.1-SNAPSHOT, using Wed Oct 21 11:44:30 CEST 2015 and Wed Oct 21 11:44:30 CEST 2015\n",
      "\n",
      "\tChoosing imagej.public for com.github.alexarchambault#ammonite-api_2.10.5;0.3.1-SNAPSHOT\n",
      "\n",
      "\tUnable to reparse com.github.alexarchambault.jupyter#jupyter-api_2.10;0.2.0-SNAPSHOT from sonatype-snapshots, using Wed Oct 21 17:05:05 CEST 2015\n",
      "\n",
      "\tUnable to reparse com.github.alexarchambault.jupyter#jupyter-api_2.10;0.2.0-SNAPSHOT from imagej.public, using Wed Oct 21 17:05:05 CEST 2015\n",
      "\n",
      "\tSorting results from com.github.alexarchambault.jupyter#jupyter-api_2.10;0.2.0-SNAPSHOT, using Wed Oct 21 17:05:05 CEST 2015 and Wed Oct 21 17:05:05 CEST 2015\n",
      "\n",
      "\tSorting results from com.github.alexarchambault.jupyter#jupyter-api_2.10;0.2.0-SNAPSHOT, using Wed Oct 21 17:05:05 CEST 2015 and Wed Oct 21 17:05:05 CEST 2015\n",
      "\n",
      "\tChoosing imagej.public for com.github.alexarchambault.jupyter#jupyter-api_2.10;0.2.0-SNAPSHOT\n",
      "\n"
     ]
    },
    {
     "data": {
      "text/plain": []
     },
     "metadata": {},
     "output_type": "display_data"
    }
   ],
   "source": [
    "load.resolver(\"imagej.public\" at \"http://maven.imagej.net/content/groups/public\")\n",
    "load.ivy(\"net.imagej\" % \"imagej\" % \"2.0.0-rc-44\") // use % since %% adds scala version\n",
    "load.ivy(\"de.christophkraemer\" % \"rhino-script-engine\" % \"1.1.0\")  // since it's not in the classpath with notebooks per default"
   ]
  },
  {
   "cell_type": "code",
   "execution_count": 2,
   "metadata": {
    "collapsed": false
   },
   "outputs": [
    {
     "name": "stdout",
     "output_type": "stream",
     "text": [
      "Engine Name de.christophkraemer.rhino.javascript.RhinoScriptEngine@3203b72b\n",
      "Hello, World\n"
     ]
    },
    {
     "data": {
      "text/plain": [
       "\u001b[36mfactory\u001b[0m: javax.script.ScriptEngineManager = javax.script.ScriptEngineManager@15b242b6\n",
       "\u001b[36mengine\u001b[0m: javax.script.ScriptEngine = de.christophkraemer.rhino.javascript.RhinoScriptEngine@3203b72b\n",
       "\u001b[36mres1_3\u001b[0m: java.lang.Object = null"
      ]
     },
     "metadata": {},
     "output_type": "display_data"
    }
   ],
   "source": [
    "// A simple test to make sure JavaScript is working properly\n",
    "val factory = new javax.script.ScriptEngineManager()\n",
    "val engine = factory.getEngineByName(\"JavaScript\")\n",
    "println(s\"Engine Name $engine\")\n",
    "engine.eval(\"print('Hello, World\\\\n')\")"
   ]
  },
  {
   "cell_type": "code",
   "execution_count": 3,
   "metadata": {
    "collapsed": false
   },
   "outputs": [
    {
     "data": {
      "text/plain": [
       "\u001b[32mimport \u001b[36mnet.imagej.ImageJ\u001b[0m\n",
       "\u001b[36mij\u001b[0m: net.imagej.ImageJ = net.imagej.ImageJ@486b6ff"
      ]
     },
     "metadata": {},
     "output_type": "display_data"
    }
   ],
   "source": [
    "import net.imagej.ImageJ\n",
    "val ij = new ImageJ()"
   ]
  },
  {
   "cell_type": "code",
   "execution_count": 4,
   "metadata": {
    "collapsed": false
   },
   "outputs": [
    {
     "data": {
      "text/plain": [
       "\u001b[32mimport \u001b[36mnet.imagej.ops.Op\u001b[0m\n",
       "\u001b[32mimport \u001b[36mnet.imglib2.`type`.numeric.real.DoubleType\u001b[0m"
      ]
     },
     "metadata": {},
     "output_type": "display_data"
    }
   ],
   "source": [
    "import net.imagej.ops.Op\n",
    "import net.imglib2.`type`.numeric.real.DoubleType // since type is a keyword in scala"
   ]
  },
  {
   "cell_type": "code",
   "execution_count": 5,
   "metadata": {
    "collapsed": false
   },
   "outputs": [
    {
     "name": "stderr",
     "output_type": "stream",
     "text": [
      "[INFO] -------- How many ops? --------\n",
      "[INFO] Found 533 ops\n"
     ]
    },
    {
     "data": {
      "text/plain": [
       "\u001b[36mopCount\u001b[0m: Int = \u001b[32m533\u001b[0m"
      ]
     },
     "metadata": {},
     "output_type": "display_data"
    }
   ],
   "source": [
    "ij.log().info(\"-------- How many ops? --------\");\n",
    "val opCount = ij.command().getCommandsOfType(classOf[Op]).size();\n",
    "ij.log().info(\"Found \" + opCount + \" ops\");"
   ]
  },
  {
   "cell_type": "code",
   "execution_count": 6,
   "metadata": {
    "collapsed": false
   },
   "outputs": [
    {
     "name": "stderr",
     "output_type": "stream",
     "text": [
      "[INFO] -------- Learn about an op --------\n",
      "[INFO] Available operations:\n",
      "\t(ArrayImg image) =\n",
      "\tnet.imagej.ops.math.ConstantToArrayImageP$MultiplyDouble(\n",
      "\t\tArrayImg image,\n",
      "\t\tdouble value)\n",
      "\t(ArrayImg image) =\n",
      "\tnet.imagej.ops.math.ConstantToArrayImageP$MultiplyByte(\n",
      "\t\tArrayImg image,\n",
      "\t\tbyte value)\n",
      "\t(ArrayImg image) =\n",
      "\tnet.imagej.ops.math.ConstantToArrayImage$MultiplyDouble(\n",
      "\t\tArrayImg image,\n",
      "\t\tdouble value)\n",
      "\t(ArrayImg image) =\n",
      "\tnet.imagej.ops.math.ConstantToArrayImage$MultiplyByte(\n",
      "\t\tArrayImg image,\n",
      "\t\tbyte value)\n",
      "\t(Img out?) =\n",
      "\tnet.imagej.ops.math.IterableIntervalToImg$Multiply(\n",
      "\t\tImg out?,\n",
      "\t\tImg in,\n",
      "\t\tIterableInterval ii)\n",
      "\t(int result) =\n",
      "\tnet.imagej.ops.math.PrimitiveMath$IntegerMultiply(\n",
      "\t\tint a,\n",
      "\t\tint b)\n",
      "\t(long result) =\n",
      "\tnet.imagej.ops.math.PrimitiveMath$LongMultiply(\n",
      "\t\tlong a,\n",
      "\t\tlong b)\n",
      "\t(float result) =\n",
      "\tnet.imagej.ops.math.PrimitiveMath$FloatMultiply(\n",
      "\t\tfloat a,\n",
      "\t\tfloat b)\n",
      "\t(double result) =\n",
      "\tnet.imagej.ops.math.PrimitiveMath$DoubleMultiply(\n",
      "\t\tdouble a,\n",
      "\t\tdouble b)\n",
      "\t(IterableRealInterval image) =\n",
      "\tnet.imagej.ops.math.ConstantToImageInPlace$Multiply(\n",
      "\t\tIterableRealInterval image,\n",
      "\t\tNumericType value)\n",
      "\t(PlanarImg image) =\n",
      "\tnet.imagej.ops.math.ConstantToPlanarImage$MultiplyDouble(\n",
      "\t\tPlanarImg image,\n",
      "\t\tdouble value)\n",
      "\t(NumericType out?) =\n",
      "\tnet.imagej.ops.math.NumericTypeBinaryMath$Multiply(\n",
      "\t\tNumericType out?,\n",
      "\t\tNumericType in,\n",
      "\t\tNumericType b)\n",
      "\t(IterableInterval a) =\n",
      "\tnet.imagej.ops.math.RandomAccessibleIntervalToIterableInterval$Multiply(\n",
      "\t\tIterableInterval a,\n",
      "\t\tRandomAccessibleInterval b)\n",
      "\t(RealType out) =\n",
      "\tnet.imagej.ops.math.RealMath$Multiply(\n",
      "\t\tRealType out,\n",
      "\t\tRealType in,\n",
      "\t\tdouble constant)\n",
      "\t(RandomAccessibleInterval out) =\n",
      "\tnet.imagej.ops.math.ConstantToImageFunctional$Multiply(\n",
      "\t\tRandomAccessibleInterval out,\n",
      "\t\tIterableInterval in,\n",
      "\t\tNumericType value)\n"
     ]
    },
    {
     "data": {
      "text/plain": []
     },
     "metadata": {},
     "output_type": "display_data"
    }
   ],
   "source": [
    "ij.log().info(\"-------- Learn about an op --------\");\n",
    "ij.log().info(ij.op().help(\"math.mul\"));"
   ]
  },
  {
   "cell_type": "code",
   "execution_count": 7,
   "metadata": {
    "collapsed": false
   },
   "outputs": [
    {
     "name": "stderr",
     "output_type": "stream",
     "text": [
      "[INFO] -------- Add two numbers --------\n",
      "[INFO] What is 2 + 5? 7\n"
     ]
    },
    {
     "data": {
      "text/plain": [
       "\u001b[36mseven\u001b[0m: Int = \u001b[32m7\u001b[0m"
      ]
     },
     "metadata": {},
     "output_type": "display_data"
    }
   ],
   "source": [
    "ij.log().info(\"-------- Add two numbers --------\");\n",
    "val seven = ij.op().math().add(2, 5);\n",
    "ij.log().info(\"What is 2 + 5? \" + seven);"
   ]
  },
  {
   "cell_type": "code",
   "execution_count": 8,
   "metadata": {
    "collapsed": false
   },
   "outputs": [
    {
     "name": "stderr",
     "output_type": "stream",
     "text": [
      "[INFO] -------- Create a new blank image --------\n"
     ]
    },
    {
     "data": {
      "text/plain": [
       "\u001b[36mdims\u001b[0m: scala.Array[Long] = \u001b[33mArray\u001b[0m(\u001b[32m150\u001b[0mL, \u001b[32m100\u001b[0mL)\n",
       "\u001b[36mblank\u001b[0m: java.lang.Object = ArrayImg [150x100]"
      ]
     },
     "metadata": {},
     "output_type": "display_data"
    }
   ],
   "source": [
    "ij.log().info(\"-------- Create a new blank image --------\");\n",
    "val dims = Array(150L, 100L);\n",
    "val blank = ij.op().create().img(dims);"
   ]
  },
  {
   "cell_type": "code",
   "execution_count": null,
   "metadata": {
    "collapsed": false
   },
   "outputs": [],
   "source": []
  },
  {
   "cell_type": "code",
   "execution_count": 9,
   "metadata": {
    "collapsed": false
   },
   "outputs": [
    {
     "name": "stderr",
     "output_type": "stream",
     "text": [
      "[INFO] -------- Fill in an image with a formula --------\n"
     ]
    },
    {
     "data": {
      "text/plain": [
       "\u001b[36mformula\u001b[0m: java.lang.String = \u001b[32m\"10 * (Math.cos(0.3*p[0]) + Math.sin(0.3*p[1]))\"\u001b[0m\n",
       "\u001b[36msinusoid\u001b[0m: java.lang.Object = ArrayImg [150x100]"
      ]
     },
     "metadata": {},
     "output_type": "display_data"
    }
   ],
   "source": [
    "ij.log().info(\"-------- Fill in an image with a formula --------\");\n",
    "val formula = \"10 * (Math.cos(0.3*p[0]) + Math.sin(0.3*p[1]))\";\n",
    "val sinusoid = ij.op().image().equation(blank, formula);"
   ]
  },
  {
   "cell_type": "code",
   "execution_count": 10,
   "metadata": {
    "collapsed": false
   },
   "outputs": [
    {
     "ename": "",
     "evalue": "",
     "output_type": "error",
     "traceback": [
      "Compilation Failed",
      "\u001b[31mMain.scala:101: overloaded method value add with alternatives:",
      "  [T <: net.imglib2.type.numeric.NumericType[T]](x$1: net.imglib2.img.Img[T], x$2: net.imglib2.IterableInterval[T])net.imglib2.img.Img[T] <and>",
      "  [T <: net.imglib2.type.numeric.NumericType[T]](x$1: net.imglib2.IterableRealInterval[T], x$2: T)net.imglib2.IterableRealInterval[T] <and>",
      "  (x$1: net.imglib2.img.planar.PlanarImg[net.imglib2.type.numeric.real.DoubleType,net.imglib2.img.basictypeaccess.array.DoubleArray],x$2: Double)net.imglib2.img.planar.PlanarImg[net.imglib2.type.numeric.real.DoubleType,net.imglib2.img.basictypeaccess.array.DoubleArray] <and>",
      "  [T <: net.imglib2.type.numeric.NumericType[T]](x$1: net.imglib2.IterableInterval[T], x$2: net.imglib2.RandomAccessibleInterval[T])net.imglib2.IterableInterval[T] <and>",
      "  [T <: net.imglib2.type.numeric.NumericType[T]](x$1: T, x$2: T)T <and>",
      "  (x$1: Double,x$2: Double)Double <and>",
      "  (x$1: Float,x$2: Float)Float <and>",
      "  (x$1: Long,x$2: Long)Long <and>",
      "  (x$1: Int,x$2: Int)Int <and>",
      "  (x$1: net.imglib2.img.array.ArrayImg[net.imglib2.type.numeric.real.DoubleType,net.imglib2.img.basictypeaccess.array.DoubleArray],x$2: Double)net.imglib2.img.array.ArrayImg[net.imglib2.type.numeric.real.DoubleType,net.imglib2.img.basictypeaccess.array.DoubleArray] <and>",
      "  (x$1: net.imglib2.img.array.ArrayImg[net.imglib2.type.numeric.integer.ByteType,net.imglib2.img.basictypeaccess.array.ByteArray],x$2: Byte)net.imglib2.img.array.ArrayImg[net.imglib2.type.numeric.integer.ByteType,net.imglib2.img.basictypeaccess.array.ByteArray] <and>",
      "  (x$1: <repeated...>[Object])Object",
      " cannot be applied to (Object, Double)",
      "ij.op().math().add(sinusoid, 13.0)",
      "               ^\u001b[0m"
     ]
    }
   ],
   "source": [
    "ij.log().info(\"-------- Add a constant value to an image --------\");\n",
    "ij.op().math().add(sinusoid, 13.0);"
   ]
  },
  {
   "cell_type": "code",
   "execution_count": 11,
   "metadata": {
    "collapsed": false
   },
   "outputs": [
    {
     "name": "stderr",
     "output_type": "stream",
     "text": [
      "[INFO] -------- Generate gradient image using a formula --------\n"
     ]
    },
    {
     "data": {
      "text/plain": [
       "\u001b[36mgBlank\u001b[0m: java.lang.Object = ArrayImg [150x100]\n",
       "\u001b[36mgradient\u001b[0m: java.lang.Object = ArrayImg [150x100]"
      ]
     },
     "metadata": {},
     "output_type": "display_data"
    }
   ],
   "source": [
    "ij.log().info(\"-------- Generate gradient image using a formula --------\");\n",
    "val gBlank = ij.op().create().img(dims);\n",
    "val gradient = ij.op().image().equation(gBlank, \"p[0]+p[1]\");"
   ]
  },
  {
   "cell_type": "code",
   "execution_count": 12,
   "metadata": {
    "collapsed": false
   },
   "outputs": [
    {
     "name": "stderr",
     "output_type": "stream",
     "text": [
      "[INFO] -------- Add two images --------\n"
     ]
    },
    {
     "data": {
      "text/plain": [
       "\u001b[36mcomposite\u001b[0m: java.lang.Object = ArrayImg [150x100]"
      ]
     },
     "metadata": {},
     "output_type": "display_data"
    }
   ],
   "source": [
    "ij.log().info(\"-------- Add two images --------\");\n",
    "val composite = ij.op().math().add(sinusoid, gradient);"
   ]
  },
  {
   "cell_type": "code",
   "execution_count": 13,
   "metadata": {
    "collapsed": false
   },
   "outputs": [
    {
     "name": "stderr",
     "output_type": "stream",
     "text": [
      "[INFO] -------- Dump an image to the console --------\n",
      "[INFO] Composite image:\n",
      "                    .....          .......................,,,,,,,,,,,,,,,,,,,,,,,----------,,,,,---------+++-----------+++++++++++++++++++++++oooooooo\n",
      "                   .........      .......................,,,,,,,,,,,,,,,,,,,,,,,-----------------------+++++++--------+++++++++++++++++++++++ooooooooo\n",
      "                  .......................,,,,,..........,,,,,,,,,,,,,,,,,,,,,,,-----------------------++++++++++-----+++++++++ooo+++++++++++oooooooooo\n",
      "                 .......................,,,,,,,,.......,,,,,,,,,,,,,,,,,,,,,,,-----------------------+++++++++++++++++++++++ooooooo++++++++ooooooooooo\n",
      "                .......................,,,,,,,,,,.....,,,,,,,,,---,,,,,,,,,,,-----------------------+++++++++++++++++++++++ooooooooo++++++oooooooooooo\n",
      "                .......................,,,,,,,,,,,,.,,,,,,,,,,-----,,,,,,,,,,-----------------------+++++++++++++++++++++++oooooooooo+++++ooooooooo***\n",
      "               .......................,,,,,,,,,,,,,,,,,,,,,,,,------,,,,,,,,,-----------------------+++++++++++++++++++++++ooooooooooo+++ooooooooo****\n",
      "               .......................,,,,,,,,,,,,,,,,,,,,,,,,------,,,,,,,,,-----------------------+++++++++++++++++++++++ooooooooooo+++ooooooooo****\n",
      "                .......................,,,,,,,,,,,,..,,,,,,,,,-----,,,,,,,,,,-----------------------+++++++++++++++++++++++oooooooooo+++++ooooooooo***\n",
      "                .......................,,,,,,,,,,.....,,,,,,,,,---,,,,,,,,,,,-----------------------+++++++++++++++++++++++ooooooooo++++++oooooooooooo\n",
      "                 .......................,,,,,,,,.......,,,,,,,,,,,,,,,,,,,,,,,-----------------------+++++++++++++++++++++++ooooooo++++++++ooooooooooo\n",
      "                 .......................,,,,,,,........,,,,,,,,,,,,,,,,,,,,,,,-----------------------+++++++++++++-++++++++++ooooo++++++++++oooooooooo\n",
      "                  ............ ..........,,,,,..........,,,,,,,,,,,,,,,,,,,,,,,-----------------------++++++++++-----+++++++++ooo+++++++++++oooooooooo\n",
      "                  ...........    .........,,,,..........,,,,,,,,,,,,,,,,,,,,,,,-----------------------+++++++++------++++++++++++++++++++++++ooooooooo\n",
      "                  ..........     .........,,,............,,,,,,,,,,,,,,,,,,,,,,-----------------------+++++++++-------+++++++++++++++++++++++ooooooooo\n",
      "                  ..........     .........,,,............,,,,,,,,,,,,,,,,,,,,,,-----------------------+++++++++-------+++++++++++++++++++++++ooooooooo\n",
      "                  ...........    .........,,,...........,,,,,,,,,,,,,,,,,,,,,,,-----------------------+++++++++------++++++++++++++++++++++++ooooooooo\n",
      "                 ........................,,,,,,.........,,,,,,,,,,,,,,,,,,,,,,,-----------------------++++++++++-----+++++++++ooo+++++++++++oooooooooo\n",
      "                 .......................,,,,,,,,.......,,,,,,,,,,,,,,,,,,,,,,,-----------------------+++++++++++++++++++++++ooooooo++++++++ooooooooooo\n",
      "                .......................,,,,,,,,,,,....,,,,,,,,,---,,,,,,,,,,,-----------------------+++++++++++++++++++++++ooooooooo++++++oooooooooooo\n",
      "               .......................,,,,,,,,,,,,,,,,,,,,,,,-------,,,,,,,,-----------------------+++++++++++++++++++++++oooooooooooooooooooooooo****\n",
      ".....         .......................,,,,,,,,,,,,,,,,,,,,,,,-----------,,,,---------+++-----------+++++++++++++++++++++++ooooooooooooooooooooooo******\n",
      ".......      .......................,,,,,,,,,,,,,,,,,,,,,,,-----------------------++++++++-------+++++++++++++++++++++++ooooooooooooooooooooooo*******\n",
      "....................,,,,,,.........,,,,,,,,,,,,,,,,,,,,,,,-----------------------+++++++++++----+++++++++ooo+++++++++++ooooooooooooooooooooooo********\n",
      "...................,,,,,,,,.......,,,,,,,,,,,,,,,,,,,,,,,-----------------------+++++++++++++++++++++++ooooooo++++++++ooooooooooooooooooooooo*********\n",
      "..................,,,,,,,,,,,....,,,,,,,,,---,,,,,,,,,,,-----------------------+++++++++++++++++++++++ooooooooo++++++oooooooooooooooooooooooo*********\n",
      "..................,,,,,,,,,,,,.,,,,,,,,,,-----,,,,,,,,,,-----------------------+++++++++++++++++++++++oooooooooo+++++ooooooooo***ooooooooooo**********\n",
      ".................,,,,,,,,,,,,,,,,,,,,,,,,------,,,,,,,,,-----------------------+++++++++++++++++++++++ooooooooooo+++ooooooooo****ooooooooooo**********\n",
      ".................,,,,,,,,,,,,,,,,,,,,,,,,------,,,,,,,,,-----------------------+++++++++++++++++++++++ooooooooooo+++ooooooooo****ooooooooooo**********\n",
      "..................,,,,,,,,,,,,..,,,,,,,,,-----,,,,,,,,,,-----------------------+++++++++++++++++++++++oooooooooo+++++ooooooooo***ooooooooooo**********\n",
      "..................,,,,,,,,,,.....,,,,,,,,,---,,,,,,,,,,,,----------------------+++++++++++++++++++++++ooooooooo+++++++ooooooooooooooooooooooo*********\n",
      "...................,,,,,,,,.......,,,,,,,,,,,,,,,,,,,,,,,-----------------------+++++++++++++++++++++++ooooooo++++++++ooooooooooooooooooooooo*********\n",
      "...................,,,,,,,........,,,,,,,,,,,,,,,,,,,,,,,,----------------------+++++++++++++-++++++++++ooooo++++++++++ooooooooooooooooooooooo********\n",
      "......... ..........,,,,,..........,,,,,,,,,,,,,,,,,,,,,,,-----------------------++++++++++-----+++++++++ooo+++++++++++ooooooooooooooooooooooo********\n",
      "........    .........,,,,..........,,,,,,,,,,,,,,,,,,,,,,,-----------------------++++++++++-----++++++++++++++++++++++++ooooooooooooooooooooooo*******\n",
      ".......     .........,,,............,,,,,,,,,,,,,,,,,,,,,,,-----------------------++++++++-------+++++++++++++++++++++++ooooooooooooooooooooooo*******\n",
      ".......     .........,,,............,,,,,,,,,,,,,,,,,,,,,,,-----------------------++++++++-------+++++++++++++++++++++++ooooooooooooooooooooooo*******\n",
      "........    .........,,,,..........,,,,,,,,,,,,,,,,,,,,,,,-----------------------++++++++++-----++++++++++++++++++++++++ooooooooooooooooooooooo*******\n",
      "....................,,,,,,.........,,,,,,,,,,,,,,,,,,,,,,,-----------------------+++++++++++----+++++++++ooo+++++++++++ooooooooooooooooooooooo********\n",
      "...................,,,,,,,,.......,,,,,,,,,,,,,,,,,,,,,,,-----------------------+++++++++++++++++++++++ooooooo++++++++ooooooooooooooooooooooo*********\n",
      "..................,,,,,,,,,,,....,,,,,,,,,----,,,,,,,,,,-----------------------+++++++++++++++++++++++ooooooooo++++++oooooooooooooooooooooooo*********\n",
      ".................,,,,,,,,,,,,,,,,,,,,,,,--------,,,,,,,-----------------------+++++++++++++++++++++++ooooooooooooooooooooooo******oooooooooo**********\n",
      "................,,,,,,,,,,,,,,,,,,,,,,,-----------,,,,---------++++----------+++++++++++++++++++++++ooooooooooooooooooooooo*********oooooo************\n",
      "...............,,,,,,,,,,,,,,,,,,,,,,,-----------------------++++++++-------+++++++++++++++++++++++ooooooooooooooooooooooo***********************OOOOO\n",
      ",,,,,.........,,,,,,,,,,,,,,,,,,,,,,,-----------------------+++++++++++---+++++++++ooooo++++++++++ooooooooooooooooooooooo***********************OOOOOO\n",
      ",,,,,,.......,,,,,,,,,,,,,,,,,,,,,,,-----------------------+++++++++++++++++++++++ooooooo++++++++ooooooooooooooooooooooo***********************OOOOOOO\n",
      ",,,,,,,,....,,,,,,,,,---,,,,,,,,,,,-----------------------+++++++++++++++++++++++ooooooooo++++++oooooooooooooooooooooooo***********************OOOOOOO\n",
      ",,,,,,,,,.,,,,,,,,,,-----,,,,,,,,,,-----------------------+++++++++++++++++++++++oooooooooo+++++ooooooooo***ooooooooooo***********************OOOOOOOO\n",
      ",,,,,,,,,,,,,,,,,,,,------,,,,,,,,,-----------------------+++++++++++++++++++++++ooooooooooo+++ooooooooo*****oooooooooo***********************OOOOOOOO\n",
      ",,,,,,,,,,,,,,,,,,,,------,,,,,,,,,-----------------------+++++++++++++++++++++++ooooooooooo+++ooooooooo****ooooooooooo***********************OOOOOOOO\n",
      ",,,,,,,,,..,,,,,,,,,-----,,,,,,,,,,-----------------------+++++++++++++++++++++++oooooooooo+++++ooooooooo***ooooooooooo***********************OOOOOOOO\n",
      ",,,,,,,.....,,,,,,,,,---,,,,,,,,,,,,----------------------+++++++++++++++++++++++ooooooooo+++++++ooooooooooooooooooooooo***********************OOOOOOO\n",
      ",,,,,,.......,,,,,,,,,,,,,,,,,,,,,,,-----------------------+++++++++++++++++++++++ooooooo++++++++ooooooooooooooooooooooo***********************OOOOOOO\n",
      ",,,,,.........,,,,,,,,,,,,,,,,,,,,,,,----------------------+++++++++++++-++++++++++ooooo++++++++++ooooooooooooooooooooooo***********************OOOOOO\n",
      ",,,,..........,,,,,,,,,,,,,,,,,,,,,,,-----------------------++++++++++-----+++++++++ooo+++++++++++ooooooooooooooooooooooo***********************OOOOOO\n",
      ",,,,...........,,,,,,,,,,,,,,,,,,,,,,-----------------------++++++++++-----++++++++++++++++++++++++ooooooooooooooooooooooo***********************OOOOO\n",
      ",,,............,,,,,,,,,,,,,,,,,,,,,,,-----------------------++++++++-------+++++++++++++++++++++++ooooooooooooooooooooooo***********************OOOOO\n",
      ",,,............,,,,,,,,,,,,,,,,,,,,,,,-----------------------++++++++-------+++++++++++++++++++++++ooooooooooooooooooooooo***********************OOOOO\n",
      ",,,,..........,,,,,,,,,,,,,,,,,,,,,,,-----------------------++++++++++-----++++++++++++++++++++++++ooooooooooooooooooooooo***********************OOOOO\n",
      ",,,,,.........,,,,,,,,,,,,,,,,,,,,,,,-----------------------+++++++++++---+++++++++oooo+++++++++++ooooooooooooooooooooooo***********************OOOOOO\n",
      ",,,,,,.......,,,,,,,,,,,,,,,,,,,,,,,-----------------------+++++++++++++++++++++++ooooooo++++++++ooooooooooooooooooooooo***********************OOOOOOO\n",
      ",,,,,,,,....,,,,,,,,,----,,,,,,,,,,-----------------------+++++++++++++++++++++++oooooooooo+++++oooooooooooooooooooooooo**********************OOOOOOOO\n",
      ",,,,,,,,,,,,,,,,,,,--------,,,,,,,-----------------------+++++++++++++++++++++++ooooooooooooooooooooooo*******ooooooooo***********************OOOOOOOO\n",
      ",,,,,,,,,,,,,,,,,,-----------,,,---------+++++----------+++++++++++++++++++++++ooooooooooooooooooooooo**********ooooo**********O*************OOOOOOOOO\n",
      ",,,,,,,,,,,,,,,,,-----------------------++++++++-------+++++++++++++++++++++++ooooooooooooooooooooooo***********************OOOOOOO********OOOOOOOOOOO\n",
      ",,,,,,,,,,,,,,,,-----------------------+++++++++++---+++++++++ooooo++++++++++ooooooooooooooooooooooo***********************OOOOOOOOOO*****OOOOOOOOOO#O\n",
      ",,,,,,,,,,,,,,,-----------------------+++++++++++++++++++++++ooooooo++++++++ooooooooooooooooooooooo***********************OOOOOOOOOOOOOOOOOOOOOOOO####\n",
      "----,,,,,,,,,,-----------------------+++++++++++++++++++++++oooooooooo+++++oooooooooooooooooooooooo***********************OOOOOOOOOOOOOOOOOOOOOOO#####\n",
      "-----,,,,,,,,,-----------------------+++++++++++++++++++++++oooooooooo+++++ooooooooo***ooooooooooo***********************OOOOOOOOOOOOOOOOOOOOOOO######\n",
      "-----,,,,,,,,,-----------------------+++++++++++++++++++++++ooooooooooo+++ooooooooo*****oooooooooo***********************OOOOOOOOOOOOOOOOOOOOOOO######\n",
      "-----,,,,,,,,,-----------------------+++++++++++++++++++++++ooooooooooo++++ooooooooo***ooooooooooo***********************OOOOOOOOOOOOOOOOOOOOOOO######\n",
      "----,,,,,,,,,,-----------------------+++++++++++++++++++++++oooooooooo+++++ooooooooo***oooooooooooo**********************OOOOOOOOOOOOOOOOOOOOOOO######\n",
      "---,,,,,,,,,,,,-----------------------+++++++++++++++++++++++oooooooo+++++++ooooooooooooooooooooooo***********************OOOOOOOOOOOOOOOOOOOOOOO#####\n",
      ",,,,,,,,,,,,,,,-----------------------+++++++++++++++++++++++ooooooo++++++++ooooooooooooooooooooooo***********************OOOOOOOOOOOOO*OOOOOOOOOO####\n",
      ",,,,,,,,,,,,,,,,-----------------------++++++++++++--+++++++++ooooo++++++++++ooooooooooooooooooooooo***********************OOOOOOOOOO*****OOOOOOOOO###\n",
      ",,,,,,,,,,,,,,,,-----------------------++++++++++-----+++++++++ooo+++++++++++ooooooooooooooooooooooo***********************OOOOOOOOO******OOOOOOOOOOOO\n",
      ",,,,,,,,,,,,,,,,-----------------------++++++++++------+++++++++++++++++++++++ooooooooooooooooooooooo***********************OOOOOOO********OOOOOOOOOOO\n",
      ",,,,,,,,,,,,,,,,,-----------------------++++++++-------+++++++++++++++++++++++ooooooooooooooooooooooo***********************OOOOOOO********OOOOOOOOOOO\n",
      ",,,,,,,,,,,,,,,,,-----------------------++++++++-------+++++++++++++++++++++++ooooooooooooooooooooooo***********************OOOOOOO********OOOOOOOOOOO\n",
      ",,,,,,,,,,,,,,,,-----------------------++++++++++-----++++++++++++++++++++++++ooooooooooooooooooooooo***********************OOOOOOOO*******OOOOOOOOOOO\n",
      ",,,,,,,,,,,,,,,,-----------------------+++++++++++---+++++++++ooooo++++++++++ooooooooooooooooooooooo***********************OOOOOOOOOO*****OOOOOOOOOOOO\n",
      ",,,,,,,,,,,,,,,-----------------------+++++++++++++++++++++++ooooooo++++++++ooooooooooooooooooooooo***********************OOOOOOOOOOOO***OOOOOOOOO####\n",
      "----,,,,,,,,,,-----------------------+++++++++++++++++++++++oooooooooo+++++oooooooooo*ooooooooooooo***********************OOOOOOOOOOOOOOOOOOOOOOO#####\n",
      "------,,,,,,,-----------------------+++++++++++++++++++++++ooooooooooooooooooooooo*******ooooooooo***********************OOOOOOOOOOOOOOOOOOOOOO#######\n",
      "--------,,,---------+++++----------+++++++++++++++++++++++ooooooooooooooooooooooo**********ooooo**********O*************OOOOOOOOOOOOOOOOOOOOOO########\n",
      "-------------------++++++++-------+++++++++++++++++++++++ooooooooooooooooooooooo***********************OOOOOOO********OOOOOOOOOOOOOOOOOOOOOOO#########\n",
      "------------------+++++++++++---+++++++++ooooo++++++++++ooooooooooooooooooooooo***********************OOOOOOOOOO*****OOOOOOOOOO#OOOOOOOOOOOO##########\n",
      "-----------------+++++++++++++++++++++++oooooooo+++++++ooooooooooooooooooooooo***********************OOOOOOOOOOOOOOOOOOOOOOOO#####OOOOOOOOOO##########\n",
      "----------------+++++++++++++++++++++++oooooooooo+++++oooooooooooooooooooooooo***********************OOOOOOOOOOOOOOOOOOOOOOO########OOOOOOO###########\n",
      "----------------+++++++++++++++++++++++ooooooooooo++++ooooooooo***ooooooooooo***********************OOOOOOOOOOOOOOOOOOOOOOO#########OOOOOO############\n",
      "----------------+++++++++++++++++++++++ooooooooooo+++ooooooooo*****oooooooooo***********************OOOOOOOOOOOOOOOOOOOOOOO##########OOOOO############\n",
      "----------------+++++++++++++++++++++++ooooooooooo++++ooooooooo***ooooooooooo***********************OOOOOOOOOOOOOOOOOOOOOOO#########OOOOOO############\n",
      "----------------+++++++++++++++++++++++oooooooooo+++++ooooooooo***oooooooooooo**********************OOOOOOOOOOOOOOOOOOOOOOO#########OOOOOOO###########\n",
      "-----------------+++++++++++++++++++++++oooooooo+++++++ooooooooooooooooooooooo***********************OOOOOOOOOOOOOOOOOOOOOOO#######OOOOOOOO###########\n",
      "-----------------+++++++++++++++++++++++ooooooo++++++++ooooooooooooooooooooooo***********************OOOOOOOOOOOOO*OOOOOOOOOO#####OOOOOOOOOO##########\n",
      "------------------++++++++++++--+++++++++ooooo++++++++++ooooooooooooooooooooooo***********************OOOOOOOOOO*****OOOOOOOOO###OOOOOOOOOOO##########\n",
      "------------------++++++++++-----+++++++++ooo++++++++++++oooooooooooooooooooooo***********************OOOOOOOOO*******OOOOOOOOOOOOOOOOOOOOOOO#########\n",
      "-------------------+++++++++------+++++++++++++++++++++++ooooooooooooooooooooooo***********************OOOOOOO********OOOOOOOOOOOOOOOOOOOOOOO#########\n",
      "-------------------++++++++-------+++++++++++++++++++++++ooooooooooooooooooooooo***********************OOOOOOO********OOOOOOOOOOOOOOOOOOOOOOO#########\n",
      "-------------------++++++++-------+++++++++++++++++++++++ooooooooooooooooooooooo***********************OOOOOOO********OOOOOOOOOOOOOOOOOOOOOOO#########\n",
      "\n"
     ]
    },
    {
     "data": {
      "text/plain": [
       "\u001b[36mascii\u001b[0m: java.lang.Object =                     .....          .......................,,,,,,,,,,,,,,,,,,,,,,,----------,,,,,---------+++-----------+++++++++++++++++++++++oooooooo\n",
       "                   .........      .......................,,,,,,,,,,,,,,,,,,,,,,,-----------------------+++++++--------+++++++++++++++++++++++ooooooooo\n",
       "                  .......................,,,,,..........,,,,,,,,,,,,,,,,,,,,,,,-----------------------++++++++++-----+++++++++ooo+++++++++++oooooooooo\n",
       "                 .......................,,,,,,,,.......,,,,,,,,,,,,,,,,,,,,,,,-----------------------+++++++++++++++++++++++ooooooo++++++++ooooooooooo\n",
       "                .......................,,,,,,,,,,.....,,,,,,,,,---,,,,,,,,,,,-----------------------+++++++++++++++++++++++ooooooooo++++++oooooooooooo\n",
       "                .......................,,,,,,,,,,,,.,,,,,,,,,,-----,,,,,,,,,,-----------------------+++++++++++++++++++++++oooooooooo+++++ooooooooo***\n",
       "               .......................,,,,,,,,,,,,,,,,,,,,,,,,------,,,,,,,,,-----------------------+++++++++++++++++++++++ooooooooooo+++ooooooooo****\n",
       "               .......................,,,,,,,,,,,,,,,,,,,,,,,,------,,,,,,,,,-----------------------\u001b[33m...\u001b[0m"
      ]
     },
     "metadata": {},
     "output_type": "display_data"
    }
   ],
   "source": [
    "ij.log().info(\"-------- Dump an image to the console --------\");\n",
    "val ascii = ij.op().image().ascii(composite);\n",
    "ij.log().info(\"Composite image:\\n\" + ascii);"
   ]
  },
  {
   "cell_type": "code",
   "execution_count": 14,
   "metadata": {
    "collapsed": false
   },
   "outputs": [
    {
     "name": "stderr",
     "output_type": "stream",
     "text": [
      "[INFO] -------- Show the image in a window --------\n"
     ]
    },
    {
     "data": {
      "text/plain": []
     },
     "metadata": {},
     "output_type": "display_data"
    }
   ],
   "source": [
    "ij.log().info(\"-------- Show the image in a window --------\");\n",
    "ij.ui().show(\"composite\", composite);"
   ]
  },
  {
   "cell_type": "code",
   "execution_count": 15,
   "metadata": {
    "collapsed": false
   },
   "outputs": [
    {
     "name": "stderr",
     "output_type": "stream",
     "text": [
      "[INFO] -------- Execute op on every pixel of an image --------\n",
      "[INFO] -------- All done! --------\n"
     ]
    },
    {
     "data": {
      "text/plain": [
       "\u001b[36maddOp\u001b[0m: net.imagej.ops.Op = net.imagej.ops.math.NumericTypeBinaryMath$Add@1430210e\n",
       "\u001b[36mres13_2\u001b[0m: java.lang.Object = ArrayImg [150x100]"
      ]
     },
     "metadata": {},
     "output_type": "display_data"
    }
   ],
   "source": [
    "ij.log().info(\"-------- Execute op on every pixel of an image --------\");\n",
    "val addOp = ij.op().op(\"math.add\", classOf[DoubleType], new DoubleType(5.0));\n",
    "ij.op().map(composite, composite, addOp);\n",
    "\n",
    "ij.log().info(\"-------- All done! --------\");"
   ]
  },
  {
   "cell_type": "code",
   "execution_count": null,
   "metadata": {
    "collapsed": true
   },
   "outputs": [],
   "source": []
  }
 ],
 "metadata": {
  "kernelspec": {
   "display_name": "Scala 2.10",
   "language": "scala210",
   "name": "scala210"
  },
  "language_info": {
   "codemirror_mode": "text/x-scala",
   "file_extension": "scala",
   "mimetype": "text/x-scala",
   "name": "scala210",
   "pygments_lexer": "scala",
   "version": "2.10.5"
  }
 },
 "nbformat": 4,
 "nbformat_minor": 0
}
