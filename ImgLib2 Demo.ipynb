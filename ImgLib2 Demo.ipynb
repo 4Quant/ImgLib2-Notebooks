{
 "cells": [
  {
   "cell_type": "markdown",
   "metadata": {},
   "source": [
    "# Tutorials from ImgLib2\n",
    "\n",
    "A simple adaptation of using the Jupyter Scala Implementation (https://github.com/alexarchambault/jupyter-scala) of these examples (https://github.com/imagej/imagej-tutorials/tree/master/using-ops)"
   ]
  },
  {
   "cell_type": "markdown",
   "metadata": {},
   "source": [
    "The dependencies can be loaded in the notebook using the current values from the net.imagej pom file."
   ]
  },
  {
   "cell_type": "code",
   "execution_count": 1,
   "metadata": {
    "collapsed": false
   },
   "outputs": [
    {
     "name": "stdout",
     "output_type": "stream",
     "text": [
      ":: problems summary ::\n",
      ":::: WARNINGS\n",
      "\tUnable to reparse com.github.alexarchambault.jupyter#jupyter-scala-api_2.10.5;0.2.0-SNAPSHOT from sonatype-snapshots, using Sun Oct 25 20:00:40 CET 2015\n",
      "\n",
      "\tUnable to reparse com.github.alexarchambault.jupyter#jupyter-scala-api_2.10.5;0.2.0-SNAPSHOT from imagej.public, using Sun Oct 25 20:00:40 CET 2015\n",
      "\n",
      "\tSorting results from com.github.alexarchambault.jupyter#jupyter-scala-api_2.10.5;0.2.0-SNAPSHOT, using Sun Oct 25 20:00:40 CET 2015 and Sun Oct 25 20:00:40 CET 2015\n",
      "\n",
      "\tSorting results from com.github.alexarchambault.jupyter#jupyter-scala-api_2.10.5;0.2.0-SNAPSHOT, using Sun Oct 25 20:00:40 CET 2015 and Sun Oct 25 20:00:40 CET 2015\n",
      "\n",
      "\tChoosing imagej.public for com.github.alexarchambault.jupyter#jupyter-scala-api_2.10.5;0.2.0-SNAPSHOT\n",
      "\n",
      "\tUnable to reparse com.github.alexarchambault#ammonite-api_2.10.5;0.3.1-SNAPSHOT from sonatype-snapshots, using Wed Oct 21 11:44:30 CEST 2015\n",
      "\n",
      "\tUnable to reparse com.github.alexarchambault#ammonite-api_2.10.5;0.3.1-SNAPSHOT from imagej.public, using Wed Oct 21 11:44:30 CEST 2015\n",
      "\n",
      "\tSorting results from com.github.alexarchambault#ammonite-api_2.10.5;0.3.1-SNAPSHOT, using Wed Oct 21 11:44:30 CEST 2015 and Wed Oct 21 11:44:30 CEST 2015\n",
      "\n",
      "\tSorting results from com.github.alexarchambault#ammonite-api_2.10.5;0.3.1-SNAPSHOT, using Wed Oct 21 11:44:30 CEST 2015 and Wed Oct 21 11:44:30 CEST 2015\n",
      "\n",
      "\tChoosing imagej.public for com.github.alexarchambault#ammonite-api_2.10.5;0.3.1-SNAPSHOT\n",
      "\n",
      "\tUnable to reparse com.github.alexarchambault.jupyter#jupyter-api_2.10;0.2.0-SNAPSHOT from sonatype-snapshots, using Wed Oct 21 17:05:05 CEST 2015\n",
      "\n",
      "\tUnable to reparse com.github.alexarchambault.jupyter#jupyter-api_2.10;0.2.0-SNAPSHOT from imagej.public, using Wed Oct 21 17:05:05 CEST 2015\n",
      "\n",
      "\tSorting results from com.github.alexarchambault.jupyter#jupyter-api_2.10;0.2.0-SNAPSHOT, using Wed Oct 21 17:05:05 CEST 2015 and Wed Oct 21 17:05:05 CEST 2015\n",
      "\n",
      "\tSorting results from com.github.alexarchambault.jupyter#jupyter-api_2.10;0.2.0-SNAPSHOT, using Wed Oct 21 17:05:05 CEST 2015 and Wed Oct 21 17:05:05 CEST 2015\n",
      "\n",
      "\tChoosing imagej.public for com.github.alexarchambault.jupyter#jupyter-api_2.10;0.2.0-SNAPSHOT\n",
      "\n"
     ]
    },
    {
     "data": {
      "text/plain": []
     },
     "metadata": {},
     "output_type": "display_data"
    }
   ],
   "source": [
    "load.resolver(\"imagej.public\" at \"http://maven.imagej.net/content/groups/public\")\n",
    "load.ivy(\"net.imagej\" % \"imagej\" % \"2.0.0-rc-44\") // use % since %% adds scala version"
   ]
  },
  {
   "cell_type": "code",
   "execution_count": 2,
   "metadata": {
    "collapsed": false
   },
   "outputs": [
    {
     "data": {
      "text/plain": [
       "\u001b[32mimport \u001b[36mnet.imagej.ImageJ\u001b[0m\n",
       "\u001b[36mij\u001b[0m: net.imagej.ImageJ = net.imagej.ImageJ@3a03ad97"
      ]
     },
     "metadata": {},
     "output_type": "display_data"
    }
   ],
   "source": [
    "import net.imagej.ImageJ\n",
    "val ij = new ImageJ()"
   ]
  },
  {
   "cell_type": "code",
   "execution_count": 3,
   "metadata": {
    "collapsed": false
   },
   "outputs": [
    {
     "data": {
      "text/plain": [
       "\u001b[32mimport \u001b[36mnet.imagej.ops.Op\u001b[0m\n",
       "\u001b[32mimport \u001b[36mnet.imglib2.`type`.numeric.real.DoubleType\u001b[0m"
      ]
     },
     "metadata": {},
     "output_type": "display_data"
    }
   ],
   "source": [
    "import net.imagej.ops.Op\n",
    "import net.imglib2.`type`.numeric.real.DoubleType // since type is a keyword in scala"
   ]
  },
  {
   "cell_type": "code",
   "execution_count": 4,
   "metadata": {
    "collapsed": false
   },
   "outputs": [
    {
     "name": "stderr",
     "output_type": "stream",
     "text": [
      "[INFO] -------- How many ops? --------\n",
      "[INFO] Found 533 ops\n"
     ]
    },
    {
     "data": {
      "text/plain": [
       "\u001b[36mopCount\u001b[0m: Int = \u001b[32m533\u001b[0m"
      ]
     },
     "metadata": {},
     "output_type": "display_data"
    }
   ],
   "source": [
    "ij.log().info(\"-------- How many ops? --------\");\n",
    "val opCount = ij.command().getCommandsOfType(classOf[Op]).size();\n",
    "ij.log().info(\"Found \" + opCount + \" ops\");"
   ]
  },
  {
   "cell_type": "code",
   "execution_count": 5,
   "metadata": {
    "collapsed": false
   },
   "outputs": [
    {
     "name": "stderr",
     "output_type": "stream",
     "text": [
      "[INFO] -------- Learn about an op --------\n",
      "[INFO] Available operations:\n",
      "\t(ArrayImg image) =\n",
      "\tnet.imagej.ops.math.ConstantToArrayImageP$MultiplyDouble(\n",
      "\t\tArrayImg image,\n",
      "\t\tdouble value)\n",
      "\t(ArrayImg image) =\n",
      "\tnet.imagej.ops.math.ConstantToArrayImageP$MultiplyByte(\n",
      "\t\tArrayImg image,\n",
      "\t\tbyte value)\n",
      "\t(ArrayImg image) =\n",
      "\tnet.imagej.ops.math.ConstantToArrayImage$MultiplyDouble(\n",
      "\t\tArrayImg image,\n",
      "\t\tdouble value)\n",
      "\t(ArrayImg image) =\n",
      "\tnet.imagej.ops.math.ConstantToArrayImage$MultiplyByte(\n",
      "\t\tArrayImg image,\n",
      "\t\tbyte value)\n",
      "\t(Img out?) =\n",
      "\tnet.imagej.ops.math.IterableIntervalToImg$Multiply(\n",
      "\t\tImg out?,\n",
      "\t\tImg in,\n",
      "\t\tIterableInterval ii)\n",
      "\t(int result) =\n",
      "\tnet.imagej.ops.math.PrimitiveMath$IntegerMultiply(\n",
      "\t\tint a,\n",
      "\t\tint b)\n",
      "\t(long result) =\n",
      "\tnet.imagej.ops.math.PrimitiveMath$LongMultiply(\n",
      "\t\tlong a,\n",
      "\t\tlong b)\n",
      "\t(float result) =\n",
      "\tnet.imagej.ops.math.PrimitiveMath$FloatMultiply(\n",
      "\t\tfloat a,\n",
      "\t\tfloat b)\n",
      "\t(double result) =\n",
      "\tnet.imagej.ops.math.PrimitiveMath$DoubleMultiply(\n",
      "\t\tdouble a,\n",
      "\t\tdouble b)\n",
      "\t(IterableRealInterval image) =\n",
      "\tnet.imagej.ops.math.ConstantToImageInPlace$Multiply(\n",
      "\t\tIterableRealInterval image,\n",
      "\t\tNumericType value)\n",
      "\t(PlanarImg image) =\n",
      "\tnet.imagej.ops.math.ConstantToPlanarImage$MultiplyDouble(\n",
      "\t\tPlanarImg image,\n",
      "\t\tdouble value)\n",
      "\t(NumericType out?) =\n",
      "\tnet.imagej.ops.math.NumericTypeBinaryMath$Multiply(\n",
      "\t\tNumericType out?,\n",
      "\t\tNumericType in,\n",
      "\t\tNumericType b)\n",
      "\t(IterableInterval a) =\n",
      "\tnet.imagej.ops.math.RandomAccessibleIntervalToIterableInterval$Multiply(\n",
      "\t\tIterableInterval a,\n",
      "\t\tRandomAccessibleInterval b)\n",
      "\t(RealType out) =\n",
      "\tnet.imagej.ops.math.RealMath$Multiply(\n",
      "\t\tRealType out,\n",
      "\t\tRealType in,\n",
      "\t\tdouble constant)\n",
      "\t(RandomAccessibleInterval out) =\n",
      "\tnet.imagej.ops.math.ConstantToImageFunctional$Multiply(\n",
      "\t\tRandomAccessibleInterval out,\n",
      "\t\tIterableInterval in,\n",
      "\t\tNumericType value)\n"
     ]
    },
    {
     "data": {
      "text/plain": []
     },
     "metadata": {},
     "output_type": "display_data"
    }
   ],
   "source": [
    "ij.log().info(\"-------- Learn about an op --------\");\n",
    "ij.log().info(ij.op().help(\"math.mul\"));"
   ]
  },
  {
   "cell_type": "code",
   "execution_count": 6,
   "metadata": {
    "collapsed": false
   },
   "outputs": [
    {
     "name": "stderr",
     "output_type": "stream",
     "text": [
      "[INFO] -------- Add two numbers --------\n",
      "[INFO] What is 2 + 5? 7\n"
     ]
    },
    {
     "data": {
      "text/plain": [
       "\u001b[36mseven\u001b[0m: Int = \u001b[32m7\u001b[0m"
      ]
     },
     "metadata": {},
     "output_type": "display_data"
    }
   ],
   "source": [
    "ij.log().info(\"-------- Add two numbers --------\");\n",
    "val seven = ij.op().math().add(2, 5);\n",
    "ij.log().info(\"What is 2 + 5? \" + seven);"
   ]
  },
  {
   "cell_type": "code",
   "execution_count": 7,
   "metadata": {
    "collapsed": false
   },
   "outputs": [
    {
     "name": "stderr",
     "output_type": "stream",
     "text": [
      "[INFO] -------- Create a new blank image --------\n"
     ]
    },
    {
     "data": {
      "text/plain": [
       "\u001b[36mdims\u001b[0m: scala.Array[Long] = \u001b[33mArray\u001b[0m(\u001b[32m150\u001b[0mL, \u001b[32m100\u001b[0mL)\n",
       "\u001b[36mblank\u001b[0m: java.lang.Object = ArrayImg [150x100]"
      ]
     },
     "metadata": {},
     "output_type": "display_data"
    }
   ],
   "source": [
    "ij.log().info(\"-------- Create a new blank image --------\");\n",
    "val dims = Array(150L, 100L);\n",
    "val blank = ij.op().create().img(dims);"
   ]
  },
  {
   "cell_type": "code",
   "execution_count": 8,
   "metadata": {
    "collapsed": false
   },
   "outputs": [
    {
     "name": "stderr",
     "output_type": "stream",
     "text": [
      "[INFO] -------- Fill in an image with a formula --------\n",
      "[ERROR] Cannot create plugin: class='org.scijava.plugins.scripting.javascript.JavaScriptScriptLanguage', name='JavaScript', priority=0.0, enabled=true, pluginType=ScriptLanguage\n",
      "java.lang.IllegalArgumentException: No such script engine: javascript\n",
      "\tat org.scijava.script.AdaptedScriptLanguage.findFactory(AdaptedScriptLanguage.java:151)\n",
      "\tat org.scijava.script.AdaptedScriptLanguage.<init>(AdaptedScriptLanguage.java:73)\n",
      "\tat org.scijava.plugins.scripting.javascript.JavaScriptScriptLanguage.<init>(JavaScriptScriptLanguage.java:59)\n",
      "\tat sun.reflect.NativeConstructorAccessorImpl.newInstance0(Native Method)\n",
      "\tat sun.reflect.NativeConstructorAccessorImpl.newInstance(NativeConstructorAccessorImpl.java:62)\n",
      "\tat sun.reflect.DelegatingConstructorAccessorImpl.newInstance(DelegatingConstructorAccessorImpl.java:45)\n",
      "\tat java.lang.reflect.Constructor.newInstance(Constructor.java:422)\n",
      "\tat java.lang.Class.newInstance(Class.java:442)\n",
      "\tat org.scijava.plugin.PluginInfo.createInstance(PluginInfo.java:302)\n",
      "\tat org.scijava.plugin.DefaultPluginService.createInstance(DefaultPluginService.java:236)\n",
      "\tat org.scijava.plugin.DefaultPluginService.createInstances(DefaultPluginService.java:225)\n",
      "\tat org.scijava.plugin.DefaultPluginService.createInstancesOfType(DefaultPluginService.java:216)\n",
      "\tat org.scijava.plugin.AbstractSingletonService.initInstances(AbstractSingletonService.java:123)\n",
      "\tat org.scijava.plugin.AbstractSingletonService.getInstances(AbstractSingletonService.java:72)\n",
      "\tat org.scijava.script.DefaultScriptService.initScriptLanguageIndex(DefaultScriptService.java:342)\n",
      "\tat org.scijava.script.DefaultScriptService.scriptLanguageIndex(DefaultScriptService.java:307)\n",
      "\tat org.scijava.script.DefaultScriptService.getIndex(DefaultScriptService.java:117)\n",
      "\tat org.scijava.script.DefaultScriptService.getLanguageByName(DefaultScriptService.java:132)\n",
      "\tat net.imagej.ops.image.equation.DefaultEquation.compute1(DefaultEquation.java:87)\n",
      "\tat net.imagej.ops.image.equation.DefaultEquation.compute1(DefaultEquation.java:67)\n",
      "\tat net.imagej.ops.special.AbstractUnaryHybridOp.run(AbstractUnaryHybridOp.java:59)\n",
      "\tat org.scijava.command.CommandModule.run(CommandModule.java:201)\n",
      "\tat net.imagej.ops.OpUtils.run(OpUtils.java:59)\n",
      "\tat net.imagej.ops.OpEnvironment.run(OpEnvironment.java:126)\n",
      "\tat net.imagej.ops.image.ImageNamespace.equation(ImageNamespace.java:165)\n",
      "\tat cmd7$$user$$anonfun$3.apply(Main.scala:90)\n",
      "\tat cmd7$$user.<init>(Main.scala:91)\n",
      "\tat cmd7.<init>(Main.scala:95)\n",
      "\tat cmd7$.<init>(Main.scala:61)\n",
      "\tat cmd7$.<clinit>(Main.scala)\n",
      "\tat cmd7$Main$.$main(Main.scala:56)\n",
      "\tat cmd7$Main.$main(Main.scala)\n",
      "\tat sun.reflect.NativeMethodAccessorImpl.invoke0(Native Method)\n",
      "\tat sun.reflect.NativeMethodAccessorImpl.invoke(NativeMethodAccessorImpl.java:62)\n",
      "\tat sun.reflect.DelegatingMethodAccessorImpl.invoke(DelegatingMethodAccessorImpl.java:43)\n",
      "\tat java.lang.reflect.Method.invoke(Method.java:497)\n",
      "\tat ammonite.interpreter.Interpreter$$anonfun$process$1$$anonfun$apply$21$$anonfun$apply$24$$anonfun$apply$25$$anonfun$11.apply(Interpreter.scala:259)\n",
      "\tat ammonite.interpreter.Interpreter.evaluatorRunPrinter(Interpreter.scala:279)\n",
      "\tat ammonite.interpreter.Interpreter$$anonfun$process$1$$anonfun$apply$21$$anonfun$apply$24$$anonfun$apply$25.apply(Interpreter.scala:259)\n",
      "\tat ammonite.interpreter.Interpreter$$anonfun$process$1$$anonfun$apply$21$$anonfun$apply$24$$anonfun$apply$25.apply(Interpreter.scala:248)\n",
      "\tat ammonite.interpreter.Catching.map(Util.scala:75)\n",
      "\tat ammonite.interpreter.Interpreter$$anonfun$process$1$$anonfun$apply$21$$anonfun$apply$24.apply(Interpreter.scala:248)\n",
      "\tat ammonite.interpreter.Interpreter$$anonfun$process$1$$anonfun$apply$21$$anonfun$apply$24.apply(Interpreter.scala:246)\n",
      "\tat ammonite.interpreter.Res$Success.flatMap(Util.scala:27)\n",
      "\tat ammonite.interpreter.Interpreter$$anonfun$process$1$$anonfun$apply$21.apply(Interpreter.scala:246)\n",
      "\tat ammonite.interpreter.Interpreter$$anonfun$process$1$$anonfun$apply$21.apply(Interpreter.scala:244)\n",
      "\tat ammonite.interpreter.Res$Success.flatMap(Util.scala:27)\n",
      "\tat ammonite.interpreter.Interpreter$$anonfun$process$1.apply(Interpreter.scala:244)\n",
      "\tat ammonite.interpreter.Interpreter$$anonfun$process$1.apply(Interpreter.scala:243)\n",
      "\tat ammonite.interpreter.Res$Success.flatMap(Util.scala:27)\n",
      "\tat ammonite.interpreter.Interpreter.process(Interpreter.scala:243)\n",
      "\tat ammonite.interpreter.Interpreter$$anonfun$apply$6$$anonfun$apply$9$$anonfun$apply$10.apply(Interpreter.scala:202)\n",
      "\tat ammonite.interpreter.Interpreter$$anonfun$apply$6$$anonfun$apply$9$$anonfun$apply$10.apply(Interpreter.scala:201)\n",
      "\tat ammonite.interpreter.Capturing$$anonfun$apply$7.apply(Capture.scala:111)\n",
      "\tat ammonite.interpreter.Capture$$anonfun$ammonite$interpreter$Capture$$withErr$1.apply(Capture.scala:40)\n",
      "\tat scala.util.DynamicVariable.withValue(DynamicVariable.scala:57)\n",
      "\tat scala.Console$.withErr(Console.scala:148)\n",
      "\tat ammonite.interpreter.Capture$.ammonite$interpreter$Capture$$withErr(Capture.scala:36)\n",
      "\tat ammonite.interpreter.Capture$$anonfun$3.apply(Capture.scala:50)\n",
      "\tat ammonite.interpreter.Capture$$anonfun$withOut$1.apply(Capture.scala:31)\n",
      "\tat scala.util.DynamicVariable.withValue(DynamicVariable.scala:57)\n",
      "\tat scala.Console$.withOut(Console.scala:107)\n",
      "\tat ammonite.interpreter.Capture$.withOut(Capture.scala:27)\n",
      "\tat ammonite.interpreter.Capture$.withOutAndErr(Capture.scala:50)\n",
      "\tat ammonite.interpreter.Capture$.apply(Capture.scala:91)\n",
      "\tat ammonite.interpreter.Capturing.apply(Capture.scala:111)\n",
      "\tat ammonite.interpreter.Capturing.flatMap(Capture.scala:116)\n",
      "\tat ammonite.interpreter.Interpreter$$anonfun$apply$6$$anonfun$apply$9.apply(Interpreter.scala:201)\n",
      "\tat ammonite.interpreter.Interpreter$$anonfun$apply$6$$anonfun$apply$9.apply(Interpreter.scala:199)\n",
      "\tat ammonite.interpreter.Res$Success.flatMap(Util.scala:27)\n",
      "\tat ammonite.interpreter.Interpreter$$anonfun$apply$6.apply(Interpreter.scala:199)\n",
      "\tat ammonite.interpreter.Interpreter$$anonfun$apply$6.apply(Interpreter.scala:195)\n",
      "\tat ammonite.interpreter.Catching.flatMap(Util.scala:73)\n",
      "\tat ammonite.interpreter.Interpreter.apply(Interpreter.scala:195)\n",
      "\tat jupyter.scala.ScalaInterpreter$$anon$1.interpret(ScalaInterpreter.scala:189)\n",
      "\tat jupyter.kernel.interpreter.InterpreterHandler$$anonfun$execute$1$$anonfun$apply$6.apply(InterpreterHandler.scala:100)\n",
      "\tat jupyter.kernel.interpreter.InterpreterHandler$$anonfun$execute$1$$anonfun$apply$6.apply(InterpreterHandler.scala:82)\n",
      "\tat jupyter.kernel.interpreter.InterpreterHandler$$anonfun$jupyter$kernel$interpreter$InterpreterHandler$$publishing$1$$anonfun$4.apply(InterpreterHandler.scala:55)\n",
      "\tat jupyter.kernel.interpreter.InterpreterHandler$$anonfun$jupyter$kernel$interpreter$InterpreterHandler$$publishing$1$$anonfun$4.apply(InterpreterHandler.scala:55)\n",
      "\tat scalaz.concurrent.Task$.Try(Task.scala:379)\n",
      "\tat scalaz.concurrent.Task$$anonfun$unsafeStart$1.apply(Task.scala:290)\n",
      "\tat scalaz.concurrent.Task$$anonfun$unsafeStart$1.apply(Task.scala:290)\n",
      "\tat scalaz.concurrent.Future$$anonfun$apply$15$$anon$3.call(Future.scala:367)\n",
      "\tat scalaz.concurrent.Future$$anonfun$apply$15$$anon$3.call(Future.scala:367)\n",
      "\tat java.util.concurrent.FutureTask.run(FutureTask.java:266)\n",
      "\tat java.util.concurrent.ThreadPoolExecutor.runWorker(ThreadPoolExecutor.java:1142)\n",
      "\tat java.util.concurrent.ThreadPoolExecutor$Worker.run(ThreadPoolExecutor.java:617)\n",
      "\tat java.lang.Thread.run(Thread.java:745)\n"
     ]
    },
    {
     "ename": "",
     "evalue": "",
     "output_type": "error",
     "traceback": [
      "java.lang.NullPointerException",
      "\tnet.imagej.ops.image.equation.DefaultEquation.compute1(DefaultEquation.java:88)",
      "\tnet.imagej.ops.image.equation.DefaultEquation.compute1(DefaultEquation.java:67)",
      "\tnet.imagej.ops.special.AbstractUnaryHybridOp.run(AbstractUnaryHybridOp.java:59)",
      "\torg.scijava.command.CommandModule.run(CommandModule.java:201)",
      "\tnet.imagej.ops.OpUtils.run(OpUtils.java:59)",
      "\tnet.imagej.ops.OpEnvironment.run(OpEnvironment.java:126)",
      "\tnet.imagej.ops.image.ImageNamespace.equation(ImageNamespace.java:165)",
      "\tcmd7$$user$$anonfun$3.apply(Main.scala:90)"
     ]
    }
   ],
   "source": [
    "ij.log().info(\"-------- Fill in an image with a formula --------\");\n",
    "val formula = \"10 * (Math.cos(0.3*p[0]) + Math.sin(0.3*p[1]))\";\n",
    "val sinusoid = ij.op().image().equation(blank, formula);"
   ]
  },
  {
   "cell_type": "code",
   "execution_count": 9,
   "metadata": {
    "collapsed": false
   },
   "outputs": [
    {
     "ename": "",
     "evalue": "",
     "output_type": "error",
     "traceback": [
      "Compilation Failed",
      "\u001b[31mMain.scala:85: not found: value sinusoid",
      "ij.op().math().add(sinusoid, 13.0)",
      "                   ^\u001b[0m"
     ]
    }
   ],
   "source": [
    "ij.log().info(\"-------- Add a constant value to an image --------\");\n",
    "ij.op().math().add(sinusoid, 13.0);"
   ]
  },
  {
   "cell_type": "code",
   "execution_count": 10,
   "metadata": {
    "collapsed": false
   },
   "outputs": [
    {
     "name": "stderr",
     "output_type": "stream",
     "text": [
      "[INFO] -------- Generate gradient image using a formula --------\n"
     ]
    },
    {
     "ename": "",
     "evalue": "",
     "output_type": "error",
     "traceback": [
      "java.lang.NullPointerException",
      "\tnet.imagej.ops.image.equation.DefaultEquation.compute1(DefaultEquation.java:88)",
      "\tnet.imagej.ops.image.equation.DefaultEquation.compute1(DefaultEquation.java:67)",
      "\tnet.imagej.ops.special.AbstractUnaryHybridOp.run(AbstractUnaryHybridOp.java:59)",
      "\torg.scijava.command.CommandModule.run(CommandModule.java:201)",
      "\tnet.imagej.ops.OpUtils.run(OpUtils.java:59)",
      "\tnet.imagej.ops.OpEnvironment.run(OpEnvironment.java:126)",
      "\tnet.imagej.ops.image.ImageNamespace.equation(ImageNamespace.java:165)",
      "\tcmd8$$user$$anonfun$3.apply(Main.scala:90)"
     ]
    }
   ],
   "source": [
    "ij.log().info(\"-------- Generate gradient image using a formula --------\");\n",
    "val gBlank = ij.op().create().img(dims);\n",
    "val gradient = ij.op().image().equation(gBlank, \"p[0]+p[1]\");"
   ]
  },
  {
   "cell_type": "code",
   "execution_count": 11,
   "metadata": {
    "collapsed": false
   },
   "outputs": [
    {
     "ename": "",
     "evalue": "",
     "output_type": "error",
     "traceback": [
      "Compilation Failed",
      "\u001b[31mMain.scala:85: not found: value sinusoid",
      "ij.op().math().add(sinusoid, gradient) ",
      "                   ^\u001b[0m"
     ]
    }
   ],
   "source": [
    "ij.log().info(\"-------- Add two images --------\");\n",
    "val composite = ij.op().math().add(sinusoid, gradient);"
   ]
  },
  {
   "cell_type": "code",
   "execution_count": 12,
   "metadata": {
    "collapsed": false
   },
   "outputs": [
    {
     "ename": "",
     "evalue": "",
     "output_type": "error",
     "traceback": [
      "Compilation Failed",
      "\u001b[31mMain.scala:85: not found: value composite",
      "ij.op().image().ascii(composite) ",
      "                      ^\u001b[0m"
     ]
    }
   ],
   "source": [
    "ij.log().info(\"-------- Dump an image to the console --------\");\n",
    "val ascii = ij.op().image().ascii(composite);\n",
    "ij.log().info(\"Composite image:\\n\" + ascii);"
   ]
  },
  {
   "cell_type": "code",
   "execution_count": 13,
   "metadata": {
    "collapsed": false
   },
   "outputs": [
    {
     "ename": "",
     "evalue": "",
     "output_type": "error",
     "traceback": [
      "Compilation Failed",
      "\u001b[31mMain.scala:85: not found: value composite",
      "ij.ui().show(\"composite\", composite)",
      "                          ^\u001b[0m"
     ]
    }
   ],
   "source": [
    "ij.log().info(\"-------- Show the image in a window --------\");\n",
    "ij.ui().show(\"composite\", composite);"
   ]
  },
  {
   "cell_type": "code",
   "execution_count": 14,
   "metadata": {
    "collapsed": false
   },
   "outputs": [
    {
     "ename": "",
     "evalue": "",
     "output_type": "error",
     "traceback": [
      "Compilation Failed",
      "\u001b[31mMain.scala:89: not found: value composite",
      "ij.op().map(composite, composite, addOp)",
      "            ^\u001b[0m"
     ]
    }
   ],
   "source": [
    "ij.log().info(\"-------- Execute op on every pixel of an image --------\");\n",
    "val addOp = ij.op().op(\"math.add\", classOf[DoubleType], new DoubleType(5.0));\n",
    "ij.op().map(composite, composite, addOp);\n",
    "\n",
    "ij.log().info(\"-------- All done! --------\");"
   ]
  },
  {
   "cell_type": "code",
   "execution_count": null,
   "metadata": {
    "collapsed": true
   },
   "outputs": [],
   "source": []
  }
 ],
 "metadata": {
  "kernelspec": {
   "display_name": "Scala 2.10",
   "language": "scala210",
   "name": "scala210"
  },
  "language_info": {
   "codemirror_mode": "text/x-scala",
   "file_extension": "scala",
   "mimetype": "text/x-scala",
   "name": "scala210",
   "pygments_lexer": "scala",
   "version": "2.10.5"
  }
 },
 "nbformat": 4,
 "nbformat_minor": 0
}
