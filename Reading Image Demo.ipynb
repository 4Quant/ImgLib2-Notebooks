{
 "cells": [
  {
   "cell_type": "markdown",
   "metadata": {},
   "source": [
    "# IO Tests\n",
    "Based on a few of the examples from the [ImageJ tutorials](https://github.com/imagej/imagej-tutorials/tree/master/)"
   ]
  },
  {
   "cell_type": "code",
   "execution_count": 1,
   "metadata": {
    "collapsed": false
   },
   "outputs": [
    {
     "name": "stdout",
     "output_type": "stream",
     "text": [
      "22 new artifact(s)"
     ]
    },
    {
     "name": "stderr",
     "output_type": "stream",
     "text": [
      "22 new artifacts in macro"
     ]
    },
    {
     "name": "stdout",
     "output_type": "stream",
     "text": [
      "\n"
     ]
    },
    {
     "name": "stderr",
     "output_type": "stream",
     "text": [
      "\n",
      "22 new artifacts in runtime\n",
      "22 new artifacts in compile\n"
     ]
    },
    {
     "name": "stdout",
     "output_type": "stream",
     "text": [
      "2 new artifact(s)"
     ]
    },
    {
     "name": "stderr",
     "output_type": "stream",
     "text": [
      "2 new artifacts in macro"
     ]
    },
    {
     "name": "stdout",
     "output_type": "stream",
     "text": [
      "\n"
     ]
    },
    {
     "name": "stderr",
     "output_type": "stream",
     "text": [
      "\n",
      "2 new artifacts in runtime\n",
      "2 new artifacts in compile\n"
     ]
    },
    {
     "data": {
      "text/plain": []
     },
     "metadata": {},
     "output_type": "display_data"
    }
   ],
   "source": [
    "classpath.addRepository(\"http://maven.imagej.net/content/groups/public\")\n",
    "classpath.add(\"net.imagej\" % \"imagej\" % \"2.0.0-rc-50\") // use % since %% adds scala version\n",
    "classpath.add(\"de.christophkraemer\" % \"rhino-script-engine\" % \"1.1.0\")  // since it's not in the classpath with notebooks per default"
   ]
  },
  {
   "cell_type": "code",
   "execution_count": 2,
   "metadata": {
    "collapsed": false
   },
   "outputs": [
    {
     "data": {
      "text/plain": [
       "defined \u001b[32mclass \u001b[36mpreviewDataset\u001b[0m\n",
       "\u001b[32mimport \u001b[36mnet.imglib2.`type`.numeric.RealType\u001b[0m\n",
       "defined \u001b[32mclass \u001b[36mdsImgPlus\u001b[0m"
      ]
     },
     "metadata": {},
     "output_type": "display_data"
    }
   ],
   "source": [
    "/** add a preview command to show the data **/\n",
    "implicit class previewDataset(curSet: net.imagej.Dataset)(implicit ij: net.imagej.ImageJ) {\n",
    "    /** saves the file to a temporary directory, read it in again as a bytearray and feed it to the jupyter function **/\n",
    "    def preview() = {\n",
    "        val tFile = java.io.File.createTempFile(\"jupy\",\".jpg\")\n",
    "        ij.scifio().datasetIO().save(curSet,tFile.getPath())\n",
    "        val imgFIS = new java.io.FileInputStream(tFile.getPath())\n",
    "        val out = new Array[Byte](imgFIS.getChannel().size().toInt)\n",
    "        imgFIS.read(out)\n",
    "        display.jpg(out)\n",
    "    }\n",
    "}\n",
    "import net.imglib2.`type`.numeric.RealType\n",
    "implicit class dsImgPlus[T <: RealType[T], U <: net.imglib2.img.Img[T]](curImg: U)(implicit ij: net.imagej.ImageJ) {\n",
    "    def toDataset() = {\n",
    "        new net.imagej.DefaultDataset(ij.getContext(),net.imagej.ImgPlus.wrap(curImg))\n",
    "    }\n",
    "    def preview(): Unit = toDataset().preview()\n",
    "}"
   ]
  },
  {
   "cell_type": "code",
   "execution_count": 3,
   "metadata": {
    "collapsed": false
   },
   "outputs": [
    {
     "data": {
      "text/plain": [
       "\u001b[36mij\u001b[0m: \u001b[32mnet\u001b[0m.\u001b[32mimagej\u001b[0m.\u001b[32mImageJ\u001b[0m = net.imagej.ImageJ@15dcce44"
      ]
     },
     "metadata": {},
     "output_type": "display_data"
    }
   ],
   "source": [
    "implicit val ij = new net.imagej.ImageJ() // so it stays in the namespace\n",
    "ij.ui().setDefaultUI(ij.ui().getUI(\"swing\"))"
   ]
  },
  {
   "cell_type": "code",
   "execution_count": 4,
   "metadata": {
    "collapsed": false
   },
   "outputs": [
    {
     "data": {
      "text/plain": [
       "\u001b[36mdataset\u001b[0m: \u001b[32mnet\u001b[0m.\u001b[32mimagej\u001b[0m.\u001b[32mDataset\u001b[0m = Ocean.png"
      ]
     },
     "metadata": {},
     "output_type": "display_data"
    }
   ],
   "source": [
    "val dataset = ij.scifio().datasetIO().open(\"sample-data/Ocean.png\");"
   ]
  },
  {
   "cell_type": "code",
   "execution_count": 5,
   "metadata": {
    "collapsed": false
   },
   "outputs": [
    {
     "data": {
      "image/jpeg": "[encoded data removed]"
     },
     "metadata": {},
     "output_type": "display_data"
    },
    {
     "data": {
      "text/plain": []
     },
     "metadata": {},
     "output_type": "display_data"
    }
   ],
   "source": [
    "dataset.preview() // show inline"
   ]
  },
  {
   "cell_type": "code",
   "execution_count": 6,
   "metadata": {
    "collapsed": false
   },
   "outputs": [
    {
     "ename": "",
     "evalue": "",
     "output_type": "error",
     "traceback": [
      "java.lang.NullPointerException",
      "  org.scijava.ui.DefaultUIService.show(DefaultUIService.java:260)",
      "  cmd5$$user$$anonfun$1.apply$mcV$sp(Main.scala:32)"
     ]
    }
   ],
   "source": [
    "ij.ui().show(dataset) // show in a new window"
   ]
  },
  {
   "cell_type": "code",
   "execution_count": 7,
   "metadata": {
    "collapsed": false
   },
   "outputs": [
    {
     "data": {
      "text/plain": [
       "\u001b[36mres6\u001b[0m: \u001b[32mio\u001b[0m.\u001b[32mscif\u001b[0m.\u001b[32mMetadata\u001b[0m = io.scif.formats.APNGFormat$Metadata@39a113e7"
      ]
     },
     "metadata": {},
     "output_type": "display_data"
    }
   ],
   "source": [
    "ij.scifio().datasetIO().save(dataset,\"test.png\") // save the data elsewhere"
   ]
  }
 ],
 "metadata": {
  "kernelspec": {
   "display_name": "Scala 2.11",
   "language": "scala211",
   "name": "scala211"
  },
  "language_info": {
   "codemirror_mode": "text/x-scala",
   "file_extension": ".scala",
   "mimetype": "text/x-scala",
   "name": "scala211",
   "pygments_lexer": "scala",
   "version": "2.11.8"
  }
 },
 "nbformat": 4,
 "nbformat_minor": 0
}
